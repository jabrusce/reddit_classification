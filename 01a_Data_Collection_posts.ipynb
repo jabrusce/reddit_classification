{
 "cells": [
  {
   "cell_type": "markdown",
   "metadata": {},
   "source": [
    "# Import Libraries"
   ]
  },
  {
   "cell_type": "code",
   "execution_count": 1,
   "metadata": {},
   "outputs": [],
   "source": [
    "import pandas as pd\n",
    "import requests\n",
    "import numpy as np\n",
    "import time"
   ]
  },
  {
   "cell_type": "markdown",
   "metadata": {},
   "source": [
    "# Subreddit: Science (Posts)"
   ]
  },
  {
   "cell_type": "code",
   "execution_count": 34,
   "metadata": {
    "collapsed": true,
    "jupyter": {
     "outputs_hidden": true
    }
   },
   "outputs": [
    {
     "name": "stdout",
     "output_type": "stream",
     "text": [
      "pull number 1 Complete utc is 1610569820\n",
      "pull number 2 Complete utc is 1610342044\n",
      "pull number 3 Complete utc is 1610114622\n",
      "pull number 4 Complete utc is 1609904403\n",
      "pull number 5 Complete utc is 1609711522\n",
      "pull number 6 Complete utc is 1609481478\n",
      "pull number 7 Complete utc is 1609257461\n",
      "pull number 8 Complete utc is 1609007282\n",
      "pull number 9 Complete utc is 1608759164\n",
      "pull number 10 Complete utc is 1608587890\n",
      "pull number 11 Complete utc is 1608399608\n",
      "pull number 12 Complete utc is 1608157516\n",
      "pull number 13 Complete utc is 1607973882\n",
      "pull number 14 Complete utc is 1607758022\n",
      "pull number 15 Complete utc is 1607654102\n",
      "pull number 16 Complete utc is 1607559775\n",
      "pull number 17 Complete utc is 1607409368\n",
      "pull number 18 Complete utc is 1607240965\n",
      "pull number 19 Complete utc is 1606992089\n",
      "pull number 20 Complete utc is 1606839207\n",
      "pull number 21 Complete utc is 1606689907\n",
      "pull number 22 Complete utc is 1606492560\n",
      "pull number 23 Complete utc is 1606323778\n",
      "pull number 24 Complete utc is 1606145909\n",
      "pull number 25 Complete utc is 1605924846\n",
      "pull number 26 Complete utc is 1605711132\n",
      "pull number 27 Complete utc is 1605517392\n",
      "pull number 28 Complete utc is 1605244840\n",
      "pull number 29 Complete utc is 1605084362\n",
      "pull number 30 Complete utc is 1604923435\n",
      "pull number 31 Complete utc is 1604738561\n",
      "pull number 32 Complete utc is 1604492500\n",
      "pull number 33 Complete utc is 1604374958\n",
      "pull number 34 Complete utc is 1604314504\n",
      "pull number 35 Complete utc is 1604179103\n",
      "pull number 36 Complete utc is 1604074080\n",
      "pull number 37 Complete utc is 1603979713\n",
      "pull number 38 Complete utc is 1603897358\n",
      "pull number 39 Complete utc is 1603800534\n",
      "pull number 40 Complete utc is 1603711690\n",
      "pull number 41 Complete utc is 1603555216\n",
      "pull number 42 Complete utc is 1603416809\n",
      "pull number 43 Complete utc is 1603332829\n",
      "pull number 44 Complete utc is 1603275031\n",
      "pull number 45 Complete utc is 1603197910\n",
      "pull number 46 Complete utc is 1603000176\n",
      "pull number 47 Complete utc is 1602870131\n",
      "pull number 48 Complete utc is 1602794411\n",
      "pull number 49 Complete utc is 1602728313\n",
      "pull number 50 Complete utc is 1602633894\n"
     ]
    }
   ],
   "source": [
    "# This function will collect 100 posts for the subreddit specified \n",
    "# and loop over the function 50 times (5000 posts total)\n",
    "\n",
    "utc = 1610798400\n",
    "#Jan 16 2021 @ 12:00:00 PM GMT\n",
    "\n",
    "posts_master = pd.DataFrame(columns = ['subreddit', 'title', 'selftext', 'author', 'created_utc', 'upvote_ratio', 'full_link',\n",
    "                                       'num_comments', 'num_crossposts', 'total_awards_received', 'score', 'over_18'])\n",
    "\n",
    "for pull in range(50):\n",
    "    try:\n",
    "        query = f'https://api.pushshift.io/reddit/search/submission/?subreddit=science&size=100&before={utc}'\n",
    "        res = requests.get(query)\n",
    "        data = res.json()['data']\n",
    "        pull_dict = {\n",
    "            'title': [],\n",
    "            'subreddit': [],\n",
    "            'created_utc': [],\n",
    "            'selftext': [],\n",
    "            'author': [],\n",
    "            'upvote_ratio': [],\n",
    "            'full_link': [],            \n",
    "            'num_comments': [],\n",
    "            'num_crossposts': [],\n",
    "            'total_awards_received': [],\n",
    "            'score': [],\n",
    "#             'over_18': []\n",
    "        }\n",
    "        for i in data:\n",
    "            pull_dict['title'].append(i['title'])\n",
    "            pull_dict['subreddit'].append(i['subreddit'])\n",
    "            pull_dict['created_utc'].append(i['created_utc'])\n",
    "            pull_dict['selftext'].append(i['selftext'])\n",
    "            pull_dict['author'].append(i['author'])\n",
    "            pull_dict['upvote_ratio'].append(i['upvote_ratio'])\n",
    "            pull_dict['full_link'].append(i['full_link'])\n",
    "            pull_dict['num_comments'].append(i['num_comments'])\n",
    "            pull_dict['num_crossposts'].append(i['num_crossposts'])\n",
    "            pull_dict['total_awards_received'].append(i['total_awards_received'])\n",
    "            pull_dict['score'].append(i['score'])\n",
    "#             pull_dict['over_18'].append(i['over_18'])\n",
    "        temp_posts = pd.DataFrame(pull_dict)\n",
    "        posts_master = pd.concat([posts_master, temp_posts])\n",
    "        utc = posts_master['created_utc'].astype('int64').min()\n",
    "        time.sleep(75)\n",
    "        print(f'pull number {pull + 1} Complete utc is {utc}') \n",
    "    except:\n",
    "        print('error')\n",
    "        pass"
   ]
  },
  {
   "cell_type": "code",
   "execution_count": 35,
   "metadata": {},
   "outputs": [
    {
     "data": {
      "text/plain": [
       "(5000, 12)"
      ]
     },
     "execution_count": 35,
     "metadata": {},
     "output_type": "execute_result"
    }
   ],
   "source": [
    "posts_master.shape"
   ]
  },
  {
   "cell_type": "markdown",
   "metadata": {},
   "source": [
    "### Export to csv"
   ]
  },
  {
   "cell_type": "code",
   "execution_count": 36,
   "metadata": {},
   "outputs": [],
   "source": [
    "# science_pull_2 = posts_master\n",
    "# science_pull_2.to_csv('./data/science_pull_2.csv')"
   ]
  },
  {
   "cell_type": "markdown",
   "metadata": {},
   "source": [
    "# Subreddit: Technology (Posts)"
   ]
  },
  {
   "cell_type": "code",
   "execution_count": 37,
   "metadata": {
    "collapsed": true,
    "jupyter": {
     "outputs_hidden": true
    }
   },
   "outputs": [
    {
     "name": "stdout",
     "output_type": "stream",
     "text": [
      "pull number 1 Complete utc is 1610755435\n",
      "pull number 2 Complete utc is 1610720650\n",
      "pull number 3 Complete utc is 1610703607\n",
      "pull number 4 Complete utc is 1610679821\n",
      "pull number 5 Complete utc is 1610646136\n",
      "pull number 6 Complete utc is 1610626959\n",
      "pull number 7 Complete utc is 1610596503\n",
      "pull number 8 Complete utc is 1610576410\n",
      "pull number 9 Complete utc is 1610548932\n",
      "pull number 10 Complete utc is 1610505910\n",
      "pull number 11 Complete utc is 1610471886\n",
      "pull number 12 Complete utc is 1610429398\n",
      "pull number 13 Complete utc is 1610383091\n",
      "pull number 14 Complete utc is 1610351954\n",
      "pull number 15 Complete utc is 1610306050\n",
      "pull number 16 Complete utc is 1610272904\n",
      "pull number 17 Complete utc is 1610208403\n",
      "pull number 18 Complete utc is 1610149685\n",
      "pull number 19 Complete utc is 1610107743\n",
      "pull number 20 Complete utc is 1610076976\n",
      "pull number 21 Complete utc is 1610053745\n",
      "pull number 22 Complete utc is 1610021000\n",
      "pull number 23 Complete utc is 1609986957\n",
      "pull number 24 Complete utc is 1609956770\n",
      "pull number 25 Complete utc is 1609928705\n",
      "pull number 26 Complete utc is 1609876146\n",
      "pull number 27 Complete utc is 1609852806\n",
      "pull number 28 Complete utc is 1609825944\n",
      "pull number 29 Complete utc is 1609767476\n",
      "pull number 30 Complete utc is 1609743711\n",
      "pull number 31 Complete utc is 1609643468\n",
      "pull number 32 Complete utc is 1609527579\n",
      "pull number 33 Complete utc is 1609430502\n",
      "pull number 34 Complete utc is 1609362268\n",
      "pull number 35 Complete utc is 1609325729\n",
      "pull number 36 Complete utc is 1609278731\n",
      "pull number 37 Complete utc is 1609246986\n",
      "pull number 38 Complete utc is 1609221605\n",
      "pull number 39 Complete utc is 1609169300\n",
      "pull number 40 Complete utc is 1609146002\n",
      "pull number 41 Complete utc is 1609030923\n",
      "pull number 42 Complete utc is 1608918694\n",
      "pull number 43 Complete utc is 1608820655\n",
      "pull number 44 Complete utc is 1608763080\n",
      "pull number 45 Complete utc is 1608712635\n",
      "pull number 46 Complete utc is 1608687010\n",
      "pull number 47 Complete utc is 1608649747\n",
      "pull number 48 Complete utc is 1608633434\n",
      "pull number 49 Complete utc is 1608586695\n",
      "pull number 50 Complete utc is 1608547062\n"
     ]
    }
   ],
   "source": [
    "# This function will collect 100 posts for the subreddit specified \n",
    "# and loop over the function 50 times (5000 posts total)\n",
    "\n",
    "utc = 1610798400\n",
    "#Jan 16 2021 @ 12:00:00 PM GMT\n",
    "\n",
    "posts_master = pd.DataFrame(columns = ['subreddit', 'title', 'selftext', 'author', 'created_utc', 'upvote_ratio', 'full_link',\n",
    "                                       'num_comments', 'num_crossposts', 'total_awards_received', 'score', 'over_18'])\n",
    "\n",
    "for pull in range(50):\n",
    "    try:\n",
    "        query = f'https://api.pushshift.io/reddit/search/submission/?subreddit=technology&size=100&before={utc}'\n",
    "        res = requests.get(query)\n",
    "        data = res.json()['data']\n",
    "        pull_dict = {\n",
    "            'title': [],\n",
    "            'subreddit': [],\n",
    "            'created_utc': [],\n",
    "#             'selftext': [],\n",
    "            'author': [],\n",
    "            'upvote_ratio': [],\n",
    "            'full_link': [],            \n",
    "            'num_comments': [],\n",
    "            'num_crossposts': [],\n",
    "            'total_awards_received': [],\n",
    "            'score': [],\n",
    "#             'over_18': []\n",
    "        }\n",
    "        for i in data:\n",
    "            pull_dict['title'].append(i['title'])\n",
    "            pull_dict['subreddit'].append(i['subreddit'])\n",
    "            pull_dict['created_utc'].append(i['created_utc'])\n",
    "#             pull_dict['selftext'].append(i['selftext'])\n",
    "            pull_dict['author'].append(i['author'])\n",
    "            pull_dict['upvote_ratio'].append(i['upvote_ratio'])\n",
    "            pull_dict['full_link'].append(i['full_link'])\n",
    "            pull_dict['num_comments'].append(i['num_comments'])\n",
    "            pull_dict['num_crossposts'].append(i['num_crossposts'])\n",
    "            pull_dict['total_awards_received'].append(i['total_awards_received'])\n",
    "            pull_dict['score'].append(i['score'])\n",
    "#             pull_dict['over_18'].append(i['over_18'])\n",
    "        temp_posts = pd.DataFrame(pull_dict)\n",
    "        posts_master = pd.concat([posts_master, temp_posts])\n",
    "        utc = posts_master['created_utc'].astype('int64').min()\n",
    "        time.sleep(75)\n",
    "        print(f'pull number {pull + 1} Complete utc is {utc}') \n",
    "    except:\n",
    "        print('error')\n",
    "        pass"
   ]
  },
  {
   "cell_type": "code",
   "execution_count": 38,
   "metadata": {},
   "outputs": [
    {
     "data": {
      "text/plain": [
       "(5000, 12)"
      ]
     },
     "execution_count": 38,
     "metadata": {},
     "output_type": "execute_result"
    }
   ],
   "source": [
    "posts_master.shape"
   ]
  },
  {
   "cell_type": "markdown",
   "metadata": {},
   "source": [
    "### Export to csv"
   ]
  },
  {
   "cell_type": "code",
   "execution_count": 1,
   "metadata": {},
   "outputs": [],
   "source": [
    "# technology_pull_2 = posts_master\n",
    "# technology_pull_2.to_csv('./data/technology_pull_2.csv')"
   ]
  }
 ],
 "metadata": {
  "kernelspec": {
   "display_name": "Python 3",
   "language": "python",
   "name": "python3"
  },
  "language_info": {
   "codemirror_mode": {
    "name": "ipython",
    "version": 3
   },
   "file_extension": ".py",
   "mimetype": "text/x-python",
   "name": "python",
   "nbconvert_exporter": "python",
   "pygments_lexer": "ipython3",
   "version": "3.8.5"
  }
 },
 "nbformat": 4,
 "nbformat_minor": 4
}
