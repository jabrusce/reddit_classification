{
 "cells": [
  {
   "cell_type": "markdown",
   "metadata": {},
   "source": [
    "# Import Libraries and Clean Data"
   ]
  },
  {
   "cell_type": "code",
   "execution_count": 1,
   "metadata": {},
   "outputs": [],
   "source": [
    "import pandas as pd\n",
    "import numpy as np\n",
    "import matplotlib.pyplot as plt\n",
    "\n",
    "from sklearn.feature_extraction.text import CountVectorizer\n",
    "from sklearn.linear_model import LogisticRegression\n",
    "from sklearn.naive_bayes import MultinomialNB\n",
    "from sklearn.pipeline import make_pipeline\n",
    "from sklearn.preprocessing import StandardScaler\n",
    "from sklearn.model_selection import train_test_split, GridSearchCV, cross_val_score\n",
    "from sklearn.feature_extraction.text import TfidfVectorizer\n",
    "from sklearn.metrics import plot_confusion_matrix, balanced_accuracy_score, f1_score, recall_score, precision_score\n",
    "\n",
    "from sklearn.tree import DecisionTreeClassifier, plot_tree\n",
    "\n",
    "import nltk\n",
    "from nltk.stem import WordNetLemmatizer\n",
    "from nltk.stem.porter import PorterStemmer\n",
    "from nltk.tokenize import RegexpTokenizer"
   ]
  },
  {
   "cell_type": "code",
   "execution_count": 2,
   "metadata": {},
   "outputs": [],
   "source": [
    "subreddits = pd.read_csv('./data/posts_combined_clean.csv')"
   ]
  },
  {
   "cell_type": "code",
   "execution_count": 3,
   "metadata": {},
   "outputs": [
    {
     "data": {
      "text/plain": [
       "(7976, 10)"
      ]
     },
     "execution_count": 3,
     "metadata": {},
     "output_type": "execute_result"
    }
   ],
   "source": [
    "subreddits.shape"
   ]
  },
  {
   "cell_type": "markdown",
   "metadata": {},
   "source": [
    "# Decision Tree Model"
   ]
  },
  {
   "cell_type": "markdown",
   "metadata": {},
   "source": [
    "### X, y, train test split"
   ]
  },
  {
   "cell_type": "code",
   "execution_count": 4,
   "metadata": {},
   "outputs": [],
   "source": [
    "X = subreddits['title']\n",
    "y = subreddits['subreddit']"
   ]
  },
  {
   "cell_type": "code",
   "execution_count": 5,
   "metadata": {},
   "outputs": [],
   "source": [
    "X_train, X_test, y_train, y_test = train_test_split(X, y, random_state=123)"
   ]
  },
  {
   "cell_type": "markdown",
   "metadata": {},
   "source": [
    "### Baseline Model"
   ]
  },
  {
   "cell_type": "code",
   "execution_count": 6,
   "metadata": {},
   "outputs": [
    {
     "data": {
      "text/plain": [
       "science       0.572091\n",
       "technology    0.427909\n",
       "Name: subreddit, dtype: float64"
      ]
     },
     "execution_count": 6,
     "metadata": {},
     "output_type": "execute_result"
    }
   ],
   "source": [
    "y.value_counts(normalize=True)"
   ]
  },
  {
   "cell_type": "code",
   "execution_count": 7,
   "metadata": {},
   "outputs": [],
   "source": [
    "# the target in the dataset for posts was split approximately 57% for r/science.\n",
    "# This will be the baseline model - if we guessed r/science each time we would \n",
    "# be correct 57% of the time"
   ]
  },
  {
   "cell_type": "markdown",
   "metadata": {},
   "source": [
    "### Modeling"
   ]
  },
  {
   "cell_type": "code",
   "execution_count": 8,
   "metadata": {},
   "outputs": [],
   "source": [
    "tree_pipe = make_pipeline(\n",
    "    CountVectorizer(),\n",
    "    StandardScaler(with_mean=False),\n",
    "    DecisionTreeClassifier(),\n",
    ")"
   ]
  },
  {
   "cell_type": "code",
   "execution_count": 9,
   "metadata": {},
   "outputs": [
    {
     "data": {
      "text/plain": [
       "Pipeline(steps=[('countvectorizer', CountVectorizer()),\n",
       "                ('standardscaler', StandardScaler(with_mean=False)),\n",
       "                ('decisiontreeclassifier', DecisionTreeClassifier())])"
      ]
     },
     "execution_count": 9,
     "metadata": {},
     "output_type": "execute_result"
    }
   ],
   "source": [
    "tree_pipe.fit(X_train, y_train)"
   ]
  },
  {
   "cell_type": "markdown",
   "metadata": {},
   "source": [
    "### Model Scoring"
   ]
  },
  {
   "cell_type": "code",
   "execution_count": 10,
   "metadata": {},
   "outputs": [],
   "source": [
    "preds_tree = tree_pipe.predict(X_test)"
   ]
  },
  {
   "cell_type": "code",
   "execution_count": 11,
   "metadata": {},
   "outputs": [],
   "source": [
    "precision_tree = precision_score(y_test, preds_tree, pos_label='science')\n",
    "recall_tree = recall_score(y_test, preds_tree, pos_label='science')\n",
    "f1_tree = 2 * (precision_tree * recall_tree) / (precision_tree + recall_tree)"
   ]
  },
  {
   "cell_type": "code",
   "execution_count": 12,
   "metadata": {},
   "outputs": [
    {
     "name": "stdout",
     "output_type": "stream",
     "text": [
      "The accuracy training score is    0.9998328318288198\n",
      "The accuracy testing score is     0.7938816449348044\n",
      "The bac score is                  0.7891253269042171\n",
      "The f1_score score is             0.8185430463576159\n",
      "The precision is                  0.8096069868995633\n",
      "The recall is                     0.8276785714285714\n"
     ]
    }
   ],
   "source": [
    "print(f'The accuracy training score is    {tree_pipe.score(X_train, y_train)}')\n",
    "print(f'The accuracy testing score is     {tree_pipe.score(X_test, y_test)}')\n",
    "print(f'The bac score is                  {balanced_accuracy_score(y_test, tree_pipe.predict(X_test))}')\n",
    "print(f'The f1_score score is             {f1_tree}')\n",
    "print(f'The precision is                  {precision_tree}')\n",
    "print(f'The recall is                     {recall_tree}')"
   ]
  },
  {
   "cell_type": "markdown",
   "metadata": {},
   "source": [
    "- Baseline decision tree is overfit\n",
    "- The model fit the training data almost perfectly, but fit the testing data worse.\n",
    "- The f1 score and balanced accuracy score did worse than the Logistic and Naive Bayes models."
   ]
  },
  {
   "cell_type": "markdown",
   "metadata": {},
   "source": [
    "### Decision Tree Grid Search Parameters"
   ]
  },
  {
   "cell_type": "code",
   "execution_count": 13,
   "metadata": {},
   "outputs": [
    {
     "name": "stdout",
     "output_type": "stream",
     "text": [
      "The accuracy training score is    0.9998328318288198\n",
      "The accuracy testing score is     0.7873620862587764\n"
     ]
    }
   ],
   "source": [
    "tree_pipe = make_pipeline(\n",
    "    CountVectorizer(),\n",
    "    StandardScaler(with_mean=False),\n",
    "    DecisionTreeClassifier(),\n",
    ")\n",
    "tree_pipe.fit(X_train, y_train)\n",
    "print(f'The accuracy training score is    {tree_pipe.score(X_train, y_train)}')\n",
    "print(f'The accuracy testing score is     {tree_pipe.score(X_test, y_test)}')"
   ]
  },
  {
   "cell_type": "code",
   "execution_count": 14,
   "metadata": {},
   "outputs": [],
   "source": [
    "params = {\n",
    "    'decisiontreeclassifier__max_depth': [2, 5, 7, 10, 30],\n",
    "    'decisiontreeclassifier__min_samples_split': [5, 10, 20, 50],\n",
    "    'decisiontreeclassifier__min_samples_leaf': [2, 5, 10, 20],\n",
    "    'decisiontreeclassifier__ccp_alpha': [0.0001, 0.001, 0.01, 0.1, 0, 1, 10],\n",
    "}"
   ]
  },
  {
   "cell_type": "code",
   "execution_count": 15,
   "metadata": {},
   "outputs": [],
   "source": [
    "grid = GridSearchCV(tree_pipe, param_grid = params, n_jobs=-1)"
   ]
  },
  {
   "cell_type": "code",
   "execution_count": 16,
   "metadata": {},
   "outputs": [
    {
     "data": {
      "text/plain": [
       "GridSearchCV(estimator=Pipeline(steps=[('countvectorizer', CountVectorizer()),\n",
       "                                       ('standardscaler',\n",
       "                                        StandardScaler(with_mean=False)),\n",
       "                                       ('decisiontreeclassifier',\n",
       "                                        DecisionTreeClassifier())]),\n",
       "             n_jobs=-1,\n",
       "             param_grid={'decisiontreeclassifier__ccp_alpha': [0.0001, 0.001,\n",
       "                                                               0.01, 0.1, 0, 1,\n",
       "                                                               10],\n",
       "                         'decisiontreeclassifier__max_depth': [2, 5, 7, 10, 30],\n",
       "                         'decisiontreeclassifier__min_samples_leaf': [2, 5, 10,\n",
       "                                                                      20],\n",
       "                         'decisiontreeclassifier__min_samples_split': [5, 10,\n",
       "                                                                       20,\n",
       "                                                                       50]})"
      ]
     },
     "execution_count": 16,
     "metadata": {},
     "output_type": "execute_result"
    }
   ],
   "source": [
    "grid.fit(X_train, y_train)"
   ]
  },
  {
   "cell_type": "code",
   "execution_count": 17,
   "metadata": {},
   "outputs": [
    {
     "data": {
      "text/plain": [
       "{'decisiontreeclassifier__ccp_alpha': 0,\n",
       " 'decisiontreeclassifier__max_depth': 30,\n",
       " 'decisiontreeclassifier__min_samples_leaf': 2,\n",
       " 'decisiontreeclassifier__min_samples_split': 10}"
      ]
     },
     "execution_count": 17,
     "metadata": {},
     "output_type": "execute_result"
    }
   ],
   "source": [
    "grid.best_params_"
   ]
  },
  {
   "cell_type": "code",
   "execution_count": 18,
   "metadata": {},
   "outputs": [
    {
     "data": {
      "text/plain": [
       "0.8259779338014042"
      ]
     },
     "execution_count": 18,
     "metadata": {},
     "output_type": "execute_result"
    }
   ],
   "source": [
    "grid.score(X_train, y_train)"
   ]
  },
  {
   "cell_type": "code",
   "execution_count": 19,
   "metadata": {},
   "outputs": [
    {
     "data": {
      "text/plain": [
       "0.7753259779338014"
      ]
     },
     "execution_count": 19,
     "metadata": {},
     "output_type": "execute_result"
    }
   ],
   "source": [
    "grid.score(X_test, y_test)"
   ]
  },
  {
   "cell_type": "code",
   "execution_count": 20,
   "metadata": {},
   "outputs": [
    {
     "data": {
      "text/plain": [
       "{'decisiontreeclassifier__ccp_alpha': 0,\n",
       " 'decisiontreeclassifier__max_depth': 30,\n",
       " 'decisiontreeclassifier__min_samples_leaf': 2,\n",
       " 'decisiontreeclassifier__min_samples_split': 10}"
      ]
     },
     "execution_count": 20,
     "metadata": {},
     "output_type": "execute_result"
    }
   ],
   "source": [
    "grid.best_params_"
   ]
  },
  {
   "cell_type": "markdown",
   "metadata": {},
   "source": [
    "### Decision Tree with Stop words"
   ]
  },
  {
   "cell_type": "code",
   "execution_count": 21,
   "metadata": {},
   "outputs": [
    {
     "name": "stdout",
     "output_type": "stream",
     "text": [
      "The accuracy training score is    0.7355399531929121\n",
      "The accuracy testing score is     0.7216649949849548\n",
      "The bac score is                  0.6856356243870546\n"
     ]
    }
   ],
   "source": [
    "tree_pipe = make_pipeline(\n",
    "    CountVectorizer(stop_words='english'),\n",
    "    StandardScaler(with_mean=False),\n",
    "    DecisionTreeClassifier(ccp_alpha=0, max_depth=30, min_samples_leaf=2, min_samples_split=10),\n",
    ")\n",
    "tree_pipe.fit(X_train, y_train)\n",
    "print(f'The accuracy training score is    {tree_pipe.score(X_train, y_train)}')\n",
    "print(f'The accuracy testing score is     {tree_pipe.score(X_test, y_test)}')\n",
    "print(f'The bac score is                  {balanced_accuracy_score(y_test, tree_pipe.predict(X_test))}')"
   ]
  },
  {
   "cell_type": "markdown",
   "metadata": {},
   "source": [
    "### Feature Importance"
   ]
  },
  {
   "cell_type": "code",
   "execution_count": 22,
   "metadata": {},
   "outputs": [
    {
     "data": {
      "text/plain": [
       "{'countvectorizer': CountVectorizer(stop_words='english'),\n",
       " 'standardscaler': StandardScaler(with_mean=False),\n",
       " 'decisiontreeclassifier': DecisionTreeClassifier(ccp_alpha=0, max_depth=30, min_samples_leaf=2,\n",
       "                        min_samples_split=10)}"
      ]
     },
     "execution_count": 22,
     "metadata": {},
     "output_type": "execute_result"
    }
   ],
   "source": [
    "tree_pipe.named_steps"
   ]
  },
  {
   "cell_type": "code",
   "execution_count": 24,
   "metadata": {},
   "outputs": [],
   "source": [
    "coefs = tree_pipe.named_steps['decisiontreeclassifier'].feature_importances_"
   ]
  },
  {
   "cell_type": "code",
   "execution_count": 26,
   "metadata": {},
   "outputs": [
    {
     "data": {
      "text/html": [
       "<div>\n",
       "<style scoped>\n",
       "    .dataframe tbody tr th:only-of-type {\n",
       "        vertical-align: middle;\n",
       "    }\n",
       "\n",
       "    .dataframe tbody tr th {\n",
       "        vertical-align: top;\n",
       "    }\n",
       "\n",
       "    .dataframe thead th {\n",
       "        text-align: right;\n",
       "    }\n",
       "</style>\n",
       "<table border=\"1\" class=\"dataframe\">\n",
       "  <thead>\n",
       "    <tr style=\"text-align: right;\">\n",
       "      <th></th>\n",
       "      <th>coefs</th>\n",
       "    </tr>\n",
       "  </thead>\n",
       "  <tbody>\n",
       "    <tr>\n",
       "      <th>study</th>\n",
       "      <td>0.134656</td>\n",
       "    </tr>\n",
       "    <tr>\n",
       "      <th>19</th>\n",
       "      <td>0.085292</td>\n",
       "    </tr>\n",
       "    <tr>\n",
       "      <th>scientists</th>\n",
       "      <td>0.070206</td>\n",
       "    </tr>\n",
       "    <tr>\n",
       "      <th>researchers</th>\n",
       "      <td>0.052741</td>\n",
       "    </tr>\n",
       "    <tr>\n",
       "      <th>research</th>\n",
       "      <td>0.048033</td>\n",
       "    </tr>\n",
       "    <tr>\n",
       "      <th>app</th>\n",
       "      <td>0.043890</td>\n",
       "    </tr>\n",
       "    <tr>\n",
       "      <th>apple</th>\n",
       "      <td>0.033868</td>\n",
       "    </tr>\n",
       "    <tr>\n",
       "      <th>science</th>\n",
       "      <td>0.031222</td>\n",
       "    </tr>\n",
       "    <tr>\n",
       "      <th>trump</th>\n",
       "      <td>0.026862</td>\n",
       "    </tr>\n",
       "    <tr>\n",
       "      <th>2021</th>\n",
       "      <td>0.025017</td>\n",
       "    </tr>\n",
       "  </tbody>\n",
       "</table>\n",
       "</div>"
      ],
      "text/plain": [
       "                coefs\n",
       "study        0.134656\n",
       "19           0.085292\n",
       "scientists   0.070206\n",
       "researchers  0.052741\n",
       "research     0.048033\n",
       "app          0.043890\n",
       "apple        0.033868\n",
       "science      0.031222\n",
       "trump        0.026862\n",
       "2021         0.025017"
      ]
     },
     "execution_count": 26,
     "metadata": {},
     "output_type": "execute_result"
    }
   ],
   "source": [
    "coef_df = pd.DataFrame({'coefs': coefs}, index = tree_pipe.named_steps['countvectorizer'].get_feature_names())\n",
    "coef_df.nlargest(10, 'coefs')"
   ]
  },
  {
   "cell_type": "markdown",
   "metadata": {},
   "source": [
    "- The words which had the highest weight on the model included words relating to scientists/research/studies, as well as some tech company names."
   ]
  }
 ],
 "metadata": {
  "kernelspec": {
   "display_name": "Python 3",
   "language": "python",
   "name": "python3"
  },
  "language_info": {
   "codemirror_mode": {
    "name": "ipython",
    "version": 3
   },
   "file_extension": ".py",
   "mimetype": "text/x-python",
   "name": "python",
   "nbconvert_exporter": "python",
   "pygments_lexer": "ipython3",
   "version": "3.8.5"
  }
 },
 "nbformat": 4,
 "nbformat_minor": 4
}
