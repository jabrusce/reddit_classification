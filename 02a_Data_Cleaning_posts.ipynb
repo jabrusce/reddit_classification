{
 "cells": [
  {
   "cell_type": "markdown",
   "metadata": {},
   "source": [
    "# Read in libraries and Data"
   ]
  },
  {
   "cell_type": "code",
   "execution_count": 1,
   "metadata": {},
   "outputs": [],
   "source": [
    "import numpy as np\n",
    "import pandas as pd"
   ]
  },
  {
   "cell_type": "code",
   "execution_count": 2,
   "metadata": {},
   "outputs": [],
   "source": [
    "science_df = pd.read_csv('./data/raw_data/reddit_science.csv')\n",
    "technology_df = pd.read_csv('./data/raw_data/reddit_technology.csv')"
   ]
  },
  {
   "cell_type": "markdown",
   "metadata": {},
   "source": [
    "# Science Data Frame Cleaning"
   ]
  },
  {
   "cell_type": "code",
   "execution_count": 3,
   "metadata": {},
   "outputs": [
    {
     "data": {
      "text/html": [
       "<div>\n",
       "<style scoped>\n",
       "    .dataframe tbody tr th:only-of-type {\n",
       "        vertical-align: middle;\n",
       "    }\n",
       "\n",
       "    .dataframe tbody tr th {\n",
       "        vertical-align: top;\n",
       "    }\n",
       "\n",
       "    .dataframe thead th {\n",
       "        text-align: right;\n",
       "    }\n",
       "</style>\n",
       "<table border=\"1\" class=\"dataframe\">\n",
       "  <thead>\n",
       "    <tr style=\"text-align: right;\">\n",
       "      <th></th>\n",
       "      <th>Unnamed: 0</th>\n",
       "      <th>subreddit</th>\n",
       "      <th>title</th>\n",
       "      <th>selftext</th>\n",
       "      <th>author</th>\n",
       "      <th>created_utc</th>\n",
       "      <th>upvote_ratio</th>\n",
       "      <th>full_link</th>\n",
       "      <th>num_comments</th>\n",
       "      <th>num_crossposts</th>\n",
       "      <th>total_awards_received</th>\n",
       "      <th>score</th>\n",
       "      <th>over_18</th>\n",
       "    </tr>\n",
       "  </thead>\n",
       "  <tbody>\n",
       "    <tr>\n",
       "      <th>0</th>\n",
       "      <td>0</td>\n",
       "      <td>science</td>\n",
       "      <td>A Climate in Crisis Calls for Investment in Di...</td>\n",
       "      <td>NaN</td>\n",
       "      <td>Wagamaga</td>\n",
       "      <td>1610798299</td>\n",
       "      <td>1.0</td>\n",
       "      <td>https://www.reddit.com/r/science/comments/kyhp...</td>\n",
       "      <td>6</td>\n",
       "      <td>0</td>\n",
       "      <td>0</td>\n",
       "      <td>1</td>\n",
       "      <td>NaN</td>\n",
       "    </tr>\n",
       "    <tr>\n",
       "      <th>1</th>\n",
       "      <td>1</td>\n",
       "      <td>science</td>\n",
       "      <td>Cureus | Telemedicine: Current Impact on the F...</td>\n",
       "      <td>NaN</td>\n",
       "      <td>CureusJournal</td>\n",
       "      <td>1610798085</td>\n",
       "      <td>1.0</td>\n",
       "      <td>https://www.reddit.com/r/science/comments/kyho...</td>\n",
       "      <td>0</td>\n",
       "      <td>0</td>\n",
       "      <td>0</td>\n",
       "      <td>1</td>\n",
       "      <td>NaN</td>\n",
       "    </tr>\n",
       "    <tr>\n",
       "      <th>2</th>\n",
       "      <td>2</td>\n",
       "      <td>science</td>\n",
       "      <td>Magnetic reconnection as a mechanism for energ...</td>\n",
       "      <td>NaN</td>\n",
       "      <td>m3prx</td>\n",
       "      <td>1610792298</td>\n",
       "      <td>1.0</td>\n",
       "      <td>https://www.reddit.com/r/science/comments/kygi...</td>\n",
       "      <td>2</td>\n",
       "      <td>0</td>\n",
       "      <td>0</td>\n",
       "      <td>1</td>\n",
       "      <td>NaN</td>\n",
       "    </tr>\n",
       "  </tbody>\n",
       "</table>\n",
       "</div>"
      ],
      "text/plain": [
       "   Unnamed: 0 subreddit                                              title  \\\n",
       "0           0   science  A Climate in Crisis Calls for Investment in Di...   \n",
       "1           1   science  Cureus | Telemedicine: Current Impact on the F...   \n",
       "2           2   science  Magnetic reconnection as a mechanism for energ...   \n",
       "\n",
       "  selftext         author  created_utc  upvote_ratio  \\\n",
       "0      NaN       Wagamaga   1610798299           1.0   \n",
       "1      NaN  CureusJournal   1610798085           1.0   \n",
       "2      NaN          m3prx   1610792298           1.0   \n",
       "\n",
       "                                           full_link  num_comments  \\\n",
       "0  https://www.reddit.com/r/science/comments/kyhp...             6   \n",
       "1  https://www.reddit.com/r/science/comments/kyho...             0   \n",
       "2  https://www.reddit.com/r/science/comments/kygi...             2   \n",
       "\n",
       "   num_crossposts  total_awards_received  score  over_18  \n",
       "0               0                      0      1      NaN  \n",
       "1               0                      0      1      NaN  \n",
       "2               0                      0      1      NaN  "
      ]
     },
     "execution_count": 3,
     "metadata": {},
     "output_type": "execute_result"
    }
   ],
   "source": [
    "science_df.head(3)"
   ]
  },
  {
   "cell_type": "markdown",
   "metadata": {},
   "source": [
    "### Null values"
   ]
  },
  {
   "cell_type": "code",
   "execution_count": 4,
   "metadata": {},
   "outputs": [
    {
     "name": "stdout",
     "output_type": "stream",
     "text": [
      "<class 'pandas.core.frame.DataFrame'>\n",
      "RangeIndex: 5000 entries, 0 to 4999\n",
      "Data columns (total 13 columns):\n",
      " #   Column                 Non-Null Count  Dtype  \n",
      "---  ------                 --------------  -----  \n",
      " 0   Unnamed: 0             5000 non-null   int64  \n",
      " 1   subreddit              5000 non-null   object \n",
      " 2   title                  5000 non-null   object \n",
      " 3   selftext               128 non-null    object \n",
      " 4   author                 5000 non-null   object \n",
      " 5   created_utc            5000 non-null   int64  \n",
      " 6   upvote_ratio           5000 non-null   float64\n",
      " 7   full_link              5000 non-null   object \n",
      " 8   num_comments           5000 non-null   int64  \n",
      " 9   num_crossposts         5000 non-null   int64  \n",
      " 10  total_awards_received  5000 non-null   int64  \n",
      " 11  score                  5000 non-null   int64  \n",
      " 12  over_18                0 non-null      float64\n",
      "dtypes: float64(2), int64(6), object(5)\n",
      "memory usage: 507.9+ KB\n"
     ]
    }
   ],
   "source": [
    "science_df.info()"
   ]
  },
  {
   "cell_type": "markdown",
   "metadata": {},
   "source": [
    "- Mostly null values in 'selftext'\n",
    "- All null values in over_18"
   ]
  },
  {
   "cell_type": "markdown",
   "metadata": {},
   "source": [
    "### Drop columns"
   ]
  },
  {
   "cell_type": "code",
   "execution_count": 5,
   "metadata": {},
   "outputs": [],
   "source": [
    "science_df.drop(columns = 'Unnamed: 0', inplace=True)\n",
    "science_df.drop(columns = 'over_18', inplace=True)\n",
    "science_df.drop(columns = 'selftext', inplace=True)"
   ]
  },
  {
   "cell_type": "markdown",
   "metadata": {},
   "source": [
    "### Value Counts"
   ]
  },
  {
   "cell_type": "code",
   "execution_count": 6,
   "metadata": {},
   "outputs": [
    {
     "data": {
      "text/plain": [
       "science    5000\n",
       "Name: subreddit, dtype: int64"
      ]
     },
     "execution_count": 6,
     "metadata": {},
     "output_type": "execute_result"
    }
   ],
   "source": [
    "science_df['subreddit'].value_counts()"
   ]
  },
  {
   "cell_type": "code",
   "execution_count": 7,
   "metadata": {},
   "outputs": [
    {
     "data": {
      "text/plain": [
       "Scientists believe that the function of zebras' stripes are to deter insects, so a team of researchers painted black and white stripes on cows. They found that it reduced the number of biting flies landing on the cows by more than 50%.                                                                    19\n",
       "Scientists replaced 40 percent of cement with rice husk cinder, limestone crushing waste, and silica sand, giving concrete a rubber-like quality, six to nine times more crack-resistant than regular concrete. It self-seals, replaces cement with plentiful waste products, and should be cheaper to use.    18\n",
       "No evidence to support link between violent video games and behaviour - Researchers at the University of York have found no evidence to support the theory that video games make players more violent.                                                                                                         16\n",
       "From 2007 to 2017, the number of suicides among people ages 10 to 24 increased 56 percent                                                                                                                                                                                                                      15\n",
       "Store-bought tomatoes taste bland, and scientists have discovered a gene that gives tomatoes their flavor is actually missing in about 93 percent of modern, domesticated varieties. The discovery may help bring flavor back to tomatoes you can pick up in the produce section.                              15\n",
       "                                                                                                                                                                                                                                                                                                               ..\n",
       "Researchers Use “Big Data” Approach to Identify Melatonin as Possible COVID-19 Treatment: Results from a new study suggest that melatonin, a hormone that regulates the sleep-wake cycle and is commonly used as an over-the-counter sleep aid, may be a viable treatment option for COVID-19                   1\n",
       "The FDA has approved the first drug to treat the rapid-aging disease progeria                                                                                                                                                                                                                                   1\n",
       "Your genetics actually have a lot more to do with your educational success than you'd think.                                                                                                                                                                                                                    1\n",
       "The first line of direct evidence confirms what earth scientists have long suspected: Plants first appeared on land about 460 million years ago.                                                                                                                                                                1\n",
       "Air pollution was significantly associated with an increased risk of hospital admissions for several neurological disorders, including Parkinson’s disease, Alzheimer’s disease, and other dementias, in a long-term study of more than 63 million older U.S. adults, led by researchers at Harvard.            1\n",
       "Name: title, Length: 4563, dtype: int64"
      ]
     },
     "execution_count": 7,
     "metadata": {},
     "output_type": "execute_result"
    }
   ],
   "source": [
    "science_df['title'].value_counts()"
   ]
  },
  {
   "cell_type": "markdown",
   "metadata": {},
   "source": [
    "- Possible duplicate posts"
   ]
  },
  {
   "cell_type": "code",
   "execution_count": 8,
   "metadata": {},
   "outputs": [
    {
     "data": {
      "text/plain": [
       "mvea               276\n",
       "rustoo             166\n",
       "Wagamaga           142\n",
       "[deleted]          123\n",
       "MistWeaver80       104\n",
       "                  ... \n",
       "ac13057              1\n",
       "myelini              1\n",
       "cybershocker455      1\n",
       "the_battousai89      1\n",
       "barwick11            1\n",
       "Name: author, Length: 2080, dtype: int64"
      ]
     },
     "execution_count": 8,
     "metadata": {},
     "output_type": "execute_result"
    }
   ],
   "source": [
    "science_df['author'].value_counts()"
   ]
  },
  {
   "cell_type": "markdown",
   "metadata": {},
   "source": [
    "- Noticed a select few authors have submitted a lot of posts"
   ]
  },
  {
   "cell_type": "code",
   "execution_count": 9,
   "metadata": {},
   "outputs": [
    {
     "data": {
      "text/plain": [
       "1.00    4694\n",
       "0.50      25\n",
       "0.67      21\n",
       "0.75      21\n",
       "0.99      20\n",
       "        ... \n",
       "0.61       1\n",
       "0.17       1\n",
       "0.20       1\n",
       "0.42       1\n",
       "0.63       1\n",
       "Name: upvote_ratio, Length: 61, dtype: int64"
      ]
     },
     "execution_count": 9,
     "metadata": {},
     "output_type": "execute_result"
    }
   ],
   "source": [
    "science_df['upvote_ratio'].value_counts()"
   ]
  },
  {
   "cell_type": "markdown",
   "metadata": {},
   "source": [
    "- most upvotes ratio are 1, possibly not updated as this is a recent dataset"
   ]
  },
  {
   "cell_type": "code",
   "execution_count": 10,
   "metadata": {},
   "outputs": [
    {
     "data": {
      "text/plain": [
       "0       1375\n",
       "2        923\n",
       "1        650\n",
       "3        307\n",
       "4        235\n",
       "        ... \n",
       "162        1\n",
       "2207       1\n",
       "154        1\n",
       "2187       1\n",
       "2043       1\n",
       "Name: num_comments, Length: 336, dtype: int64"
      ]
     },
     "execution_count": 10,
     "metadata": {},
     "output_type": "execute_result"
    }
   ],
   "source": [
    "science_df['num_comments'].value_counts()"
   ]
  },
  {
   "cell_type": "markdown",
   "metadata": {},
   "source": [
    "- most posts have 0 comments"
   ]
  },
  {
   "cell_type": "code",
   "execution_count": 11,
   "metadata": {},
   "outputs": [
    {
     "data": {
      "text/plain": [
       "0     4962\n",
       "1       28\n",
       "2        3\n",
       "23       1\n",
       "11       1\n",
       "7        1\n",
       "3        1\n",
       "16       1\n",
       "8        1\n",
       "4        1\n",
       "Name: num_crossposts, dtype: int64"
      ]
     },
     "execution_count": 11,
     "metadata": {},
     "output_type": "execute_result"
    }
   ],
   "source": [
    "science_df['num_crossposts'].value_counts()"
   ]
  },
  {
   "cell_type": "markdown",
   "metadata": {},
   "source": [
    "- most posts have 0 crossposts"
   ]
  },
  {
   "cell_type": "code",
   "execution_count": 12,
   "metadata": {},
   "outputs": [
    {
     "data": {
      "text/plain": [
       "0     4983\n",
       "1        5\n",
       "2        3\n",
       "4        2\n",
       "79       1\n",
       "31       1\n",
       "30       1\n",
       "33       1\n",
       "13       1\n",
       "5        1\n",
       "32       1\n",
       "Name: total_awards_received, dtype: int64"
      ]
     },
     "execution_count": 12,
     "metadata": {},
     "output_type": "execute_result"
    }
   ],
   "source": [
    "science_df['total_awards_received'].value_counts()"
   ]
  },
  {
   "cell_type": "markdown",
   "metadata": {},
   "source": [
    "- most posts have 0 total awards"
   ]
  },
  {
   "cell_type": "code",
   "execution_count": 13,
   "metadata": {},
   "outputs": [
    {
     "data": {
      "text/plain": [
       "1       4607\n",
       "2         65\n",
       "0         49\n",
       "4         43\n",
       "3         43\n",
       "        ... \n",
       "489        1\n",
       "1031       1\n",
       "273        1\n",
       "205        1\n",
       "2428       1\n",
       "Name: score, Length: 78, dtype: int64"
      ]
     },
     "execution_count": 13,
     "metadata": {},
     "output_type": "execute_result"
    }
   ],
   "source": [
    "science_df['score'].value_counts()"
   ]
  },
  {
   "cell_type": "markdown",
   "metadata": {},
   "source": [
    "- most posts have a score of 1"
   ]
  },
  {
   "cell_type": "markdown",
   "metadata": {},
   "source": [
    "# Technology Data Cleaning"
   ]
  },
  {
   "cell_type": "code",
   "execution_count": 14,
   "metadata": {},
   "outputs": [
    {
     "data": {
      "text/html": [
       "<div>\n",
       "<style scoped>\n",
       "    .dataframe tbody tr th:only-of-type {\n",
       "        vertical-align: middle;\n",
       "    }\n",
       "\n",
       "    .dataframe tbody tr th {\n",
       "        vertical-align: top;\n",
       "    }\n",
       "\n",
       "    .dataframe thead th {\n",
       "        text-align: right;\n",
       "    }\n",
       "</style>\n",
       "<table border=\"1\" class=\"dataframe\">\n",
       "  <thead>\n",
       "    <tr style=\"text-align: right;\">\n",
       "      <th></th>\n",
       "      <th>Unnamed: 0</th>\n",
       "      <th>subreddit</th>\n",
       "      <th>title</th>\n",
       "      <th>selftext</th>\n",
       "      <th>author</th>\n",
       "      <th>created_utc</th>\n",
       "      <th>upvote_ratio</th>\n",
       "      <th>full_link</th>\n",
       "      <th>num_comments</th>\n",
       "      <th>num_crossposts</th>\n",
       "      <th>total_awards_received</th>\n",
       "      <th>score</th>\n",
       "      <th>over_18</th>\n",
       "    </tr>\n",
       "  </thead>\n",
       "  <tbody>\n",
       "    <tr>\n",
       "      <th>0</th>\n",
       "      <td>0</td>\n",
       "      <td>technology</td>\n",
       "      <td>samsung galaxy s12 ultra 5g</td>\n",
       "      <td>NaN</td>\n",
       "      <td>TechGreed123</td>\n",
       "      <td>1610798204</td>\n",
       "      <td>1.0</td>\n",
       "      <td>https://www.reddit.com/r/technology/comments/k...</td>\n",
       "      <td>0</td>\n",
       "      <td>0</td>\n",
       "      <td>0</td>\n",
       "      <td>1</td>\n",
       "      <td>NaN</td>\n",
       "    </tr>\n",
       "    <tr>\n",
       "      <th>1</th>\n",
       "      <td>1</td>\n",
       "      <td>technology</td>\n",
       "      <td>Top 10 Internet of Things (IoT) Books to Read ...</td>\n",
       "      <td>NaN</td>\n",
       "      <td>globaltechoutlook</td>\n",
       "      <td>1610797957</td>\n",
       "      <td>1.0</td>\n",
       "      <td>https://www.reddit.com/r/technology/comments/k...</td>\n",
       "      <td>0</td>\n",
       "      <td>0</td>\n",
       "      <td>0</td>\n",
       "      <td>1</td>\n",
       "      <td>NaN</td>\n",
       "    </tr>\n",
       "    <tr>\n",
       "      <th>2</th>\n",
       "      <td>2</td>\n",
       "      <td>technology</td>\n",
       "      <td>Message de test vraie hein</td>\n",
       "      <td>NaN</td>\n",
       "      <td>groupsaada</td>\n",
       "      <td>1610797574</td>\n",
       "      <td>1.0</td>\n",
       "      <td>https://www.reddit.com/r/technology/comments/k...</td>\n",
       "      <td>0</td>\n",
       "      <td>0</td>\n",
       "      <td>0</td>\n",
       "      <td>1</td>\n",
       "      <td>NaN</td>\n",
       "    </tr>\n",
       "  </tbody>\n",
       "</table>\n",
       "</div>"
      ],
      "text/plain": [
       "   Unnamed: 0   subreddit                                              title  \\\n",
       "0           0  technology                        samsung galaxy s12 ultra 5g   \n",
       "1           1  technology  Top 10 Internet of Things (IoT) Books to Read ...   \n",
       "2           2  technology                         Message de test vraie hein   \n",
       "\n",
       "   selftext             author  created_utc  upvote_ratio  \\\n",
       "0       NaN       TechGreed123   1610798204           1.0   \n",
       "1       NaN  globaltechoutlook   1610797957           1.0   \n",
       "2       NaN         groupsaada   1610797574           1.0   \n",
       "\n",
       "                                           full_link  num_comments  \\\n",
       "0  https://www.reddit.com/r/technology/comments/k...             0   \n",
       "1  https://www.reddit.com/r/technology/comments/k...             0   \n",
       "2  https://www.reddit.com/r/technology/comments/k...             0   \n",
       "\n",
       "   num_crossposts  total_awards_received  score  over_18  \n",
       "0               0                      0      1      NaN  \n",
       "1               0                      0      1      NaN  \n",
       "2               0                      0      1      NaN  "
      ]
     },
     "execution_count": 14,
     "metadata": {},
     "output_type": "execute_result"
    }
   ],
   "source": [
    "technology_df.head(3)"
   ]
  },
  {
   "cell_type": "markdown",
   "metadata": {},
   "source": [
    "### Null Values"
   ]
  },
  {
   "cell_type": "code",
   "execution_count": 15,
   "metadata": {},
   "outputs": [
    {
     "name": "stdout",
     "output_type": "stream",
     "text": [
      "<class 'pandas.core.frame.DataFrame'>\n",
      "RangeIndex: 5000 entries, 0 to 4999\n",
      "Data columns (total 13 columns):\n",
      " #   Column                 Non-Null Count  Dtype  \n",
      "---  ------                 --------------  -----  \n",
      " 0   Unnamed: 0             5000 non-null   int64  \n",
      " 1   subreddit              5000 non-null   object \n",
      " 2   title                  5000 non-null   object \n",
      " 3   selftext               0 non-null      float64\n",
      " 4   author                 5000 non-null   object \n",
      " 5   created_utc            5000 non-null   int64  \n",
      " 6   upvote_ratio           5000 non-null   float64\n",
      " 7   full_link              5000 non-null   object \n",
      " 8   num_comments           5000 non-null   int64  \n",
      " 9   num_crossposts         5000 non-null   int64  \n",
      " 10  total_awards_received  5000 non-null   int64  \n",
      " 11  score                  5000 non-null   int64  \n",
      " 12  over_18                0 non-null      float64\n",
      "dtypes: float64(3), int64(6), object(4)\n",
      "memory usage: 507.9+ KB\n"
     ]
    }
   ],
   "source": [
    "technology_df.info()"
   ]
  },
  {
   "cell_type": "markdown",
   "metadata": {},
   "source": [
    "- Selftext and over_18 have all null values"
   ]
  },
  {
   "cell_type": "markdown",
   "metadata": {},
   "source": [
    "### Drop Columns"
   ]
  },
  {
   "cell_type": "code",
   "execution_count": 16,
   "metadata": {},
   "outputs": [],
   "source": [
    "technology_df.drop(columns = 'Unnamed: 0', inplace=True)\n",
    "technology_df.drop(columns = 'over_18', inplace=True)\n",
    "technology_df.drop(columns = 'selftext', inplace=True)"
   ]
  },
  {
   "cell_type": "markdown",
   "metadata": {},
   "source": [
    "### Value Counts"
   ]
  },
  {
   "cell_type": "code",
   "execution_count": 17,
   "metadata": {},
   "outputs": [
    {
     "data": {
      "text/plain": [
       "technology    5000\n",
       "Name: subreddit, dtype: int64"
      ]
     },
     "execution_count": 17,
     "metadata": {},
     "output_type": "execute_result"
    }
   ],
   "source": [
    "technology_df['subreddit'].value_counts()"
   ]
  },
  {
   "cell_type": "code",
   "execution_count": 18,
   "metadata": {},
   "outputs": [
    {
     "data": {
      "text/plain": [
       "Message de test vraie hein                                                             1451\n",
       "Best Top 10 Cheap price laptops [2021]                                                   10\n",
       "How To Buy A Laptop At Less Price….?                                                     10\n",
       "strawberries on the blockchain                                                            6\n",
       "Cash key loan customer care number☎️9572886345.all problem solved                         6\n",
       "                                                                                       ... \n",
       "11 Apps Like Lucky Patcher For Download Paid Apps Free 2021                               1\n",
       "HTC Desire 21 Pro 5G Snapdragon 690 launched with 5G processor, know other features       1\n",
       "GET TECHNOLOGY                                                                            1\n",
       "The KFConsole is real                                                                     1\n",
       "Trump pushes for the development of nuclear energy for space                              1\n",
       "Name: title, Length: 3426, dtype: int64"
      ]
     },
     "execution_count": 18,
     "metadata": {},
     "output_type": "execute_result"
    }
   ],
   "source": [
    "technology_df['title'].value_counts()"
   ]
  },
  {
   "cell_type": "markdown",
   "metadata": {},
   "source": [
    "- Seems to be a large amount of test posts"
   ]
  },
  {
   "cell_type": "code",
   "execution_count": 19,
   "metadata": {},
   "outputs": [
    {
     "data": {
      "text/plain": [
       "groupsaada             1451\n",
       "arnambiar               199\n",
       "onlinepeepsofficial     126\n",
       "EnterpriseNews_Elf      125\n",
       "alexharry0003            94\n",
       "                       ... \n",
       "wrestlerfan541            1\n",
       "its-Loki                  1\n",
       "obsd92107                 1\n",
       "current-asscoverer        1\n",
       "techfreakzz               1\n",
       "Name: author, Length: 1585, dtype: int64"
      ]
     },
     "execution_count": 19,
     "metadata": {},
     "output_type": "execute_result"
    }
   ],
   "source": [
    "technology_df['author'].value_counts()"
   ]
  },
  {
   "cell_type": "markdown",
   "metadata": {},
   "source": [
    "- A few authors have a lot of submitted posts"
   ]
  },
  {
   "cell_type": "code",
   "execution_count": 20,
   "metadata": {},
   "outputs": [
    {
     "data": {
      "text/plain": [
       "1.00    4875\n",
       "0.67      31\n",
       "0.50      21\n",
       "0.75      18\n",
       "0.80      14\n",
       "0.60       5\n",
       "0.86       5\n",
       "0.33       4\n",
       "0.83       4\n",
       "0.88       4\n",
       "0.89       3\n",
       "0.90       2\n",
       "0.57       2\n",
       "0.25       2\n",
       "0.40       2\n",
       "0.96       1\n",
       "0.43       1\n",
       "0.99       1\n",
       "0.63       1\n",
       "0.95       1\n",
       "0.91       1\n",
       "0.82       1\n",
       "0.92       1\n",
       "Name: upvote_ratio, dtype: int64"
      ]
     },
     "execution_count": 20,
     "metadata": {},
     "output_type": "execute_result"
    }
   ],
   "source": [
    "technology_df['upvote_ratio'].value_counts()"
   ]
  },
  {
   "cell_type": "markdown",
   "metadata": {},
   "source": [
    "- most posts have upvote ratio of 1"
   ]
  },
  {
   "cell_type": "code",
   "execution_count": 21,
   "metadata": {},
   "outputs": [
    {
     "data": {
      "text/plain": [
       "0      2962\n",
       "2      1125\n",
       "1       167\n",
       "3       136\n",
       "4        92\n",
       "       ... \n",
       "118       1\n",
       "122       1\n",
       "126       1\n",
       "154       1\n",
       "985       1\n",
       "Name: num_comments, Length: 152, dtype: int64"
      ]
     },
     "execution_count": 21,
     "metadata": {},
     "output_type": "execute_result"
    }
   ],
   "source": [
    "technology_df['num_comments'].value_counts()"
   ]
  },
  {
   "cell_type": "markdown",
   "metadata": {},
   "source": [
    "- most posts have 0-2 comments"
   ]
  },
  {
   "cell_type": "code",
   "execution_count": 22,
   "metadata": {},
   "outputs": [
    {
     "data": {
      "text/plain": [
       "0    4987\n",
       "1      12\n",
       "2       1\n",
       "Name: num_crossposts, dtype: int64"
      ]
     },
     "execution_count": 22,
     "metadata": {},
     "output_type": "execute_result"
    }
   ],
   "source": [
    "technology_df['num_crossposts'].value_counts()"
   ]
  },
  {
   "cell_type": "markdown",
   "metadata": {},
   "source": [
    "- most posts have 0 crossposts"
   ]
  },
  {
   "cell_type": "code",
   "execution_count": 23,
   "metadata": {},
   "outputs": [
    {
     "data": {
      "text/plain": [
       "0    4997\n",
       "1       3\n",
       "Name: total_awards_received, dtype: int64"
      ]
     },
     "execution_count": 23,
     "metadata": {},
     "output_type": "execute_result"
    }
   ],
   "source": [
    "technology_df['total_awards_received'].value_counts()"
   ]
  },
  {
   "cell_type": "markdown",
   "metadata": {},
   "source": [
    "- most posts have 0 awards received"
   ]
  },
  {
   "cell_type": "code",
   "execution_count": 24,
   "metadata": {},
   "outputs": [
    {
     "data": {
      "text/plain": [
       "1     4749\n",
       "2       98\n",
       "3       44\n",
       "0       30\n",
       "4       28\n",
       "5       18\n",
       "7        9\n",
       "6        7\n",
       "8        5\n",
       "10       3\n",
       "12       2\n",
       "17       2\n",
       "28       1\n",
       "13       1\n",
       "11       1\n",
       "14       1\n",
       "47       1\n",
       "Name: score, dtype: int64"
      ]
     },
     "execution_count": 24,
     "metadata": {},
     "output_type": "execute_result"
    }
   ],
   "source": [
    "technology_df['score'].value_counts()"
   ]
  },
  {
   "cell_type": "markdown",
   "metadata": {},
   "source": [
    "- most posts have score of 1"
   ]
  },
  {
   "cell_type": "code",
   "execution_count": 25,
   "metadata": {},
   "outputs": [
    {
     "data": {
      "text/html": [
       "<div>\n",
       "<style scoped>\n",
       "    .dataframe tbody tr th:only-of-type {\n",
       "        vertical-align: middle;\n",
       "    }\n",
       "\n",
       "    .dataframe tbody tr th {\n",
       "        vertical-align: top;\n",
       "    }\n",
       "\n",
       "    .dataframe thead th {\n",
       "        text-align: right;\n",
       "    }\n",
       "</style>\n",
       "<table border=\"1\" class=\"dataframe\">\n",
       "  <thead>\n",
       "    <tr style=\"text-align: right;\">\n",
       "      <th></th>\n",
       "      <th>subreddit</th>\n",
       "      <th>title</th>\n",
       "      <th>author</th>\n",
       "      <th>created_utc</th>\n",
       "      <th>upvote_ratio</th>\n",
       "      <th>full_link</th>\n",
       "      <th>num_comments</th>\n",
       "      <th>num_crossposts</th>\n",
       "      <th>total_awards_received</th>\n",
       "      <th>score</th>\n",
       "    </tr>\n",
       "  </thead>\n",
       "  <tbody>\n",
       "    <tr>\n",
       "      <th>0</th>\n",
       "      <td>science</td>\n",
       "      <td>A Climate in Crisis Calls for Investment in Di...</td>\n",
       "      <td>Wagamaga</td>\n",
       "      <td>1610798299</td>\n",
       "      <td>1.0</td>\n",
       "      <td>https://www.reddit.com/r/science/comments/kyhp...</td>\n",
       "      <td>6</td>\n",
       "      <td>0</td>\n",
       "      <td>0</td>\n",
       "      <td>1</td>\n",
       "    </tr>\n",
       "    <tr>\n",
       "      <th>1</th>\n",
       "      <td>science</td>\n",
       "      <td>Cureus | Telemedicine: Current Impact on the F...</td>\n",
       "      <td>CureusJournal</td>\n",
       "      <td>1610798085</td>\n",
       "      <td>1.0</td>\n",
       "      <td>https://www.reddit.com/r/science/comments/kyho...</td>\n",
       "      <td>0</td>\n",
       "      <td>0</td>\n",
       "      <td>0</td>\n",
       "      <td>1</td>\n",
       "    </tr>\n",
       "    <tr>\n",
       "      <th>2</th>\n",
       "      <td>science</td>\n",
       "      <td>Magnetic reconnection as a mechanism for energ...</td>\n",
       "      <td>m3prx</td>\n",
       "      <td>1610792298</td>\n",
       "      <td>1.0</td>\n",
       "      <td>https://www.reddit.com/r/science/comments/kygi...</td>\n",
       "      <td>2</td>\n",
       "      <td>0</td>\n",
       "      <td>0</td>\n",
       "      <td>1</td>\n",
       "    </tr>\n",
       "    <tr>\n",
       "      <th>3</th>\n",
       "      <td>science</td>\n",
       "      <td>Sprinkle of chili compound boosts perovskite s...</td>\n",
       "      <td>MistWeaver80</td>\n",
       "      <td>1610779333</td>\n",
       "      <td>1.0</td>\n",
       "      <td>https://www.reddit.com/r/science/comments/kydw...</td>\n",
       "      <td>2</td>\n",
       "      <td>0</td>\n",
       "      <td>0</td>\n",
       "      <td>1</td>\n",
       "    </tr>\n",
       "    <tr>\n",
       "      <th>4</th>\n",
       "      <td>science</td>\n",
       "      <td>Ancient Roman concrete mineral found strengthe...</td>\n",
       "      <td>MistWeaver80</td>\n",
       "      <td>1610778779</td>\n",
       "      <td>1.0</td>\n",
       "      <td>https://www.reddit.com/r/science/comments/kyds...</td>\n",
       "      <td>1</td>\n",
       "      <td>0</td>\n",
       "      <td>0</td>\n",
       "      <td>1</td>\n",
       "    </tr>\n",
       "  </tbody>\n",
       "</table>\n",
       "</div>"
      ],
      "text/plain": [
       "  subreddit                                              title         author  \\\n",
       "0   science  A Climate in Crisis Calls for Investment in Di...       Wagamaga   \n",
       "1   science  Cureus | Telemedicine: Current Impact on the F...  CureusJournal   \n",
       "2   science  Magnetic reconnection as a mechanism for energ...          m3prx   \n",
       "3   science  Sprinkle of chili compound boosts perovskite s...   MistWeaver80   \n",
       "4   science  Ancient Roman concrete mineral found strengthe...   MistWeaver80   \n",
       "\n",
       "   created_utc  upvote_ratio  \\\n",
       "0   1610798299           1.0   \n",
       "1   1610798085           1.0   \n",
       "2   1610792298           1.0   \n",
       "3   1610779333           1.0   \n",
       "4   1610778779           1.0   \n",
       "\n",
       "                                           full_link  num_comments  \\\n",
       "0  https://www.reddit.com/r/science/comments/kyhp...             6   \n",
       "1  https://www.reddit.com/r/science/comments/kyho...             0   \n",
       "2  https://www.reddit.com/r/science/comments/kygi...             2   \n",
       "3  https://www.reddit.com/r/science/comments/kydw...             2   \n",
       "4  https://www.reddit.com/r/science/comments/kyds...             1   \n",
       "\n",
       "   num_crossposts  total_awards_received  score  \n",
       "0               0                      0      1  \n",
       "1               0                      0      1  \n",
       "2               0                      0      1  \n",
       "3               0                      0      1  \n",
       "4               0                      0      1  "
      ]
     },
     "execution_count": 25,
     "metadata": {},
     "output_type": "execute_result"
    }
   ],
   "source": [
    "subreddits_df = pd.concat(objs=[science_df, technology_df], axis=0)\n",
    "subreddits_df.head()"
   ]
  },
  {
   "cell_type": "code",
   "execution_count": 26,
   "metadata": {},
   "outputs": [
    {
     "data": {
      "text/html": [
       "<div>\n",
       "<style scoped>\n",
       "    .dataframe tbody tr th:only-of-type {\n",
       "        vertical-align: middle;\n",
       "    }\n",
       "\n",
       "    .dataframe tbody tr th {\n",
       "        vertical-align: top;\n",
       "    }\n",
       "\n",
       "    .dataframe thead th {\n",
       "        text-align: right;\n",
       "    }\n",
       "</style>\n",
       "<table border=\"1\" class=\"dataframe\">\n",
       "  <thead>\n",
       "    <tr style=\"text-align: right;\">\n",
       "      <th></th>\n",
       "      <th>subreddit</th>\n",
       "      <th>title</th>\n",
       "      <th>author</th>\n",
       "      <th>created_utc</th>\n",
       "      <th>upvote_ratio</th>\n",
       "      <th>full_link</th>\n",
       "      <th>num_comments</th>\n",
       "      <th>num_crossposts</th>\n",
       "      <th>total_awards_received</th>\n",
       "      <th>score</th>\n",
       "    </tr>\n",
       "  </thead>\n",
       "  <tbody>\n",
       "    <tr>\n",
       "      <th>0</th>\n",
       "      <td>science</td>\n",
       "      <td>A Climate in Crisis Calls for Investment in Di...</td>\n",
       "      <td>Wagamaga</td>\n",
       "      <td>1610798299</td>\n",
       "      <td>1.0</td>\n",
       "      <td>https://www.reddit.com/r/science/comments/kyhp...</td>\n",
       "      <td>6</td>\n",
       "      <td>0</td>\n",
       "      <td>0</td>\n",
       "      <td>1</td>\n",
       "    </tr>\n",
       "    <tr>\n",
       "      <th>1</th>\n",
       "      <td>science</td>\n",
       "      <td>Cureus | Telemedicine: Current Impact on the F...</td>\n",
       "      <td>CureusJournal</td>\n",
       "      <td>1610798085</td>\n",
       "      <td>1.0</td>\n",
       "      <td>https://www.reddit.com/r/science/comments/kyho...</td>\n",
       "      <td>0</td>\n",
       "      <td>0</td>\n",
       "      <td>0</td>\n",
       "      <td>1</td>\n",
       "    </tr>\n",
       "    <tr>\n",
       "      <th>2</th>\n",
       "      <td>science</td>\n",
       "      <td>Magnetic reconnection as a mechanism for energ...</td>\n",
       "      <td>m3prx</td>\n",
       "      <td>1610792298</td>\n",
       "      <td>1.0</td>\n",
       "      <td>https://www.reddit.com/r/science/comments/kygi...</td>\n",
       "      <td>2</td>\n",
       "      <td>0</td>\n",
       "      <td>0</td>\n",
       "      <td>1</td>\n",
       "    </tr>\n",
       "    <tr>\n",
       "      <th>3</th>\n",
       "      <td>science</td>\n",
       "      <td>Sprinkle of chili compound boosts perovskite s...</td>\n",
       "      <td>MistWeaver80</td>\n",
       "      <td>1610779333</td>\n",
       "      <td>1.0</td>\n",
       "      <td>https://www.reddit.com/r/science/comments/kydw...</td>\n",
       "      <td>2</td>\n",
       "      <td>0</td>\n",
       "      <td>0</td>\n",
       "      <td>1</td>\n",
       "    </tr>\n",
       "    <tr>\n",
       "      <th>4</th>\n",
       "      <td>science</td>\n",
       "      <td>Ancient Roman concrete mineral found strengthe...</td>\n",
       "      <td>MistWeaver80</td>\n",
       "      <td>1610778779</td>\n",
       "      <td>1.0</td>\n",
       "      <td>https://www.reddit.com/r/science/comments/kyds...</td>\n",
       "      <td>1</td>\n",
       "      <td>0</td>\n",
       "      <td>0</td>\n",
       "      <td>1</td>\n",
       "    </tr>\n",
       "    <tr>\n",
       "      <th>...</th>\n",
       "      <td>...</td>\n",
       "      <td>...</td>\n",
       "      <td>...</td>\n",
       "      <td>...</td>\n",
       "      <td>...</td>\n",
       "      <td>...</td>\n",
       "      <td>...</td>\n",
       "      <td>...</td>\n",
       "      <td>...</td>\n",
       "      <td>...</td>\n",
       "    </tr>\n",
       "    <tr>\n",
       "      <th>4995</th>\n",
       "      <td>technology</td>\n",
       "      <td>Message de test vraie hein</td>\n",
       "      <td>groupsaada</td>\n",
       "      <td>1608547204</td>\n",
       "      <td>1.0</td>\n",
       "      <td>https://www.reddit.com/r/technology/comments/k...</td>\n",
       "      <td>0</td>\n",
       "      <td>0</td>\n",
       "      <td>0</td>\n",
       "      <td>1</td>\n",
       "    </tr>\n",
       "    <tr>\n",
       "      <th>4996</th>\n",
       "      <td>technology</td>\n",
       "      <td>Huawei Mate 40 Pro + conquers the top of the D...</td>\n",
       "      <td>onlinepeepsofficial</td>\n",
       "      <td>1608547065</td>\n",
       "      <td>1.0</td>\n",
       "      <td>https://www.reddit.com/r/technology/comments/k...</td>\n",
       "      <td>0</td>\n",
       "      <td>0</td>\n",
       "      <td>0</td>\n",
       "      <td>1</td>\n",
       "    </tr>\n",
       "    <tr>\n",
       "      <th>4997</th>\n",
       "      <td>technology</td>\n",
       "      <td>Remote desktop according to Lenovo: the import...</td>\n",
       "      <td>onlinepeepsofficial</td>\n",
       "      <td>1608547064</td>\n",
       "      <td>1.0</td>\n",
       "      <td>https://www.reddit.com/r/technology/comments/k...</td>\n",
       "      <td>0</td>\n",
       "      <td>0</td>\n",
       "      <td>0</td>\n",
       "      <td>1</td>\n",
       "    </tr>\n",
       "    <tr>\n",
       "      <th>4998</th>\n",
       "      <td>technology</td>\n",
       "      <td>realme X3 Super Zoom, BOSE NC headphones and X...</td>\n",
       "      <td>onlinepeepsofficial</td>\n",
       "      <td>1608547063</td>\n",
       "      <td>1.0</td>\n",
       "      <td>https://www.reddit.com/r/technology/comments/k...</td>\n",
       "      <td>0</td>\n",
       "      <td>0</td>\n",
       "      <td>0</td>\n",
       "      <td>1</td>\n",
       "    </tr>\n",
       "    <tr>\n",
       "      <th>4999</th>\n",
       "      <td>technology</td>\n",
       "      <td>Google, Gmail and YouTube down: the company ex...</td>\n",
       "      <td>onlinepeepsofficial</td>\n",
       "      <td>1608547062</td>\n",
       "      <td>1.0</td>\n",
       "      <td>https://www.reddit.com/r/technology/comments/k...</td>\n",
       "      <td>0</td>\n",
       "      <td>0</td>\n",
       "      <td>0</td>\n",
       "      <td>1</td>\n",
       "    </tr>\n",
       "  </tbody>\n",
       "</table>\n",
       "<p>10000 rows × 10 columns</p>\n",
       "</div>"
      ],
      "text/plain": [
       "       subreddit                                              title  \\\n",
       "0        science  A Climate in Crisis Calls for Investment in Di...   \n",
       "1        science  Cureus | Telemedicine: Current Impact on the F...   \n",
       "2        science  Magnetic reconnection as a mechanism for energ...   \n",
       "3        science  Sprinkle of chili compound boosts perovskite s...   \n",
       "4        science  Ancient Roman concrete mineral found strengthe...   \n",
       "...          ...                                                ...   \n",
       "4995  technology                         Message de test vraie hein   \n",
       "4996  technology  Huawei Mate 40 Pro + conquers the top of the D...   \n",
       "4997  technology  Remote desktop according to Lenovo: the import...   \n",
       "4998  technology  realme X3 Super Zoom, BOSE NC headphones and X...   \n",
       "4999  technology  Google, Gmail and YouTube down: the company ex...   \n",
       "\n",
       "                   author  created_utc  upvote_ratio  \\\n",
       "0                Wagamaga   1610798299           1.0   \n",
       "1           CureusJournal   1610798085           1.0   \n",
       "2                   m3prx   1610792298           1.0   \n",
       "3            MistWeaver80   1610779333           1.0   \n",
       "4            MistWeaver80   1610778779           1.0   \n",
       "...                   ...          ...           ...   \n",
       "4995           groupsaada   1608547204           1.0   \n",
       "4996  onlinepeepsofficial   1608547065           1.0   \n",
       "4997  onlinepeepsofficial   1608547064           1.0   \n",
       "4998  onlinepeepsofficial   1608547063           1.0   \n",
       "4999  onlinepeepsofficial   1608547062           1.0   \n",
       "\n",
       "                                              full_link  num_comments  \\\n",
       "0     https://www.reddit.com/r/science/comments/kyhp...             6   \n",
       "1     https://www.reddit.com/r/science/comments/kyho...             0   \n",
       "2     https://www.reddit.com/r/science/comments/kygi...             2   \n",
       "3     https://www.reddit.com/r/science/comments/kydw...             2   \n",
       "4     https://www.reddit.com/r/science/comments/kyds...             1   \n",
       "...                                                 ...           ...   \n",
       "4995  https://www.reddit.com/r/technology/comments/k...             0   \n",
       "4996  https://www.reddit.com/r/technology/comments/k...             0   \n",
       "4997  https://www.reddit.com/r/technology/comments/k...             0   \n",
       "4998  https://www.reddit.com/r/technology/comments/k...             0   \n",
       "4999  https://www.reddit.com/r/technology/comments/k...             0   \n",
       "\n",
       "      num_crossposts  total_awards_received  score  \n",
       "0                  0                      0      1  \n",
       "1                  0                      0      1  \n",
       "2                  0                      0      1  \n",
       "3                  0                      0      1  \n",
       "4                  0                      0      1  \n",
       "...              ...                    ...    ...  \n",
       "4995               0                      0      1  \n",
       "4996               0                      0      1  \n",
       "4997               0                      0      1  \n",
       "4998               0                      0      1  \n",
       "4999               0                      0      1  \n",
       "\n",
       "[10000 rows x 10 columns]"
      ]
     },
     "execution_count": 26,
     "metadata": {},
     "output_type": "execute_result"
    }
   ],
   "source": [
    "subreddits_df"
   ]
  },
  {
   "cell_type": "markdown",
   "metadata": {},
   "source": [
    "### Drop duplicates"
   ]
  },
  {
   "cell_type": "code",
   "execution_count": 27,
   "metadata": {},
   "outputs": [],
   "source": [
    "subreddits_df = subreddits_df.drop_duplicates(subset=['title'])"
   ]
  },
  {
   "cell_type": "code",
   "execution_count": 28,
   "metadata": {},
   "outputs": [
    {
     "data": {
      "text/plain": [
       "(7976, 10)"
      ]
     },
     "execution_count": 28,
     "metadata": {},
     "output_type": "execute_result"
    }
   ],
   "source": [
    "subreddits_df.shape"
   ]
  },
  {
   "cell_type": "code",
   "execution_count": 29,
   "metadata": {},
   "outputs": [],
   "source": [
    "science_df = science_df.drop_duplicates(subset=['title'])"
   ]
  },
  {
   "cell_type": "code",
   "execution_count": 30,
   "metadata": {},
   "outputs": [
    {
     "data": {
      "text/plain": [
       "(4563, 10)"
      ]
     },
     "execution_count": 30,
     "metadata": {},
     "output_type": "execute_result"
    }
   ],
   "source": [
    "science_df.shape"
   ]
  },
  {
   "cell_type": "code",
   "execution_count": 31,
   "metadata": {},
   "outputs": [],
   "source": [
    "technology_df = technology_df.drop_duplicates(subset=['title'])"
   ]
  },
  {
   "cell_type": "code",
   "execution_count": 32,
   "metadata": {},
   "outputs": [
    {
     "data": {
      "text/plain": [
       "(3426, 10)"
      ]
     },
     "execution_count": 32,
     "metadata": {},
     "output_type": "execute_result"
    }
   ],
   "source": [
    "technology_df.shape"
   ]
  },
  {
   "cell_type": "markdown",
   "metadata": {},
   "source": [
    "# Export Clean & Combined Datasets"
   ]
  },
  {
   "cell_type": "code",
   "execution_count": 33,
   "metadata": {},
   "outputs": [],
   "source": [
    "science_df.to_csv('./data/reddit_science_clean.csv', index=False)"
   ]
  },
  {
   "cell_type": "code",
   "execution_count": 34,
   "metadata": {},
   "outputs": [],
   "source": [
    "technology_df.to_csv('./data/reddit_technology_clean.csv', index=False)"
   ]
  },
  {
   "cell_type": "code",
   "execution_count": 35,
   "metadata": {},
   "outputs": [],
   "source": [
    "subreddits_df.to_csv('./data/posts_combined_clean.csv', index=False)"
   ]
  }
 ],
 "metadata": {
  "kernelspec": {
   "display_name": "Python 3",
   "language": "python",
   "name": "python3"
  },
  "language_info": {
   "codemirror_mode": {
    "name": "ipython",
    "version": 3
   },
   "file_extension": ".py",
   "mimetype": "text/x-python",
   "name": "python",
   "nbconvert_exporter": "python",
   "pygments_lexer": "ipython3",
   "version": "3.8.5"
  }
 },
 "nbformat": 4,
 "nbformat_minor": 4
}
