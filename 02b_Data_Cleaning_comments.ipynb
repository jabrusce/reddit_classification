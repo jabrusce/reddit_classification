{
 "cells": [
  {
   "cell_type": "markdown",
   "metadata": {},
   "source": [
    "# Read in libraries and Data"
   ]
  },
  {
   "cell_type": "code",
   "execution_count": 1,
   "metadata": {},
   "outputs": [],
   "source": [
    "import numpy as np\n",
    "import pandas as pd"
   ]
  },
  {
   "cell_type": "code",
   "execution_count": 2,
   "metadata": {},
   "outputs": [],
   "source": [
    "sci_comments = pd.read_csv('./data/raw_data/posts_master_science_comments.csv')\n",
    "tech_comments = pd.read_csv('./data/raw_data/posts_master_technology_comments.csv')"
   ]
  },
  {
   "cell_type": "markdown",
   "metadata": {},
   "source": [
    "# Science Data Frame Cleaning"
   ]
  },
  {
   "cell_type": "code",
   "execution_count": 3,
   "metadata": {},
   "outputs": [
    {
     "data": {
      "text/html": [
       "<div>\n",
       "<style scoped>\n",
       "    .dataframe tbody tr th:only-of-type {\n",
       "        vertical-align: middle;\n",
       "    }\n",
       "\n",
       "    .dataframe tbody tr th {\n",
       "        vertical-align: top;\n",
       "    }\n",
       "\n",
       "    .dataframe thead th {\n",
       "        text-align: right;\n",
       "    }\n",
       "</style>\n",
       "<table border=\"1\" class=\"dataframe\">\n",
       "  <thead>\n",
       "    <tr style=\"text-align: right;\">\n",
       "      <th></th>\n",
       "      <th>Unnamed: 0</th>\n",
       "      <th>body</th>\n",
       "      <th>subreddit</th>\n",
       "      <th>created_utc</th>\n",
       "      <th>author</th>\n",
       "      <th>permalink</th>\n",
       "      <th>id</th>\n",
       "      <th>num_crossposts</th>\n",
       "      <th>total_awards_received</th>\n",
       "      <th>score</th>\n",
       "    </tr>\n",
       "  </thead>\n",
       "  <tbody>\n",
       "    <tr>\n",
       "      <th>0</th>\n",
       "      <td>0</td>\n",
       "      <td>[removed]</td>\n",
       "      <td>science</td>\n",
       "      <td>1610798385</td>\n",
       "      <td>[deleted]</td>\n",
       "      <td>NaN</td>\n",
       "      <td>NaN</td>\n",
       "      <td>NaN</td>\n",
       "      <td>NaN</td>\n",
       "      <td>NaN</td>\n",
       "    </tr>\n",
       "    <tr>\n",
       "      <th>1</th>\n",
       "      <td>1</td>\n",
       "      <td>I'm the oogey boogey man</td>\n",
       "      <td>science</td>\n",
       "      <td>1610798381</td>\n",
       "      <td>Rightintwo7</td>\n",
       "      <td>NaN</td>\n",
       "      <td>NaN</td>\n",
       "      <td>NaN</td>\n",
       "      <td>NaN</td>\n",
       "      <td>NaN</td>\n",
       "    </tr>\n",
       "    <tr>\n",
       "      <th>2</th>\n",
       "      <td>2</td>\n",
       "      <td>I mean, it’s not only small conveniences. Imag...</td>\n",
       "      <td>science</td>\n",
       "      <td>1610798369</td>\n",
       "      <td>Elfetzo</td>\n",
       "      <td>NaN</td>\n",
       "      <td>NaN</td>\n",
       "      <td>NaN</td>\n",
       "      <td>NaN</td>\n",
       "      <td>NaN</td>\n",
       "    </tr>\n",
       "  </tbody>\n",
       "</table>\n",
       "</div>"
      ],
      "text/plain": [
       "   Unnamed: 0                                               body subreddit  \\\n",
       "0           0                                          [removed]   science   \n",
       "1           1                           I'm the oogey boogey man   science   \n",
       "2           2  I mean, it’s not only small conveniences. Imag...   science   \n",
       "\n",
       "   created_utc       author  permalink  id  num_crossposts  \\\n",
       "0   1610798385    [deleted]        NaN NaN             NaN   \n",
       "1   1610798381  Rightintwo7        NaN NaN             NaN   \n",
       "2   1610798369      Elfetzo        NaN NaN             NaN   \n",
       "\n",
       "   total_awards_received  score  \n",
       "0                    NaN    NaN  \n",
       "1                    NaN    NaN  \n",
       "2                    NaN    NaN  "
      ]
     },
     "execution_count": 3,
     "metadata": {},
     "output_type": "execute_result"
    }
   ],
   "source": [
    "sci_comments.head(3)"
   ]
  },
  {
   "cell_type": "markdown",
   "metadata": {},
   "source": [
    "### Null values"
   ]
  },
  {
   "cell_type": "code",
   "execution_count": 4,
   "metadata": {},
   "outputs": [
    {
     "name": "stdout",
     "output_type": "stream",
     "text": [
      "<class 'pandas.core.frame.DataFrame'>\n",
      "RangeIndex: 5000 entries, 0 to 4999\n",
      "Data columns (total 10 columns):\n",
      " #   Column                 Non-Null Count  Dtype  \n",
      "---  ------                 --------------  -----  \n",
      " 0   Unnamed: 0             5000 non-null   int64  \n",
      " 1   body                   5000 non-null   object \n",
      " 2   subreddit              5000 non-null   object \n",
      " 3   created_utc            5000 non-null   int64  \n",
      " 4   author                 5000 non-null   object \n",
      " 5   permalink              0 non-null      float64\n",
      " 6   id                     0 non-null      float64\n",
      " 7   num_crossposts         0 non-null      float64\n",
      " 8   total_awards_received  0 non-null      float64\n",
      " 9   score                  0 non-null      float64\n",
      "dtypes: float64(5), int64(2), object(3)\n",
      "memory usage: 390.8+ KB\n"
     ]
    }
   ],
   "source": [
    "sci_comments.info()"
   ]
  },
  {
   "cell_type": "markdown",
   "metadata": {},
   "source": [
    "### Drop columns"
   ]
  },
  {
   "cell_type": "code",
   "execution_count": 5,
   "metadata": {},
   "outputs": [],
   "source": [
    "# drop all null columns\n",
    "sci_comments.drop(columns = 'Unnamed: 0', inplace=True)\n",
    "sci_comments.drop(columns = 'permalink', inplace=True)\n",
    "sci_comments.drop(columns = 'id', inplace=True)\n",
    "sci_comments.drop(columns = 'num_crossposts', inplace=True)\n",
    "sci_comments.drop(columns = 'total_awards_received', inplace=True)\n",
    "sci_comments.drop(columns = 'score', inplace=True)"
   ]
  },
  {
   "cell_type": "markdown",
   "metadata": {},
   "source": [
    "### Value Counts"
   ]
  },
  {
   "cell_type": "code",
   "execution_count": 6,
   "metadata": {},
   "outputs": [
    {
     "data": {
      "text/plain": [
       "science    5000\n",
       "Name: subreddit, dtype: int64"
      ]
     },
     "execution_count": 6,
     "metadata": {},
     "output_type": "execute_result"
    }
   ],
   "source": [
    "sci_comments['subreddit'].value_counts()"
   ]
  },
  {
   "cell_type": "code",
   "execution_count": 7,
   "metadata": {},
   "outputs": [
    {
     "data": {
      "text/plain": [
       "[removed]                                                                                                                                                                                                                                                                                                                                                                                                                                                                                                                                                                                                           1609\n",
       "[deleted]                                                                                                                                                                                                                                                                                                                                                                                                                                                                                                                                                                                                            127\n",
       "Your post has been removed because the referenced research is more than 6 months old and is therefore in violation of [Submission Rule #3](https://www.reddit.com/r/science/wiki/rules#wiki_3._research_must_be_less_than_6_months_old).\\n\\n_If you believe this removal to be unwarranted, or would like further clarification, please don't hesitate to [message the moderators](https://www.reddit.com/message/compose?to=%2Fr%2Fscience)._                                                                                                                                                                         4\n",
       "Your post has been removed because it has a sensationalized, editorialized, or biased headline and is therefore in violation of [Submission Rule #4](https://www.reddit.com/r/science/wiki/rules#wiki_4._no_editorialized.2C_sensationalized.2C_or_biased_titles). Please read [our headline rules](https://www.reddit.com/r/science/wiki/clickbait) and consider reposting with a more appropriate title.\\n\\n_If you believe this removal to be unwarranted, or would like further clarification, please don't hesitate to [message the moderators](https://www.reddit.com/message/compose?to=%2Fr%2Fscience)._       4\n",
       "Your post has been removed because it does not reference new peer-reviewed research and is therefore in violation of our [Submission Rules](https://www.reddit.com/r/science/wiki/rules#wiki_1._directly_link_to_published_peer-reviewed_research_or_media_summary).\\n\\nIf your submission is scientific in nature, consider reposting in our sister subreddit /r/EverythingScience.\\n\\n_If you believe this removal to be unwarranted, or would like further clarification, please don't hesitate to [message the moderators.](https://www.reddit.com/message/compose?to=%2Fr%2Fscience)._                            3\n",
       "                                                                                                                                                                                                                                                                                                                                                                                                                                                                                                                                                                                                                    ... \n",
       "I don't know. But a lot of stuff I read about (ketosis, certain supplements) aims to increase NAD+ production, I wonder if that has the possible downside of encouraging cancer??                                                                                                                                                                                                                                                                                                                                                                                                                                      1\n",
       "Which has nothing to do with my response. It was a question of countries being affected of war or not.                                                                                                                                                                                                                                                                                                                                                                                                                                                                                                                 1\n",
       "Silly hippies you can't be against fracking because we are dependent on oil! What do you mean try and stop being dependent on oil don't you know we are dependent on oil. Circle infinitely forever because nothing could or should ever change                                                                                                                                                                                                                                                                                                                                                                        1\n",
       "Life expectancy doesn't mean what you might think it means.                                                                                                                                                                                                                                                                                                                                                                                                                                                                                                                                                            1\n",
       "Sure but it's meaning even on reddit is entirely arbitrary and up to the reader. In this sense it has almost literally no definition. That's why these threads always devolve into random US sucks arguments as people try to find arbitrary reasons why the US sucks.                                                                                                                                                                                                                                                                                                                                                 1\n",
       "Name: body, Length: 3246, dtype: int64"
      ]
     },
     "execution_count": 7,
     "metadata": {},
     "output_type": "execute_result"
    }
   ],
   "source": [
    "sci_comments['body'].value_counts()"
   ]
  },
  {
   "cell_type": "markdown",
   "metadata": {},
   "source": [
    "- Possible duplicate posts"
   ]
  },
  {
   "cell_type": "code",
   "execution_count": 8,
   "metadata": {},
   "outputs": [
    {
     "data": {
      "text/plain": [
       "[deleted]            1736\n",
       "merithynos             26\n",
       "EscapeVelocity83       15\n",
       "shiruken               15\n",
       "trevor32192            15\n",
       "                     ... \n",
       "kingofafro              1\n",
       "American_Comrad69       1\n",
       "tokyojunior             1\n",
       "schweez                 1\n",
       "pinksandstrom           1\n",
       "Name: author, Length: 2189, dtype: int64"
      ]
     },
     "execution_count": 8,
     "metadata": {},
     "output_type": "execute_result"
    }
   ],
   "source": [
    "sci_comments['author'].value_counts()"
   ]
  },
  {
   "cell_type": "markdown",
   "metadata": {},
   "source": [
    "# Technology Data Cleaning"
   ]
  },
  {
   "cell_type": "code",
   "execution_count": 9,
   "metadata": {},
   "outputs": [
    {
     "data": {
      "text/html": [
       "<div>\n",
       "<style scoped>\n",
       "    .dataframe tbody tr th:only-of-type {\n",
       "        vertical-align: middle;\n",
       "    }\n",
       "\n",
       "    .dataframe tbody tr th {\n",
       "        vertical-align: top;\n",
       "    }\n",
       "\n",
       "    .dataframe thead th {\n",
       "        text-align: right;\n",
       "    }\n",
       "</style>\n",
       "<table border=\"1\" class=\"dataframe\">\n",
       "  <thead>\n",
       "    <tr style=\"text-align: right;\">\n",
       "      <th></th>\n",
       "      <th>Unnamed: 0</th>\n",
       "      <th>body</th>\n",
       "      <th>subreddit</th>\n",
       "      <th>created_utc</th>\n",
       "      <th>author</th>\n",
       "      <th>permalink</th>\n",
       "      <th>id</th>\n",
       "      <th>num_crossposts</th>\n",
       "      <th>total_awards_received</th>\n",
       "      <th>score</th>\n",
       "    </tr>\n",
       "  </thead>\n",
       "  <tbody>\n",
       "    <tr>\n",
       "      <th>0</th>\n",
       "      <td>0</td>\n",
       "      <td>&amp;gt; The try really doesn’t matter if the end ...</td>\n",
       "      <td>technology</td>\n",
       "      <td>1610798375</td>\n",
       "      <td>flybypost</td>\n",
       "      <td>NaN</td>\n",
       "      <td>NaN</td>\n",
       "      <td>NaN</td>\n",
       "      <td>NaN</td>\n",
       "      <td>NaN</td>\n",
       "    </tr>\n",
       "    <tr>\n",
       "      <th>1</th>\n",
       "      <td>1</td>\n",
       "      <td>Hello! **Please read this message very careful...</td>\n",
       "      <td>technology</td>\n",
       "      <td>1610798373</td>\n",
       "      <td>AutoModerator</td>\n",
       "      <td>NaN</td>\n",
       "      <td>NaN</td>\n",
       "      <td>NaN</td>\n",
       "      <td>NaN</td>\n",
       "      <td>NaN</td>\n",
       "    </tr>\n",
       "    <tr>\n",
       "      <th>2</th>\n",
       "      <td>2</td>\n",
       "      <td>Societal media without overarching censorship?...</td>\n",
       "      <td>technology</td>\n",
       "      <td>1610798365</td>\n",
       "      <td>youreillusional</td>\n",
       "      <td>NaN</td>\n",
       "      <td>NaN</td>\n",
       "      <td>NaN</td>\n",
       "      <td>NaN</td>\n",
       "      <td>NaN</td>\n",
       "    </tr>\n",
       "  </tbody>\n",
       "</table>\n",
       "</div>"
      ],
      "text/plain": [
       "   Unnamed: 0                                               body   subreddit  \\\n",
       "0           0  &gt; The try really doesn’t matter if the end ...  technology   \n",
       "1           1  Hello! **Please read this message very careful...  technology   \n",
       "2           2  Societal media without overarching censorship?...  technology   \n",
       "\n",
       "   created_utc           author  permalink  id  num_crossposts  \\\n",
       "0   1610798375        flybypost        NaN NaN             NaN   \n",
       "1   1610798373    AutoModerator        NaN NaN             NaN   \n",
       "2   1610798365  youreillusional        NaN NaN             NaN   \n",
       "\n",
       "   total_awards_received  score  \n",
       "0                    NaN    NaN  \n",
       "1                    NaN    NaN  \n",
       "2                    NaN    NaN  "
      ]
     },
     "execution_count": 9,
     "metadata": {},
     "output_type": "execute_result"
    }
   ],
   "source": [
    "tech_comments.head(3)"
   ]
  },
  {
   "cell_type": "markdown",
   "metadata": {},
   "source": [
    "### Null Values"
   ]
  },
  {
   "cell_type": "code",
   "execution_count": 10,
   "metadata": {},
   "outputs": [
    {
     "name": "stdout",
     "output_type": "stream",
     "text": [
      "<class 'pandas.core.frame.DataFrame'>\n",
      "RangeIndex: 5000 entries, 0 to 4999\n",
      "Data columns (total 10 columns):\n",
      " #   Column                 Non-Null Count  Dtype  \n",
      "---  ------                 --------------  -----  \n",
      " 0   Unnamed: 0             5000 non-null   int64  \n",
      " 1   body                   5000 non-null   object \n",
      " 2   subreddit              5000 non-null   object \n",
      " 3   created_utc            5000 non-null   int64  \n",
      " 4   author                 5000 non-null   object \n",
      " 5   permalink              0 non-null      float64\n",
      " 6   id                     0 non-null      float64\n",
      " 7   num_crossposts         0 non-null      float64\n",
      " 8   total_awards_received  0 non-null      float64\n",
      " 9   score                  0 non-null      float64\n",
      "dtypes: float64(5), int64(2), object(3)\n",
      "memory usage: 390.8+ KB\n"
     ]
    }
   ],
   "source": [
    "tech_comments.info()"
   ]
  },
  {
   "cell_type": "markdown",
   "metadata": {},
   "source": [
    "### Drop Columns"
   ]
  },
  {
   "cell_type": "code",
   "execution_count": 11,
   "metadata": {},
   "outputs": [],
   "source": [
    "#drop all null columns\n",
    "tech_comments.drop(columns = 'Unnamed: 0', inplace=True)\n",
    "tech_comments.drop(columns = 'permalink', inplace=True)\n",
    "tech_comments.drop(columns = 'id', inplace=True)\n",
    "tech_comments.drop(columns = 'num_crossposts', inplace=True)\n",
    "tech_comments.drop(columns = 'total_awards_received', inplace=True)\n",
    "tech_comments.drop(columns = 'score', inplace=True)"
   ]
  },
  {
   "cell_type": "markdown",
   "metadata": {},
   "source": [
    "### Value Counts"
   ]
  },
  {
   "cell_type": "code",
   "execution_count": 12,
   "metadata": {},
   "outputs": [
    {
     "data": {
      "text/plain": [
       "technology    5000\n",
       "Name: subreddit, dtype: int64"
      ]
     },
     "execution_count": 12,
     "metadata": {},
     "output_type": "execute_result"
    }
   ],
   "source": [
    "tech_comments['subreddit'].value_counts()"
   ]
  },
  {
   "cell_type": "code",
   "execution_count": 13,
   "metadata": {},
   "outputs": [
    {
     "data": {
      "text/plain": [
       "[removed]                                                                                                                                                                                                                                                                                                                                                                                                                                                                                                                                                                                                                                                                                                                                                                                                                                                                                                                                                                                                                                                                                                                                                                  277\n",
       "[deleted]                                                                                                                                                                                                                                                                                                                                                                                                                                                                                                                                                                                                                                                                                                                                                                                                                                                                                                                                                                                                                                                                                                                                                                  166\n",
       "Hello! **Please read this message very carefully.**\\n\\nUnfortunately, since [your account has less than 10 combined karma](/u/me) and spam from new accounts makes up a significant portion of all spam, your post was automatically, temporarily removed. **Have a tech support question?** Please head over to /r/techsupport, /r/asktechnology, or other tech-centric subreddits listed on the sidebar.\\n\\nYou may still contribute and earn some karma by *commenting* on other existing posts in /r/technology instead. Additionally, you may make meaningful contributions to [other subreddits](/subreddits) to increase your karma count. Tech support questions/opinions/suggestion requests, surveys, blogs, and videos will **NOT** be approved. If this is a legitimate submission that is not covered in the previously listed criteria, please message the moderators to have them manually review your post, or wait a few days and try again. \\n\\nThank you!\\n\\n*I am a bot, and this action was performed automatically. Please [contact the moderators of this subreddit](/message/compose/?to=/r/technology) if you have any questions or concerns.*     25\n",
       "Text posts are exclusively for discussion and discourse of technology andor it's effects on society. That means at a minimum requirement they must have some short synopsis of what the topic is about and, ideally, present links to back up the hypothesis and links to show any counter points as well.\\nText Posts will be approved by-request only. If your post does not meet the above criteria, please edit and expand your post before messaging the moderators for approval. \\nThank you for your understanding.\\n\\n*I am a bot, and this action was performed automatically. Please [contact the moderators of this subreddit](/message/compose/?to=/r/technology) if you have any questions or concerns.*                                                                                                                                                                                                                                                                                                                                                                                                                                                       13\n",
       "Due to the proximity of the US presidential election and the escalation of partisan campaigning it has been decided that /r/technology is to be a 'politics-lite' sub until the end of the year. That means mentions of either candidate, Biden or Trump  or political party, Democrats or Republicans, will be reviewed on a case by case basis and must meet this subs primary criteria of technology news. So campaign promises do not count,  nor does commentary or speculation from politicians or vested interests. Enacted or proposed government policies will be allowed so long as they fall squarely in the auspices of technology or the business of technology.   \\n\\nShould you wish clarification of these guidelines please feel free to [contact the moderators](https://www.reddit.com/message/compose?to=/r/technology) and they will help explain it more comprehensively if you are confused. \\n \\n\\n*I am a bot, and this action was performed automatically. Please [contact the moderators of this subreddit](/message/compose/?to=/r/technology) if you have any questions or concerns.*                                                           5\n",
       "                                                                                                                                                                                                                                                                                                                                                                                                                                                                                                                                                                                                                                                                                                                                                                                                                                                                                                                                                                                                                                                                                                                                                                          ... \n",
       "If we’re going to keep cancelling everything and be politically correct, we should continue allowing lyrics about murder, demeaning women, and promoting gang culture in our society?                                                                                                                                                                                                                                                                                                                                                                                                                                                                                                                                                                                                                                                                                                                                                                                                                                                                                                                                                                                        1\n",
       "Same made one. No picture. No posts. Looked around really early on. Got bored. Uninstalled. \\n\\nThe cycle of social media.                                                                                                                                                                                                                                                                                                                                                                                                                                                                                                                                                                                                                                                                                                                                                                                                                                                                                                                                                                                                                                                   1\n",
       "As I understand, their tactic is not to confront our military head on, but instead to witle us away on many fronts... \"Death by a thousand paper cuts\" as I've heard them call it.\\n\\nSoft power plays with a long term strategy: infiltrating positions of power/influence/education with CCP loyalists, stealing IP/R&amp;D using computer hacking or old fashioned bribery (as is the case in the article posted),  amplifying race/cultural divisions abroad using social media, manipulating currency and trying to usurp the petro dollar. And that's just the tip of the iceberg...\\n\\nMark my words. China will take over Hong Kong and Taiwan before we know it happened.                                                                                                                                                                                                                                                                                                                                                                                                                                                                                           1\n",
       "Parler is a known hotbed of racism, white supremacy, and conspiracy theories many of which are rooted to QAnon. Much of last week’s insurrection was planned on Parler and many of the people who participated were active on Parler. It’s safe to assume the type of person who was posting content on that platform and what their beliefs are.                                                                                                                                                                                                                                                                                                                                                                                                                                                                                                                                                                                                                                                                                                                                                                                                                            1\n",
       "Vivaldi. It’s what opera used to be, made by a team based in Iceland.                                                                                                                                                                                                                                                                                                                                                                                                                                                                                                                                                                                                                                                                                                                                                                                                                                                                                                                                                                                                                                                                                                        1\n",
       "Name: body, Length: 4486, dtype: int64"
      ]
     },
     "execution_count": 13,
     "metadata": {},
     "output_type": "execute_result"
    }
   ],
   "source": [
    "tech_comments['body'].value_counts()"
   ]
  },
  {
   "cell_type": "markdown",
   "metadata": {},
   "source": [
    "- May have duplicate posts"
   ]
  },
  {
   "cell_type": "code",
   "execution_count": 14,
   "metadata": {},
   "outputs": [
    {
     "data": {
      "text/plain": [
       "[deleted]               446\n",
       "MegaAcumen               62\n",
       "bruhsbruhsbruhs          60\n",
       "AutoModerator            52\n",
       "simpathyforthedevil      26\n",
       "                       ... \n",
       "jetforcegemini            1\n",
       "Method__Man               1\n",
       "DanReach                  1\n",
       "blendedfarley             1\n",
       "Reddit_as_Screenplay      1\n",
       "Name: author, Length: 2789, dtype: int64"
      ]
     },
     "execution_count": 14,
     "metadata": {},
     "output_type": "execute_result"
    }
   ],
   "source": [
    "tech_comments['author'].value_counts()"
   ]
  },
  {
   "cell_type": "markdown",
   "metadata": {},
   "source": [
    "- many [deleted] posts"
   ]
  },
  {
   "cell_type": "code",
   "execution_count": 15,
   "metadata": {},
   "outputs": [
    {
     "data": {
      "text/plain": [
       "(10000, 4)"
      ]
     },
     "execution_count": 15,
     "metadata": {},
     "output_type": "execute_result"
    }
   ],
   "source": [
    "comments_df = pd.concat(objs=[sci_comments, tech_comments], axis=0)\n",
    "comments_df.shape"
   ]
  },
  {
   "cell_type": "code",
   "execution_count": 16,
   "metadata": {},
   "outputs": [
    {
     "data": {
      "text/html": [
       "<div>\n",
       "<style scoped>\n",
       "    .dataframe tbody tr th:only-of-type {\n",
       "        vertical-align: middle;\n",
       "    }\n",
       "\n",
       "    .dataframe tbody tr th {\n",
       "        vertical-align: top;\n",
       "    }\n",
       "\n",
       "    .dataframe thead th {\n",
       "        text-align: right;\n",
       "    }\n",
       "</style>\n",
       "<table border=\"1\" class=\"dataframe\">\n",
       "  <thead>\n",
       "    <tr style=\"text-align: right;\">\n",
       "      <th></th>\n",
       "      <th>body</th>\n",
       "      <th>subreddit</th>\n",
       "      <th>created_utc</th>\n",
       "      <th>author</th>\n",
       "    </tr>\n",
       "  </thead>\n",
       "  <tbody>\n",
       "    <tr>\n",
       "      <th>0</th>\n",
       "      <td>[removed]</td>\n",
       "      <td>science</td>\n",
       "      <td>1610798385</td>\n",
       "      <td>[deleted]</td>\n",
       "    </tr>\n",
       "    <tr>\n",
       "      <th>1</th>\n",
       "      <td>I'm the oogey boogey man</td>\n",
       "      <td>science</td>\n",
       "      <td>1610798381</td>\n",
       "      <td>Rightintwo7</td>\n",
       "    </tr>\n",
       "    <tr>\n",
       "      <th>2</th>\n",
       "      <td>I mean, it’s not only small conveniences. Imag...</td>\n",
       "      <td>science</td>\n",
       "      <td>1610798369</td>\n",
       "      <td>Elfetzo</td>\n",
       "    </tr>\n",
       "    <tr>\n",
       "      <th>3</th>\n",
       "      <td>There is a growing consensus among scientists ...</td>\n",
       "      <td>science</td>\n",
       "      <td>1610798359</td>\n",
       "      <td>Wagamaga</td>\n",
       "    </tr>\n",
       "    <tr>\n",
       "      <th>4</th>\n",
       "      <td>I wouldn't put your hopes on it. I work with n...</td>\n",
       "      <td>science</td>\n",
       "      <td>1610798294</td>\n",
       "      <td>Down_The_Rabbithole</td>\n",
       "    </tr>\n",
       "    <tr>\n",
       "      <th>...</th>\n",
       "      <td>...</td>\n",
       "      <td>...</td>\n",
       "      <td>...</td>\n",
       "      <td>...</td>\n",
       "    </tr>\n",
       "    <tr>\n",
       "      <th>4995</th>\n",
       "      <td>I'm saying insurrection isn't a valid reason t...</td>\n",
       "      <td>technology</td>\n",
       "      <td>1610745997</td>\n",
       "      <td>ApocDream</td>\n",
       "    </tr>\n",
       "    <tr>\n",
       "      <th>4996</th>\n",
       "      <td>hate to be a debby downer, but its like the ca...</td>\n",
       "      <td>technology</td>\n",
       "      <td>1610745995</td>\n",
       "      <td>rolex_chaser</td>\n",
       "    </tr>\n",
       "    <tr>\n",
       "      <th>4997</th>\n",
       "      <td>for a while our drummer used to reherse with a...</td>\n",
       "      <td>technology</td>\n",
       "      <td>1610745992</td>\n",
       "      <td>NightRavenFSZ</td>\n",
       "    </tr>\n",
       "    <tr>\n",
       "      <th>4998</th>\n",
       "      <td>[deleted]</td>\n",
       "      <td>technology</td>\n",
       "      <td>1610745986</td>\n",
       "      <td>[deleted]</td>\n",
       "    </tr>\n",
       "    <tr>\n",
       "      <th>4999</th>\n",
       "      <td>I had no idea they added so many. !osrs is ama...</td>\n",
       "      <td>technology</td>\n",
       "      <td>1610745977</td>\n",
       "      <td>telionn</td>\n",
       "    </tr>\n",
       "  </tbody>\n",
       "</table>\n",
       "<p>10000 rows × 4 columns</p>\n",
       "</div>"
      ],
      "text/plain": [
       "                                                   body   subreddit  \\\n",
       "0                                             [removed]     science   \n",
       "1                              I'm the oogey boogey man     science   \n",
       "2     I mean, it’s not only small conveniences. Imag...     science   \n",
       "3     There is a growing consensus among scientists ...     science   \n",
       "4     I wouldn't put your hopes on it. I work with n...     science   \n",
       "...                                                 ...         ...   \n",
       "4995  I'm saying insurrection isn't a valid reason t...  technology   \n",
       "4996  hate to be a debby downer, but its like the ca...  technology   \n",
       "4997  for a while our drummer used to reherse with a...  technology   \n",
       "4998                                          [deleted]  technology   \n",
       "4999  I had no idea they added so many. !osrs is ama...  technology   \n",
       "\n",
       "      created_utc               author  \n",
       "0      1610798385            [deleted]  \n",
       "1      1610798381          Rightintwo7  \n",
       "2      1610798369              Elfetzo  \n",
       "3      1610798359             Wagamaga  \n",
       "4      1610798294  Down_The_Rabbithole  \n",
       "...           ...                  ...  \n",
       "4995   1610745997            ApocDream  \n",
       "4996   1610745995         rolex_chaser  \n",
       "4997   1610745992        NightRavenFSZ  \n",
       "4998   1610745986            [deleted]  \n",
       "4999   1610745977              telionn  \n",
       "\n",
       "[10000 rows x 4 columns]"
      ]
     },
     "execution_count": 16,
     "metadata": {},
     "output_type": "execute_result"
    }
   ],
   "source": [
    "comments_df"
   ]
  },
  {
   "cell_type": "markdown",
   "metadata": {},
   "source": [
    "### Drop duplicates"
   ]
  },
  {
   "cell_type": "code",
   "execution_count": 17,
   "metadata": {},
   "outputs": [],
   "source": [
    "comments_df = comments_df.drop_duplicates(subset=['body'])"
   ]
  },
  {
   "cell_type": "code",
   "execution_count": 18,
   "metadata": {},
   "outputs": [
    {
     "data": {
      "text/plain": [
       "(7730, 4)"
      ]
     },
     "execution_count": 18,
     "metadata": {},
     "output_type": "execute_result"
    }
   ],
   "source": [
    "comments_df.shape"
   ]
  },
  {
   "cell_type": "code",
   "execution_count": 19,
   "metadata": {},
   "outputs": [],
   "source": [
    "sci_comments = sci_comments.drop_duplicates(subset=['body'])"
   ]
  },
  {
   "cell_type": "code",
   "execution_count": 20,
   "metadata": {},
   "outputs": [
    {
     "data": {
      "text/plain": [
       "(3246, 4)"
      ]
     },
     "execution_count": 20,
     "metadata": {},
     "output_type": "execute_result"
    }
   ],
   "source": [
    "sci_comments.shape"
   ]
  },
  {
   "cell_type": "code",
   "execution_count": 21,
   "metadata": {},
   "outputs": [
    {
     "data": {
      "text/html": [
       "<div>\n",
       "<style scoped>\n",
       "    .dataframe tbody tr th:only-of-type {\n",
       "        vertical-align: middle;\n",
       "    }\n",
       "\n",
       "    .dataframe tbody tr th {\n",
       "        vertical-align: top;\n",
       "    }\n",
       "\n",
       "    .dataframe thead th {\n",
       "        text-align: right;\n",
       "    }\n",
       "</style>\n",
       "<table border=\"1\" class=\"dataframe\">\n",
       "  <thead>\n",
       "    <tr style=\"text-align: right;\">\n",
       "      <th></th>\n",
       "      <th>body</th>\n",
       "      <th>subreddit</th>\n",
       "      <th>created_utc</th>\n",
       "      <th>author</th>\n",
       "    </tr>\n",
       "  </thead>\n",
       "  <tbody>\n",
       "    <tr>\n",
       "      <th>0</th>\n",
       "      <td>[removed]</td>\n",
       "      <td>science</td>\n",
       "      <td>1610798385</td>\n",
       "      <td>[deleted]</td>\n",
       "    </tr>\n",
       "    <tr>\n",
       "      <th>1</th>\n",
       "      <td>I'm the oogey boogey man</td>\n",
       "      <td>science</td>\n",
       "      <td>1610798381</td>\n",
       "      <td>Rightintwo7</td>\n",
       "    </tr>\n",
       "    <tr>\n",
       "      <th>2</th>\n",
       "      <td>I mean, it’s not only small conveniences. Imag...</td>\n",
       "      <td>science</td>\n",
       "      <td>1610798369</td>\n",
       "      <td>Elfetzo</td>\n",
       "    </tr>\n",
       "  </tbody>\n",
       "</table>\n",
       "</div>"
      ],
      "text/plain": [
       "                                                body subreddit  created_utc  \\\n",
       "0                                          [removed]   science   1610798385   \n",
       "1                           I'm the oogey boogey man   science   1610798381   \n",
       "2  I mean, it’s not only small conveniences. Imag...   science   1610798369   \n",
       "\n",
       "        author  \n",
       "0    [deleted]  \n",
       "1  Rightintwo7  \n",
       "2      Elfetzo  "
      ]
     },
     "execution_count": 21,
     "metadata": {},
     "output_type": "execute_result"
    }
   ],
   "source": [
    "sci_comments.head(3)"
   ]
  },
  {
   "cell_type": "code",
   "execution_count": 22,
   "metadata": {},
   "outputs": [],
   "source": [
    "tech_comments = tech_comments.drop_duplicates(subset=['body'])"
   ]
  },
  {
   "cell_type": "code",
   "execution_count": 23,
   "metadata": {},
   "outputs": [
    {
     "data": {
      "text/plain": [
       "(4486, 4)"
      ]
     },
     "execution_count": 23,
     "metadata": {},
     "output_type": "execute_result"
    }
   ],
   "source": [
    "tech_comments.shape"
   ]
  },
  {
   "cell_type": "code",
   "execution_count": 24,
   "metadata": {},
   "outputs": [
    {
     "data": {
      "text/html": [
       "<div>\n",
       "<style scoped>\n",
       "    .dataframe tbody tr th:only-of-type {\n",
       "        vertical-align: middle;\n",
       "    }\n",
       "\n",
       "    .dataframe tbody tr th {\n",
       "        vertical-align: top;\n",
       "    }\n",
       "\n",
       "    .dataframe thead th {\n",
       "        text-align: right;\n",
       "    }\n",
       "</style>\n",
       "<table border=\"1\" class=\"dataframe\">\n",
       "  <thead>\n",
       "    <tr style=\"text-align: right;\">\n",
       "      <th></th>\n",
       "      <th>body</th>\n",
       "      <th>subreddit</th>\n",
       "      <th>created_utc</th>\n",
       "      <th>author</th>\n",
       "    </tr>\n",
       "  </thead>\n",
       "  <tbody>\n",
       "    <tr>\n",
       "      <th>0</th>\n",
       "      <td>&amp;gt; The try really doesn’t matter if the end ...</td>\n",
       "      <td>technology</td>\n",
       "      <td>1610798375</td>\n",
       "      <td>flybypost</td>\n",
       "    </tr>\n",
       "    <tr>\n",
       "      <th>1</th>\n",
       "      <td>Hello! **Please read this message very careful...</td>\n",
       "      <td>technology</td>\n",
       "      <td>1610798373</td>\n",
       "      <td>AutoModerator</td>\n",
       "    </tr>\n",
       "    <tr>\n",
       "      <th>2</th>\n",
       "      <td>Societal media without overarching censorship?...</td>\n",
       "      <td>technology</td>\n",
       "      <td>1610798365</td>\n",
       "      <td>youreillusional</td>\n",
       "    </tr>\n",
       "  </tbody>\n",
       "</table>\n",
       "</div>"
      ],
      "text/plain": [
       "                                                body   subreddit  created_utc  \\\n",
       "0  &gt; The try really doesn’t matter if the end ...  technology   1610798375   \n",
       "1  Hello! **Please read this message very careful...  technology   1610798373   \n",
       "2  Societal media without overarching censorship?...  technology   1610798365   \n",
       "\n",
       "            author  \n",
       "0        flybypost  \n",
       "1    AutoModerator  \n",
       "2  youreillusional  "
      ]
     },
     "execution_count": 24,
     "metadata": {},
     "output_type": "execute_result"
    }
   ],
   "source": [
    "tech_comments.head(3)"
   ]
  },
  {
   "cell_type": "markdown",
   "metadata": {},
   "source": [
    "# Export Clean & Combined Datasets"
   ]
  },
  {
   "cell_type": "code",
   "execution_count": 25,
   "metadata": {},
   "outputs": [],
   "source": [
    "sci_comments.to_csv('./data/science_comments_clean.csv', index=False)"
   ]
  },
  {
   "cell_type": "code",
   "execution_count": 26,
   "metadata": {},
   "outputs": [],
   "source": [
    "tech_comments.to_csv('./data/technology_comments_clean.csv', index=False)"
   ]
  },
  {
   "cell_type": "code",
   "execution_count": 27,
   "metadata": {},
   "outputs": [],
   "source": [
    "comments_df.to_csv('./data/comments_combined_clean.csv', index=False)"
   ]
  }
 ],
 "metadata": {
  "kernelspec": {
   "display_name": "Python 3",
   "language": "python",
   "name": "python3"
  },
  "language_info": {
   "codemirror_mode": {
    "name": "ipython",
    "version": 3
   },
   "file_extension": ".py",
   "mimetype": "text/x-python",
   "name": "python",
   "nbconvert_exporter": "python",
   "pygments_lexer": "ipython3",
   "version": "3.8.5"
  }
 },
 "nbformat": 4,
 "nbformat_minor": 4
}
