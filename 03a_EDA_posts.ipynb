{
 "cells": [
  {
   "cell_type": "markdown",
   "metadata": {},
   "source": [
    "# Import Libraries and Clean Data"
   ]
  },
  {
   "cell_type": "code",
   "execution_count": 1,
   "metadata": {},
   "outputs": [],
   "source": [
    "import pandas as pd\n",
    "import numpy as np\n",
    "import matplotlib.pyplot as plt\n",
    "\n",
    "from sklearn.feature_extraction.text import CountVectorizer"
   ]
  },
  {
   "cell_type": "code",
   "execution_count": 2,
   "metadata": {},
   "outputs": [],
   "source": [
    "technology = pd.read_csv('./data/reddit_technology_clean.csv')"
   ]
  },
  {
   "cell_type": "code",
   "execution_count": 3,
   "metadata": {},
   "outputs": [
    {
     "data": {
      "text/plain": [
       "(3426, 10)"
      ]
     },
     "execution_count": 3,
     "metadata": {},
     "output_type": "execute_result"
    }
   ],
   "source": [
    "technology.shape"
   ]
  },
  {
   "cell_type": "code",
   "execution_count": 4,
   "metadata": {},
   "outputs": [],
   "source": [
    "science = pd.read_csv('./data/reddit_science_clean.csv')"
   ]
  },
  {
   "cell_type": "code",
   "execution_count": 5,
   "metadata": {},
   "outputs": [
    {
     "data": {
      "text/plain": [
       "(4563, 10)"
      ]
     },
     "execution_count": 5,
     "metadata": {},
     "output_type": "execute_result"
    }
   ],
   "source": [
    "science.shape"
   ]
  },
  {
   "cell_type": "code",
   "execution_count": 6,
   "metadata": {},
   "outputs": [],
   "source": [
    "#combined science and technology dataframes\n",
    "subreddits = pd.read_csv('./data/posts_combined_clean.csv')"
   ]
  },
  {
   "cell_type": "code",
   "execution_count": 7,
   "metadata": {},
   "outputs": [
    {
     "data": {
      "text/plain": [
       "(7976, 10)"
      ]
     },
     "execution_count": 7,
     "metadata": {},
     "output_type": "execute_result"
    }
   ],
   "source": [
    "subreddits.shape"
   ]
  },
  {
   "cell_type": "code",
   "execution_count": 8,
   "metadata": {},
   "outputs": [
    {
     "name": "stdout",
     "output_type": "stream",
     "text": [
      "<class 'pandas.core.frame.DataFrame'>\n",
      "RangeIndex: 7976 entries, 0 to 7975\n",
      "Data columns (total 10 columns):\n",
      " #   Column                 Non-Null Count  Dtype  \n",
      "---  ------                 --------------  -----  \n",
      " 0   subreddit              7976 non-null   object \n",
      " 1   title                  7976 non-null   object \n",
      " 2   author                 7976 non-null   object \n",
      " 3   created_utc            7976 non-null   int64  \n",
      " 4   upvote_ratio           7976 non-null   float64\n",
      " 5   full_link              7976 non-null   object \n",
      " 6   num_comments           7976 non-null   int64  \n",
      " 7   num_crossposts         7976 non-null   int64  \n",
      " 8   total_awards_received  7976 non-null   int64  \n",
      " 9   score                  7976 non-null   int64  \n",
      "dtypes: float64(1), int64(5), object(4)\n",
      "memory usage: 623.2+ KB\n"
     ]
    }
   ],
   "source": [
    "subreddits.info()"
   ]
  },
  {
   "cell_type": "code",
   "execution_count": 9,
   "metadata": {},
   "outputs": [
    {
     "data": {
      "text/html": [
       "<div>\n",
       "<style scoped>\n",
       "    .dataframe tbody tr th:only-of-type {\n",
       "        vertical-align: middle;\n",
       "    }\n",
       "\n",
       "    .dataframe tbody tr th {\n",
       "        vertical-align: top;\n",
       "    }\n",
       "\n",
       "    .dataframe thead th {\n",
       "        text-align: right;\n",
       "    }\n",
       "</style>\n",
       "<table border=\"1\" class=\"dataframe\">\n",
       "  <thead>\n",
       "    <tr style=\"text-align: right;\">\n",
       "      <th></th>\n",
       "      <th>subreddit</th>\n",
       "      <th>title</th>\n",
       "      <th>author</th>\n",
       "      <th>created_utc</th>\n",
       "      <th>upvote_ratio</th>\n",
       "      <th>full_link</th>\n",
       "      <th>num_comments</th>\n",
       "      <th>num_crossposts</th>\n",
       "      <th>total_awards_received</th>\n",
       "      <th>score</th>\n",
       "    </tr>\n",
       "  </thead>\n",
       "  <tbody>\n",
       "    <tr>\n",
       "      <th>0</th>\n",
       "      <td>science</td>\n",
       "      <td>A Climate in Crisis Calls for Investment in Di...</td>\n",
       "      <td>Wagamaga</td>\n",
       "      <td>1610798299</td>\n",
       "      <td>1.0</td>\n",
       "      <td>https://www.reddit.com/r/science/comments/kyhp...</td>\n",
       "      <td>6</td>\n",
       "      <td>0</td>\n",
       "      <td>0</td>\n",
       "      <td>1</td>\n",
       "    </tr>\n",
       "    <tr>\n",
       "      <th>1</th>\n",
       "      <td>science</td>\n",
       "      <td>Cureus | Telemedicine: Current Impact on the F...</td>\n",
       "      <td>CureusJournal</td>\n",
       "      <td>1610798085</td>\n",
       "      <td>1.0</td>\n",
       "      <td>https://www.reddit.com/r/science/comments/kyho...</td>\n",
       "      <td>0</td>\n",
       "      <td>0</td>\n",
       "      <td>0</td>\n",
       "      <td>1</td>\n",
       "    </tr>\n",
       "    <tr>\n",
       "      <th>2</th>\n",
       "      <td>science</td>\n",
       "      <td>Magnetic reconnection as a mechanism for energ...</td>\n",
       "      <td>m3prx</td>\n",
       "      <td>1610792298</td>\n",
       "      <td>1.0</td>\n",
       "      <td>https://www.reddit.com/r/science/comments/kygi...</td>\n",
       "      <td>2</td>\n",
       "      <td>0</td>\n",
       "      <td>0</td>\n",
       "      <td>1</td>\n",
       "    </tr>\n",
       "    <tr>\n",
       "      <th>3</th>\n",
       "      <td>science</td>\n",
       "      <td>Sprinkle of chili compound boosts perovskite s...</td>\n",
       "      <td>MistWeaver80</td>\n",
       "      <td>1610779333</td>\n",
       "      <td>1.0</td>\n",
       "      <td>https://www.reddit.com/r/science/comments/kydw...</td>\n",
       "      <td>2</td>\n",
       "      <td>0</td>\n",
       "      <td>0</td>\n",
       "      <td>1</td>\n",
       "    </tr>\n",
       "    <tr>\n",
       "      <th>4</th>\n",
       "      <td>science</td>\n",
       "      <td>Ancient Roman concrete mineral found strengthe...</td>\n",
       "      <td>MistWeaver80</td>\n",
       "      <td>1610778779</td>\n",
       "      <td>1.0</td>\n",
       "      <td>https://www.reddit.com/r/science/comments/kyds...</td>\n",
       "      <td>1</td>\n",
       "      <td>0</td>\n",
       "      <td>0</td>\n",
       "      <td>1</td>\n",
       "    </tr>\n",
       "  </tbody>\n",
       "</table>\n",
       "</div>"
      ],
      "text/plain": [
       "  subreddit                                              title         author  \\\n",
       "0   science  A Climate in Crisis Calls for Investment in Di...       Wagamaga   \n",
       "1   science  Cureus | Telemedicine: Current Impact on the F...  CureusJournal   \n",
       "2   science  Magnetic reconnection as a mechanism for energ...          m3prx   \n",
       "3   science  Sprinkle of chili compound boosts perovskite s...   MistWeaver80   \n",
       "4   science  Ancient Roman concrete mineral found strengthe...   MistWeaver80   \n",
       "\n",
       "   created_utc  upvote_ratio  \\\n",
       "0   1610798299           1.0   \n",
       "1   1610798085           1.0   \n",
       "2   1610792298           1.0   \n",
       "3   1610779333           1.0   \n",
       "4   1610778779           1.0   \n",
       "\n",
       "                                           full_link  num_comments  \\\n",
       "0  https://www.reddit.com/r/science/comments/kyhp...             6   \n",
       "1  https://www.reddit.com/r/science/comments/kyho...             0   \n",
       "2  https://www.reddit.com/r/science/comments/kygi...             2   \n",
       "3  https://www.reddit.com/r/science/comments/kydw...             2   \n",
       "4  https://www.reddit.com/r/science/comments/kyds...             1   \n",
       "\n",
       "   num_crossposts  total_awards_received  score  \n",
       "0               0                      0      1  \n",
       "1               0                      0      1  \n",
       "2               0                      0      1  \n",
       "3               0                      0      1  \n",
       "4               0                      0      1  "
      ]
     },
     "execution_count": 9,
     "metadata": {},
     "output_type": "execute_result"
    }
   ],
   "source": [
    "subreddits.head()"
   ]
  },
  {
   "cell_type": "code",
   "execution_count": 10,
   "metadata": {},
   "outputs": [
    {
     "data": {
      "text/html": [
       "<div>\n",
       "<style scoped>\n",
       "    .dataframe tbody tr th:only-of-type {\n",
       "        vertical-align: middle;\n",
       "    }\n",
       "\n",
       "    .dataframe tbody tr th {\n",
       "        vertical-align: top;\n",
       "    }\n",
       "\n",
       "    .dataframe thead th {\n",
       "        text-align: right;\n",
       "    }\n",
       "</style>\n",
       "<table border=\"1\" class=\"dataframe\">\n",
       "  <thead>\n",
       "    <tr style=\"text-align: right;\">\n",
       "      <th></th>\n",
       "      <th>created_utc</th>\n",
       "      <th>upvote_ratio</th>\n",
       "      <th>num_comments</th>\n",
       "      <th>num_crossposts</th>\n",
       "      <th>total_awards_received</th>\n",
       "      <th>score</th>\n",
       "    </tr>\n",
       "  </thead>\n",
       "  <tbody>\n",
       "    <tr>\n",
       "      <th>count</th>\n",
       "      <td>7.976000e+03</td>\n",
       "      <td>7976.000000</td>\n",
       "      <td>7976.000000</td>\n",
       "      <td>7976.000000</td>\n",
       "      <td>7976.000000</td>\n",
       "      <td>7976.000000</td>\n",
       "    </tr>\n",
       "    <tr>\n",
       "      <th>mean</th>\n",
       "      <td>1.607679e+09</td>\n",
       "      <td>0.985410</td>\n",
       "      <td>52.118982</td>\n",
       "      <td>0.014920</td>\n",
       "      <td>0.030717</td>\n",
       "      <td>34.049398</td>\n",
       "    </tr>\n",
       "    <tr>\n",
       "      <th>std</th>\n",
       "      <td>2.625036e+06</td>\n",
       "      <td>0.075062</td>\n",
       "      <td>354.039621</td>\n",
       "      <td>0.370922</td>\n",
       "      <td>1.144893</td>\n",
       "      <td>1118.723423</td>\n",
       "    </tr>\n",
       "    <tr>\n",
       "      <th>min</th>\n",
       "      <td>1.602634e+09</td>\n",
       "      <td>0.040000</td>\n",
       "      <td>0.000000</td>\n",
       "      <td>0.000000</td>\n",
       "      <td>0.000000</td>\n",
       "      <td>0.000000</td>\n",
       "    </tr>\n",
       "    <tr>\n",
       "      <th>25%</th>\n",
       "      <td>1.605122e+09</td>\n",
       "      <td>1.000000</td>\n",
       "      <td>0.000000</td>\n",
       "      <td>0.000000</td>\n",
       "      <td>0.000000</td>\n",
       "      <td>1.000000</td>\n",
       "    </tr>\n",
       "    <tr>\n",
       "      <th>50%</th>\n",
       "      <td>1.608728e+09</td>\n",
       "      <td>1.000000</td>\n",
       "      <td>2.000000</td>\n",
       "      <td>0.000000</td>\n",
       "      <td>0.000000</td>\n",
       "      <td>1.000000</td>\n",
       "    </tr>\n",
       "    <tr>\n",
       "      <th>75%</th>\n",
       "      <td>1.609950e+09</td>\n",
       "      <td>1.000000</td>\n",
       "      <td>4.000000</td>\n",
       "      <td>0.000000</td>\n",
       "      <td>0.000000</td>\n",
       "      <td>1.000000</td>\n",
       "    </tr>\n",
       "    <tr>\n",
       "      <th>max</th>\n",
       "      <td>1.610798e+09</td>\n",
       "      <td>1.000000</td>\n",
       "      <td>9985.000000</td>\n",
       "      <td>23.000000</td>\n",
       "      <td>79.000000</td>\n",
       "      <td>59202.000000</td>\n",
       "    </tr>\n",
       "  </tbody>\n",
       "</table>\n",
       "</div>"
      ],
      "text/plain": [
       "        created_utc  upvote_ratio  num_comments  num_crossposts  \\\n",
       "count  7.976000e+03   7976.000000   7976.000000     7976.000000   \n",
       "mean   1.607679e+09      0.985410     52.118982        0.014920   \n",
       "std    2.625036e+06      0.075062    354.039621        0.370922   \n",
       "min    1.602634e+09      0.040000      0.000000        0.000000   \n",
       "25%    1.605122e+09      1.000000      0.000000        0.000000   \n",
       "50%    1.608728e+09      1.000000      2.000000        0.000000   \n",
       "75%    1.609950e+09      1.000000      4.000000        0.000000   \n",
       "max    1.610798e+09      1.000000   9985.000000       23.000000   \n",
       "\n",
       "       total_awards_received         score  \n",
       "count            7976.000000   7976.000000  \n",
       "mean                0.030717     34.049398  \n",
       "std                 1.144893   1118.723423  \n",
       "min                 0.000000      0.000000  \n",
       "25%                 0.000000      1.000000  \n",
       "50%                 0.000000      1.000000  \n",
       "75%                 0.000000      1.000000  \n",
       "max                79.000000  59202.000000  "
      ]
     },
     "execution_count": 10,
     "metadata": {},
     "output_type": "execute_result"
    }
   ],
   "source": [
    "subreddits.describe()"
   ]
  },
  {
   "cell_type": "code",
   "execution_count": 11,
   "metadata": {},
   "outputs": [
    {
     "name": "stdout",
     "output_type": "stream",
     "text": [
      "<class 'pandas.core.frame.DataFrame'>\n",
      "RangeIndex: 4563 entries, 0 to 4562\n",
      "Data columns (total 10 columns):\n",
      " #   Column                 Non-Null Count  Dtype  \n",
      "---  ------                 --------------  -----  \n",
      " 0   subreddit              4563 non-null   object \n",
      " 1   title                  4563 non-null   object \n",
      " 2   author                 4563 non-null   object \n",
      " 3   created_utc            4563 non-null   int64  \n",
      " 4   upvote_ratio           4563 non-null   float64\n",
      " 5   full_link              4563 non-null   object \n",
      " 6   num_comments           4563 non-null   int64  \n",
      " 7   num_crossposts         4563 non-null   int64  \n",
      " 8   total_awards_received  4563 non-null   int64  \n",
      " 9   score                  4563 non-null   int64  \n",
      "dtypes: float64(1), int64(5), object(4)\n",
      "memory usage: 356.6+ KB\n"
     ]
    }
   ],
   "source": [
    "science.info()"
   ]
  },
  {
   "cell_type": "markdown",
   "metadata": {},
   "source": [
    "# EDA"
   ]
  },
  {
   "cell_type": "markdown",
   "metadata": {},
   "source": [
    "### Set X and y"
   ]
  },
  {
   "cell_type": "code",
   "execution_count": 12,
   "metadata": {},
   "outputs": [],
   "source": [
    "X = subreddits['title']\n",
    "y = subreddits['subreddit']"
   ]
  },
  {
   "cell_type": "code",
   "execution_count": 13,
   "metadata": {},
   "outputs": [
    {
     "data": {
      "text/plain": [
       "0    A Climate in Crisis Calls for Investment in Di...\n",
       "1    Cureus | Telemedicine: Current Impact on the F...\n",
       "2    Magnetic reconnection as a mechanism for energ...\n",
       "3    Sprinkle of chili compound boosts perovskite s...\n",
       "4    Ancient Roman concrete mineral found strengthe...\n",
       "Name: title, dtype: object"
      ]
     },
     "execution_count": 13,
     "metadata": {},
     "output_type": "execute_result"
    }
   ],
   "source": [
    "X.head()"
   ]
  },
  {
   "cell_type": "code",
   "execution_count": 14,
   "metadata": {},
   "outputs": [
    {
     "data": {
      "text/plain": [
       "0    science\n",
       "1    science\n",
       "2    science\n",
       "3    science\n",
       "4    science\n",
       "Name: subreddit, dtype: object"
      ]
     },
     "execution_count": 14,
     "metadata": {},
     "output_type": "execute_result"
    }
   ],
   "source": [
    "y.head()"
   ]
  },
  {
   "cell_type": "markdown",
   "metadata": {},
   "source": [
    "# Build a Classifier"
   ]
  },
  {
   "cell_type": "markdown",
   "metadata": {},
   "source": [
    "### Science"
   ]
  },
  {
   "cell_type": "code",
   "execution_count": 15,
   "metadata": {},
   "outputs": [
    {
     "data": {
      "text/plain": [
       "(4563, 12632)"
      ]
     },
     "execution_count": 15,
     "metadata": {},
     "output_type": "execute_result"
    }
   ],
   "source": [
    "cvect = CountVectorizer()\n",
    "X_science = science['title']\n",
    "X_science_vect = cvect.fit_transform(X_science)\n",
    "X_science_df = pd.DataFrame(X_science_vect.toarray(), columns = cvect.get_feature_names())\n",
    "X_science_df.shape"
   ]
  },
  {
   "cell_type": "code",
   "execution_count": 16,
   "metadata": {},
   "outputs": [
    {
     "data": {
      "image/png": "[encoded data removed]",
      "text/plain": [
       "<Figure size 432x288 with 1 Axes>"
      ]
     },
     "metadata": {
      "needs_background": "light"
     },
     "output_type": "display_data"
    }
   ],
   "source": [
    "# top words in science dataframe (including stopwords)\n",
    "X_science_df.sum().sort_values(ascending=False).head(10).plot(kind='bar')\n",
    "plt.title('Science Most Frequent Words');"
   ]
  },
  {
   "cell_type": "markdown",
   "metadata": {},
   "source": [
    "### Technology"
   ]
  },
  {
   "cell_type": "code",
   "execution_count": 17,
   "metadata": {},
   "outputs": [
    {
     "data": {
      "text/plain": [
       "(3426, 8531)"
      ]
     },
     "execution_count": 17,
     "metadata": {},
     "output_type": "execute_result"
    }
   ],
   "source": [
    "cvect = CountVectorizer()\n",
    "X_technology = technology['title']\n",
    "X_technology_vect = cvect.fit_transform(X_technology)\n",
    "X_technology_df = pd.DataFrame(X_technology_vect.toarray(), columns = cvect.get_feature_names())\n",
    "X_technology_df.shape"
   ]
  },
  {
   "cell_type": "code",
   "execution_count": 18,
   "metadata": {},
   "outputs": [
    {
     "data": {
      "image/png": "[encoded data removed]",
      "text/plain": [
       "<Figure size 432x288 with 1 Axes>"
      ]
     },
     "metadata": {
      "needs_background": "light"
     },
     "output_type": "display_data"
    }
   ],
   "source": [
    "# top words in technology dataframe (including stopwords)\n",
    "X_technology_df.sum().sort_values(ascending=False).head(10).plot(kind='bar')\n",
    "plt.title('Technology Most Frequent Words');"
   ]
  },
  {
   "cell_type": "markdown",
   "metadata": {},
   "source": [
    "### Combined (science & technology)"
   ]
  },
  {
   "cell_type": "code",
   "execution_count": 19,
   "metadata": {},
   "outputs": [],
   "source": [
    "# Countvectorize data\n",
    "X_vect = cvect.fit_transform(X)"
   ]
  },
  {
   "cell_type": "code",
   "execution_count": 20,
   "metadata": {},
   "outputs": [],
   "source": [
    "df = pd.DataFrame(X_vect.toarray(), columns = cvect.get_feature_names())"
   ]
  },
  {
   "cell_type": "code",
   "execution_count": 21,
   "metadata": {},
   "outputs": [
    {
     "data": {
      "text/html": [
       "<div>\n",
       "<style scoped>\n",
       "    .dataframe tbody tr th:only-of-type {\n",
       "        vertical-align: middle;\n",
       "    }\n",
       "\n",
       "    .dataframe tbody tr th {\n",
       "        vertical-align: top;\n",
       "    }\n",
       "\n",
       "    .dataframe thead th {\n",
       "        text-align: right;\n",
       "    }\n",
       "</style>\n",
       "<table border=\"1\" class=\"dataframe\">\n",
       "  <thead>\n",
       "    <tr style=\"text-align: right;\">\n",
       "      <th></th>\n",
       "      <th>00</th>\n",
       "      <th>000</th>\n",
       "      <th>0000000001</th>\n",
       "      <th>000041</th>\n",
       "      <th>000x</th>\n",
       "      <th>001</th>\n",
       "      <th>002</th>\n",
       "      <th>003</th>\n",
       "      <th>009</th>\n",
       "      <th>01</th>\n",
       "      <th>...</th>\n",
       "      <th>वर</th>\n",
       "      <th>हरण</th>\n",
       "      <th>অন</th>\n",
       "      <th>ইস</th>\n",
       "      <th>𝑵𝒐𝒘</th>\n",
       "      <th>𝑺𝒉𝒂𝒓𝒑</th>\n",
       "      <th>𝑻𝒉𝒊𝒔</th>\n",
       "      <th>𝒊𝒔</th>\n",
       "      <th>𝒏𝒆𝒆𝒅</th>\n",
       "      <th>𝒔𝒐𝒎𝒆𝒕𝒉𝒊𝒏𝒈</th>\n",
       "    </tr>\n",
       "  </thead>\n",
       "  <tbody>\n",
       "    <tr>\n",
       "      <th>0</th>\n",
       "      <td>0</td>\n",
       "      <td>0</td>\n",
       "      <td>0</td>\n",
       "      <td>0</td>\n",
       "      <td>0</td>\n",
       "      <td>0</td>\n",
       "      <td>0</td>\n",
       "      <td>0</td>\n",
       "      <td>0</td>\n",
       "      <td>0</td>\n",
       "      <td>...</td>\n",
       "      <td>0</td>\n",
       "      <td>0</td>\n",
       "      <td>0</td>\n",
       "      <td>0</td>\n",
       "      <td>0</td>\n",
       "      <td>0</td>\n",
       "      <td>0</td>\n",
       "      <td>0</td>\n",
       "      <td>0</td>\n",
       "      <td>0</td>\n",
       "    </tr>\n",
       "    <tr>\n",
       "      <th>1</th>\n",
       "      <td>0</td>\n",
       "      <td>0</td>\n",
       "      <td>0</td>\n",
       "      <td>0</td>\n",
       "      <td>0</td>\n",
       "      <td>0</td>\n",
       "      <td>0</td>\n",
       "      <td>0</td>\n",
       "      <td>0</td>\n",
       "      <td>0</td>\n",
       "      <td>...</td>\n",
       "      <td>0</td>\n",
       "      <td>0</td>\n",
       "      <td>0</td>\n",
       "      <td>0</td>\n",
       "      <td>0</td>\n",
       "      <td>0</td>\n",
       "      <td>0</td>\n",
       "      <td>0</td>\n",
       "      <td>0</td>\n",
       "      <td>0</td>\n",
       "    </tr>\n",
       "    <tr>\n",
       "      <th>2</th>\n",
       "      <td>0</td>\n",
       "      <td>0</td>\n",
       "      <td>0</td>\n",
       "      <td>0</td>\n",
       "      <td>0</td>\n",
       "      <td>0</td>\n",
       "      <td>0</td>\n",
       "      <td>0</td>\n",
       "      <td>0</td>\n",
       "      <td>0</td>\n",
       "      <td>...</td>\n",
       "      <td>0</td>\n",
       "      <td>0</td>\n",
       "      <td>0</td>\n",
       "      <td>0</td>\n",
       "      <td>0</td>\n",
       "      <td>0</td>\n",
       "      <td>0</td>\n",
       "      <td>0</td>\n",
       "      <td>0</td>\n",
       "      <td>0</td>\n",
       "    </tr>\n",
       "    <tr>\n",
       "      <th>3</th>\n",
       "      <td>0</td>\n",
       "      <td>0</td>\n",
       "      <td>0</td>\n",
       "      <td>0</td>\n",
       "      <td>0</td>\n",
       "      <td>0</td>\n",
       "      <td>0</td>\n",
       "      <td>0</td>\n",
       "      <td>0</td>\n",
       "      <td>0</td>\n",
       "      <td>...</td>\n",
       "      <td>0</td>\n",
       "      <td>0</td>\n",
       "      <td>0</td>\n",
       "      <td>0</td>\n",
       "      <td>0</td>\n",
       "      <td>0</td>\n",
       "      <td>0</td>\n",
       "      <td>0</td>\n",
       "      <td>0</td>\n",
       "      <td>0</td>\n",
       "    </tr>\n",
       "    <tr>\n",
       "      <th>4</th>\n",
       "      <td>0</td>\n",
       "      <td>0</td>\n",
       "      <td>0</td>\n",
       "      <td>0</td>\n",
       "      <td>0</td>\n",
       "      <td>0</td>\n",
       "      <td>0</td>\n",
       "      <td>0</td>\n",
       "      <td>0</td>\n",
       "      <td>0</td>\n",
       "      <td>...</td>\n",
       "      <td>0</td>\n",
       "      <td>0</td>\n",
       "      <td>0</td>\n",
       "      <td>0</td>\n",
       "      <td>0</td>\n",
       "      <td>0</td>\n",
       "      <td>0</td>\n",
       "      <td>0</td>\n",
       "      <td>0</td>\n",
       "      <td>0</td>\n",
       "    </tr>\n",
       "  </tbody>\n",
       "</table>\n",
       "<p>5 rows × 17395 columns</p>\n",
       "</div>"
      ],
      "text/plain": [
       "   00  000  0000000001  000041  000x  001  002  003  009  01  ...  वर  हरण  \\\n",
       "0   0    0           0       0     0    0    0    0    0   0  ...   0    0   \n",
       "1   0    0           0       0     0    0    0    0    0   0  ...   0    0   \n",
       "2   0    0           0       0     0    0    0    0    0   0  ...   0    0   \n",
       "3   0    0           0       0     0    0    0    0    0   0  ...   0    0   \n",
       "4   0    0           0       0     0    0    0    0    0   0  ...   0    0   \n",
       "\n",
       "   অন  ইস  𝑵𝒐𝒘  𝑺𝒉𝒂𝒓𝒑  𝑻𝒉𝒊𝒔  𝒊𝒔  𝒏𝒆𝒆𝒅  𝒔𝒐𝒎𝒆𝒕𝒉𝒊𝒏𝒈  \n",
       "0   0   0    0      0     0   0     0          0  \n",
       "1   0   0    0      0     0   0     0          0  \n",
       "2   0   0    0      0     0   0     0          0  \n",
       "3   0   0    0      0     0   0     0          0  \n",
       "4   0   0    0      0     0   0     0          0  \n",
       "\n",
       "[5 rows x 17395 columns]"
      ]
     },
     "execution_count": 21,
     "metadata": {},
     "output_type": "execute_result"
    }
   ],
   "source": [
    "df.head()"
   ]
  },
  {
   "cell_type": "code",
   "execution_count": 22,
   "metadata": {},
   "outputs": [
    {
     "data": {
      "text/plain": [
       "(7976, 17395)"
      ]
     },
     "execution_count": 22,
     "metadata": {},
     "output_type": "execute_result"
    }
   ],
   "source": [
    "df.shape"
   ]
  },
  {
   "cell_type": "code",
   "execution_count": 23,
   "metadata": {},
   "outputs": [
    {
     "data": {
      "image/png": "[encoded data removed]",
      "text/plain": [
       "<Figure size 432x288 with 1 Axes>"
      ]
     },
     "metadata": {
      "needs_background": "light"
     },
     "output_type": "display_data"
    }
   ],
   "source": [
    "# Top words in both r/science and r/technology dataframes (includes stopwords)\n",
    "df.sum().sort_values(ascending=False).head(10).plot(kind='bar')\n",
    "plt.title('r/science and r/technology Most Frequent Words');"
   ]
  },
  {
   "cell_type": "markdown",
   "metadata": {},
   "source": [
    "- many of the top words are stopwords"
   ]
  },
  {
   "cell_type": "markdown",
   "metadata": {},
   "source": [
    "### Stopwords"
   ]
  },
  {
   "cell_type": "markdown",
   "metadata": {},
   "source": [
    "### Science"
   ]
  },
  {
   "cell_type": "code",
   "execution_count": 24,
   "metadata": {},
   "outputs": [
    {
     "data": {
      "text/plain": [
       "(4563, 12376)"
      ]
     },
     "execution_count": 24,
     "metadata": {},
     "output_type": "execute_result"
    }
   ],
   "source": [
    "cvect_nostopwords = CountVectorizer(stop_words='english')\n",
    "X_science_nostop = cvect_nostopwords.fit_transform(X_science)\n",
    "X_science_nostop.shape"
   ]
  },
  {
   "cell_type": "code",
   "execution_count": 25,
   "metadata": {},
   "outputs": [
    {
     "data": {
      "image/png": "[encoded data removed]",
      "text/plain": [
       "<Figure size 432x288 with 1 Axes>"
      ]
     },
     "metadata": {
      "needs_background": "light"
     },
     "output_type": "display_data"
    }
   ],
   "source": [
    "X_science_nostop_df = pd.DataFrame(X_science_nostop.toarray(), columns = cvect_nostopwords.get_feature_names())\n",
    "X_science_nostop_df.sum().sort_values(ascending=False).head(15).plot(kind='barh')\n",
    "plt.figsize=(20, 20)\n",
    "plt.title('Science Most freuquent words (stopwords removed)');"
   ]
  },
  {
   "cell_type": "code",
   "execution_count": 26,
   "metadata": {},
   "outputs": [
    {
     "data": {
      "text/plain": [
       "new            665\n",
       "covid          624\n",
       "study          603\n",
       "19             556\n",
       "scientists     319\n",
       "people         311\n",
       "researchers    248\n",
       "research       230\n",
       "health         191\n",
       "brain          176\n",
       "finds          175\n",
       "human          167\n",
       "time           164\n",
       "risk           157\n",
       "science        153\n",
       "social         151\n",
       "use            142\n",
       "likely         137\n",
       "vaccine        135\n",
       "years          134\n",
       "dtype: int64"
      ]
     },
     "execution_count": 26,
     "metadata": {},
     "output_type": "execute_result"
    }
   ],
   "source": [
    "X_science_nostop_df.sum().sort_values(ascending=False).head(20)"
   ]
  },
  {
   "cell_type": "markdown",
   "metadata": {},
   "source": [
    "### Technology"
   ]
  },
  {
   "cell_type": "code",
   "execution_count": 27,
   "metadata": {},
   "outputs": [
    {
     "data": {
      "text/plain": [
       "(3426, 8298)"
      ]
     },
     "execution_count": 27,
     "metadata": {},
     "output_type": "execute_result"
    }
   ],
   "source": [
    "cvect_nostopwords = CountVectorizer(stop_words='english')\n",
    "X_technology_nostop = cvect_nostopwords.fit_transform(X_technology)\n",
    "X_technology_nostop.shape"
   ]
  },
  {
   "cell_type": "code",
   "execution_count": 28,
   "metadata": {},
   "outputs": [
    {
     "data": {
      "image/png": "[encoded data removed]",
      "text/plain": [
       "<Figure size 432x288 with 1 Axes>"
      ]
     },
     "metadata": {
      "needs_background": "light"
     },
     "output_type": "display_data"
    }
   ],
   "source": [
    "X_technology_nostop_df = pd.DataFrame(X_technology_nostop.toarray(), columns = cvect_nostopwords.get_feature_names())\n",
    "X_technology_nostop_df.sum().sort_values(ascending=False).head(15).plot(kind='barh')\n",
    "plt.figsize=(20, 20)\n",
    "plt.title('Technology Most freuquent words (stopwords removed)');"
   ]
  },
  {
   "cell_type": "code",
   "execution_count": 29,
   "metadata": {},
   "outputs": [
    {
     "data": {
      "text/plain": [
       "app         188\n",
       "apple       187\n",
       "new         180\n",
       "free        171\n",
       "trump       158\n",
       "2021        141\n",
       "amazon      119\n",
       "google      119\n",
       "facebook    113\n",
       "twitter     110\n",
       "tech        105\n",
       "amp          96\n",
       "data         95\n",
       "parler       94\n",
       "whatsapp     92\n",
       "2020         89\n",
       "rs           84\n",
       "best         84\n",
       "service      83\n",
       "10           78\n",
       "dtype: int64"
      ]
     },
     "execution_count": 29,
     "metadata": {},
     "output_type": "execute_result"
    }
   ],
   "source": [
    "X_technology_nostop_df.sum().sort_values(ascending=False).head(20)"
   ]
  },
  {
   "cell_type": "markdown",
   "metadata": {},
   "source": [
    "### Combined (r/science and r/technology)"
   ]
  },
  {
   "cell_type": "code",
   "execution_count": 30,
   "metadata": {},
   "outputs": [],
   "source": [
    "cvect_nostopwords = CountVectorizer(stop_words='english')"
   ]
  },
  {
   "cell_type": "code",
   "execution_count": 31,
   "metadata": {},
   "outputs": [],
   "source": [
    "X_nostop = cvect_nostopwords.fit_transform(X)"
   ]
  },
  {
   "cell_type": "code",
   "execution_count": 32,
   "metadata": {},
   "outputs": [
    {
     "data": {
      "text/plain": [
       "(7976, 17128)"
      ]
     },
     "execution_count": 32,
     "metadata": {},
     "output_type": "execute_result"
    }
   ],
   "source": [
    "X_nostop.shape"
   ]
  },
  {
   "cell_type": "code",
   "execution_count": 33,
   "metadata": {},
   "outputs": [
    {
     "data": {
      "text/plain": [
       "(7976, 17395)"
      ]
     },
     "execution_count": 33,
     "metadata": {},
     "output_type": "execute_result"
    }
   ],
   "source": [
    "X_vect.shape"
   ]
  },
  {
   "cell_type": "markdown",
   "metadata": {},
   "source": [
    "- Removed ~200 words"
   ]
  },
  {
   "cell_type": "code",
   "execution_count": 34,
   "metadata": {},
   "outputs": [
    {
     "data": {
      "image/png": "[encoded data removed]",
      "text/plain": [
       "<Figure size 432x288 with 1 Axes>"
      ]
     },
     "metadata": {
      "needs_background": "light"
     },
     "output_type": "display_data"
    }
   ],
   "source": [
    "X_nostop_df = pd.DataFrame(X_nostop.toarray(), columns = cvect_nostopwords.get_feature_names())\n",
    "X_nostop_df.sum().sort_values(ascending=False).head(15).plot(kind='barh')\n",
    "plt.figsize=(20, 20)\n",
    "plt.title('r/science & r/technology Most freuquent words (stopwords removed)');"
   ]
  },
  {
   "cell_type": "markdown",
   "metadata": {},
   "source": [
    "### N-Grams (both subreddits combined)"
   ]
  },
  {
   "cell_type": "code",
   "execution_count": 35,
   "metadata": {},
   "outputs": [],
   "source": [
    "#function to return top words in dataframe\n",
    "def top_words(X, vect):\n",
    "    df = pd.DataFrame(X.toarray(), columns = vect.get_feature_names())\n",
    "    return df.sum().sort_values(ascending=False).head(10)"
   ]
  },
  {
   "cell_type": "code",
   "execution_count": 36,
   "metadata": {},
   "outputs": [
    {
     "data": {
      "text/plain": [
       "new            845\n",
       "covid          685\n",
       "study          614\n",
       "19             597\n",
       "people         346\n",
       "scientists     328\n",
       "researchers    260\n",
       "research       246\n",
       "social         216\n",
       "free           211\n",
       "dtype: int64"
      ]
     },
     "execution_count": 36,
     "metadata": {},
     "output_type": "execute_result"
    }
   ],
   "source": [
    "top_words(X_nostop, cvect_nostopwords)"
   ]
  },
  {
   "cell_type": "code",
   "execution_count": 37,
   "metadata": {},
   "outputs": [
    {
     "data": {
      "text/plain": [
       "covid 19                   588\n",
       "new study                  190\n",
       "sars cov                   124\n",
       "study finds                103\n",
       "new research                90\n",
       "social media                73\n",
       "climate change              63\n",
       "19 pandemic                 50\n",
       "according new               49\n",
       "artificial intelligence     47\n",
       "dtype: int64"
      ]
     },
     "execution_count": 37,
     "metadata": {},
     "output_type": "execute_result"
    }
   ],
   "source": [
    "#Count Vectorizer with Bigram\n",
    "cvect_bigram = CountVectorizer(stop_words='english', max_features=500, ngram_range=(2, 2))\n",
    "X_bigram = cvect_bigram.fit_transform(X)\n",
    "top_words(X_bigram, cvect_bigram)"
   ]
  },
  {
   "cell_type": "code",
   "execution_count": 38,
   "metadata": {},
   "outputs": [
    {
     "data": {
      "text/plain": [
       "covid 19 pandemic          50\n",
       "covid 19 vaccine           38\n",
       "new study finds            32\n",
       "covid 19 patients          32\n",
       "customer service number    29\n",
       "service number support     28\n",
       "according new study        22\n",
       "sars cov infection         22\n",
       "according new research     20\n",
       "new study shows            19\n",
       "dtype: int64"
      ]
     },
     "execution_count": 38,
     "metadata": {},
     "output_type": "execute_result"
    }
   ],
   "source": [
    "#Count Vectorizer with Trigram\n",
    "cvect_trigram = CountVectorizer(stop_words='english', max_features=500, ngram_range=(3, 3))\n",
    "X_bigram = cvect_trigram.fit_transform(X)\n",
    "top_words(X_bigram, cvect_trigram)"
   ]
  }
 ],
 "metadata": {
  "kernelspec": {
   "display_name": "Python 3",
   "language": "python",
   "name": "python3"
  },
  "language_info": {
   "codemirror_mode": {
    "name": "ipython",
    "version": 3
   },
   "file_extension": ".py",
   "mimetype": "text/x-python",
   "name": "python",
   "nbconvert_exporter": "python",
   "pygments_lexer": "ipython3",
   "version": "3.8.5"
  }
 },
 "nbformat": 4,
 "nbformat_minor": 4
}
