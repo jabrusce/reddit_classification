{
 "cells": [
  {
   "cell_type": "markdown",
   "metadata": {},
   "source": [
    "# Import Libraries and Clean Data"
   ]
  },
  {
   "cell_type": "code",
   "execution_count": 1,
   "metadata": {},
   "outputs": [],
   "source": [
    "import pandas as pd\n",
    "import numpy as np\n",
    "import matplotlib.pyplot as plt\n",
    "\n",
    "from sklearn.feature_extraction.text import CountVectorizer\n",
    "from sklearn.linear_model import LogisticRegression\n",
    "from sklearn.pipeline import make_pipeline\n",
    "from sklearn.preprocessing import StandardScaler\n",
    "from sklearn.model_selection import train_test_split, GridSearchCV\n",
    "from sklearn.feature_extraction.text import TfidfVectorizer\n",
    "from sklearn.metrics import plot_confusion_matrix, balanced_accuracy_score, f1_score, recall_score, precision_score\n",
    "\n",
    "import nltk\n",
    "from nltk.stem import WordNetLemmatizer\n",
    "from nltk.stem.porter import PorterStemmer\n",
    "from nltk.tokenize import RegexpTokenizer, sent_tokenize, word_tokenize"
   ]
  },
  {
   "cell_type": "code",
   "execution_count": 2,
   "metadata": {},
   "outputs": [],
   "source": [
    "subreddits = pd.read_csv('./data/posts_combined_clean.csv')"
   ]
  },
  {
   "cell_type": "code",
   "execution_count": 3,
   "metadata": {},
   "outputs": [
    {
     "data": {
      "text/html": [
       "<div>\n",
       "<style scoped>\n",
       "    .dataframe tbody tr th:only-of-type {\n",
       "        vertical-align: middle;\n",
       "    }\n",
       "\n",
       "    .dataframe tbody tr th {\n",
       "        vertical-align: top;\n",
       "    }\n",
       "\n",
       "    .dataframe thead th {\n",
       "        text-align: right;\n",
       "    }\n",
       "</style>\n",
       "<table border=\"1\" class=\"dataframe\">\n",
       "  <thead>\n",
       "    <tr style=\"text-align: right;\">\n",
       "      <th></th>\n",
       "      <th>subreddit</th>\n",
       "      <th>title</th>\n",
       "      <th>author</th>\n",
       "      <th>created_utc</th>\n",
       "      <th>upvote_ratio</th>\n",
       "      <th>full_link</th>\n",
       "      <th>num_comments</th>\n",
       "      <th>num_crossposts</th>\n",
       "      <th>total_awards_received</th>\n",
       "      <th>score</th>\n",
       "    </tr>\n",
       "  </thead>\n",
       "  <tbody>\n",
       "    <tr>\n",
       "      <th>0</th>\n",
       "      <td>science</td>\n",
       "      <td>A Climate in Crisis Calls for Investment in Di...</td>\n",
       "      <td>Wagamaga</td>\n",
       "      <td>1610798299</td>\n",
       "      <td>1.0</td>\n",
       "      <td>https://www.reddit.com/r/science/comments/kyhp...</td>\n",
       "      <td>6</td>\n",
       "      <td>0</td>\n",
       "      <td>0</td>\n",
       "      <td>1</td>\n",
       "    </tr>\n",
       "    <tr>\n",
       "      <th>1</th>\n",
       "      <td>science</td>\n",
       "      <td>Cureus | Telemedicine: Current Impact on the F...</td>\n",
       "      <td>CureusJournal</td>\n",
       "      <td>1610798085</td>\n",
       "      <td>1.0</td>\n",
       "      <td>https://www.reddit.com/r/science/comments/kyho...</td>\n",
       "      <td>0</td>\n",
       "      <td>0</td>\n",
       "      <td>0</td>\n",
       "      <td>1</td>\n",
       "    </tr>\n",
       "    <tr>\n",
       "      <th>2</th>\n",
       "      <td>science</td>\n",
       "      <td>Magnetic reconnection as a mechanism for energ...</td>\n",
       "      <td>m3prx</td>\n",
       "      <td>1610792298</td>\n",
       "      <td>1.0</td>\n",
       "      <td>https://www.reddit.com/r/science/comments/kygi...</td>\n",
       "      <td>2</td>\n",
       "      <td>0</td>\n",
       "      <td>0</td>\n",
       "      <td>1</td>\n",
       "    </tr>\n",
       "  </tbody>\n",
       "</table>\n",
       "</div>"
      ],
      "text/plain": [
       "  subreddit                                              title         author  \\\n",
       "0   science  A Climate in Crisis Calls for Investment in Di...       Wagamaga   \n",
       "1   science  Cureus | Telemedicine: Current Impact on the F...  CureusJournal   \n",
       "2   science  Magnetic reconnection as a mechanism for energ...          m3prx   \n",
       "\n",
       "   created_utc  upvote_ratio  \\\n",
       "0   1610798299           1.0   \n",
       "1   1610798085           1.0   \n",
       "2   1610792298           1.0   \n",
       "\n",
       "                                           full_link  num_comments  \\\n",
       "0  https://www.reddit.com/r/science/comments/kyhp...             6   \n",
       "1  https://www.reddit.com/r/science/comments/kyho...             0   \n",
       "2  https://www.reddit.com/r/science/comments/kygi...             2   \n",
       "\n",
       "   num_crossposts  total_awards_received  score  \n",
       "0               0                      0      1  \n",
       "1               0                      0      1  \n",
       "2               0                      0      1  "
      ]
     },
     "execution_count": 3,
     "metadata": {},
     "output_type": "execute_result"
    }
   ],
   "source": [
    "subreddits.head(3)"
   ]
  },
  {
   "cell_type": "markdown",
   "metadata": {},
   "source": [
    "# Logistic Model"
   ]
  },
  {
   "cell_type": "markdown",
   "metadata": {},
   "source": [
    "### X, y, train test split"
   ]
  },
  {
   "cell_type": "code",
   "execution_count": 4,
   "metadata": {},
   "outputs": [],
   "source": [
    "X = subreddits['title']\n",
    "y = subreddits['subreddit']"
   ]
  },
  {
   "cell_type": "code",
   "execution_count": 5,
   "metadata": {},
   "outputs": [],
   "source": [
    "lgr = LogisticRegression()"
   ]
  },
  {
   "cell_type": "code",
   "execution_count": 6,
   "metadata": {},
   "outputs": [],
   "source": [
    "X_train, X_test, y_train, y_test = train_test_split(X, y, stratify=y, random_state=123)"
   ]
  },
  {
   "cell_type": "markdown",
   "metadata": {},
   "source": [
    "### Baseline Model"
   ]
  },
  {
   "cell_type": "code",
   "execution_count": 7,
   "metadata": {},
   "outputs": [
    {
     "data": {
      "text/plain": [
       "science       0.572091\n",
       "technology    0.427909\n",
       "Name: subreddit, dtype: float64"
      ]
     },
     "execution_count": 7,
     "metadata": {},
     "output_type": "execute_result"
    }
   ],
   "source": [
    "y.value_counts(normalize=True)"
   ]
  },
  {
   "cell_type": "code",
   "execution_count": 8,
   "metadata": {},
   "outputs": [],
   "source": [
    "# the target in the dataset for posts was split approximately 57% for r/science.\n",
    "# This will be the baseline model - if we guessed r/science each time we would \n",
    "# be correct 57% of the time"
   ]
  },
  {
   "cell_type": "markdown",
   "metadata": {},
   "source": [
    "### Logistic Regression"
   ]
  },
  {
   "cell_type": "code",
   "execution_count": 9,
   "metadata": {},
   "outputs": [],
   "source": [
    "#pipeline with Countvectorizer ('english' stop words), Standard Scaler, Logistic Regression\n",
    "logreg_pipe = make_pipeline(CountVectorizer(stop_words='english', max_features=500),\n",
    "                    StandardScaler(with_mean=False),\n",
    "                    LogisticRegression(max_iter=1000))"
   ]
  },
  {
   "cell_type": "code",
   "execution_count": 10,
   "metadata": {},
   "outputs": [
    {
     "data": {
      "text/plain": [
       "<bound method Pipeline.get_params of Pipeline(steps=[('countvectorizer',\n",
       "                 CountVectorizer(max_features=500, stop_words='english')),\n",
       "                ('standardscaler', StandardScaler(with_mean=False)),\n",
       "                ('logisticregression', LogisticRegression(max_iter=1000))])>"
      ]
     },
     "execution_count": 10,
     "metadata": {},
     "output_type": "execute_result"
    }
   ],
   "source": [
    "logreg_pipe.get_params"
   ]
  },
  {
   "cell_type": "code",
   "execution_count": 11,
   "metadata": {},
   "outputs": [],
   "source": [
    "params = {\n",
    "    'countvectorizer__max_features': [100, 200, 500, 800, 1000],\n",
    "    'countvectorizer__binary': ['True', 'False'],\n",
    "    'logisticregression__C': [0.001, 0.01, 0.1, 1, 10, 100]\n",
    "}\n",
    "grid = GridSearchCV(logreg_pipe, params)"
   ]
  },
  {
   "cell_type": "code",
   "execution_count": 12,
   "metadata": {},
   "outputs": [
    {
     "data": {
      "text/plain": [
       "GridSearchCV(estimator=Pipeline(steps=[('countvectorizer',\n",
       "                                        CountVectorizer(max_features=500,\n",
       "                                                        stop_words='english')),\n",
       "                                       ('standardscaler',\n",
       "                                        StandardScaler(with_mean=False)),\n",
       "                                       ('logisticregression',\n",
       "                                        LogisticRegression(max_iter=1000))]),\n",
       "             param_grid={'countvectorizer__binary': ['True', 'False'],\n",
       "                         'countvectorizer__max_features': [100, 200, 500, 800,\n",
       "                                                           1000],\n",
       "                         'logisticregression__C': [0.001, 0.01, 0.1, 1, 10,\n",
       "                                                   100]})"
      ]
     },
     "execution_count": 12,
     "metadata": {},
     "output_type": "execute_result"
    }
   ],
   "source": [
    "grid.fit(X_train, y_train)"
   ]
  },
  {
   "cell_type": "code",
   "execution_count": 13,
   "metadata": {},
   "outputs": [
    {
     "data": {
      "text/html": [
       "<div>\n",
       "<style scoped>\n",
       "    .dataframe tbody tr th:only-of-type {\n",
       "        vertical-align: middle;\n",
       "    }\n",
       "\n",
       "    .dataframe tbody tr th {\n",
       "        vertical-align: top;\n",
       "    }\n",
       "\n",
       "    .dataframe thead th {\n",
       "        text-align: right;\n",
       "    }\n",
       "</style>\n",
       "<table border=\"1\" class=\"dataframe\">\n",
       "  <thead>\n",
       "    <tr style=\"text-align: right;\">\n",
       "      <th></th>\n",
       "      <th>mean_fit_time</th>\n",
       "      <th>std_fit_time</th>\n",
       "      <th>mean_score_time</th>\n",
       "      <th>std_score_time</th>\n",
       "      <th>param_countvectorizer__binary</th>\n",
       "      <th>param_countvectorizer__max_features</th>\n",
       "      <th>param_logisticregression__C</th>\n",
       "      <th>params</th>\n",
       "      <th>split0_test_score</th>\n",
       "      <th>split1_test_score</th>\n",
       "      <th>split2_test_score</th>\n",
       "      <th>split3_test_score</th>\n",
       "      <th>split4_test_score</th>\n",
       "      <th>mean_test_score</th>\n",
       "      <th>std_test_score</th>\n",
       "      <th>rank_test_score</th>\n",
       "    </tr>\n",
       "  </thead>\n",
       "  <tbody>\n",
       "    <tr>\n",
       "      <th>0</th>\n",
       "      <td>0.138636</td>\n",
       "      <td>0.032395</td>\n",
       "      <td>0.020746</td>\n",
       "      <td>0.001325</td>\n",
       "      <td>True</td>\n",
       "      <td>100</td>\n",
       "      <td>0.001</td>\n",
       "      <td>{'countvectorizer__binary': 'True', 'countvect...</td>\n",
       "      <td>0.761069</td>\n",
       "      <td>0.750209</td>\n",
       "      <td>0.739967</td>\n",
       "      <td>0.771739</td>\n",
       "      <td>0.774247</td>\n",
       "      <td>0.759446</td>\n",
       "      <td>0.012943</td>\n",
       "      <td>59</td>\n",
       "    </tr>\n",
       "    <tr>\n",
       "      <th>1</th>\n",
       "      <td>0.116279</td>\n",
       "      <td>0.004205</td>\n",
       "      <td>0.020155</td>\n",
       "      <td>0.000756</td>\n",
       "      <td>True</td>\n",
       "      <td>100</td>\n",
       "      <td>0.01</td>\n",
       "      <td>{'countvectorizer__binary': 'True', 'countvect...</td>\n",
       "      <td>0.787803</td>\n",
       "      <td>0.787803</td>\n",
       "      <td>0.766722</td>\n",
       "      <td>0.768395</td>\n",
       "      <td>0.771739</td>\n",
       "      <td>0.776492</td>\n",
       "      <td>0.009375</td>\n",
       "      <td>49</td>\n",
       "    </tr>\n",
       "    <tr>\n",
       "      <th>2</th>\n",
       "      <td>0.149195</td>\n",
       "      <td>0.017225</td>\n",
       "      <td>0.027119</td>\n",
       "      <td>0.002994</td>\n",
       "      <td>True</td>\n",
       "      <td>100</td>\n",
       "      <td>0.1</td>\n",
       "      <td>{'countvectorizer__binary': 'True', 'countvect...</td>\n",
       "      <td>0.788638</td>\n",
       "      <td>0.787803</td>\n",
       "      <td>0.765050</td>\n",
       "      <td>0.768395</td>\n",
       "      <td>0.768395</td>\n",
       "      <td>0.775656</td>\n",
       "      <td>0.010335</td>\n",
       "      <td>51</td>\n",
       "    </tr>\n",
       "    <tr>\n",
       "      <th>3</th>\n",
       "      <td>0.151802</td>\n",
       "      <td>0.027596</td>\n",
       "      <td>0.020948</td>\n",
       "      <td>0.001413</td>\n",
       "      <td>True</td>\n",
       "      <td>100</td>\n",
       "      <td>1</td>\n",
       "      <td>{'countvectorizer__binary': 'True', 'countvect...</td>\n",
       "      <td>0.788638</td>\n",
       "      <td>0.787803</td>\n",
       "      <td>0.765050</td>\n",
       "      <td>0.767559</td>\n",
       "      <td>0.767559</td>\n",
       "      <td>0.775322</td>\n",
       "      <td>0.010575</td>\n",
       "      <td>53</td>\n",
       "    </tr>\n",
       "    <tr>\n",
       "      <th>4</th>\n",
       "      <td>0.139026</td>\n",
       "      <td>0.009152</td>\n",
       "      <td>0.019940</td>\n",
       "      <td>0.000632</td>\n",
       "      <td>True</td>\n",
       "      <td>100</td>\n",
       "      <td>10</td>\n",
       "      <td>{'countvectorizer__binary': 'True', 'countvect...</td>\n",
       "      <td>0.788638</td>\n",
       "      <td>0.787803</td>\n",
       "      <td>0.765050</td>\n",
       "      <td>0.767559</td>\n",
       "      <td>0.767559</td>\n",
       "      <td>0.775322</td>\n",
       "      <td>0.010575</td>\n",
       "      <td>53</td>\n",
       "    </tr>\n",
       "  </tbody>\n",
       "</table>\n",
       "</div>"
      ],
      "text/plain": [
       "   mean_fit_time  std_fit_time  mean_score_time  std_score_time  \\\n",
       "0       0.138636      0.032395         0.020746        0.001325   \n",
       "1       0.116279      0.004205         0.020155        0.000756   \n",
       "2       0.149195      0.017225         0.027119        0.002994   \n",
       "3       0.151802      0.027596         0.020948        0.001413   \n",
       "4       0.139026      0.009152         0.019940        0.000632   \n",
       "\n",
       "  param_countvectorizer__binary param_countvectorizer__max_features  \\\n",
       "0                          True                                 100   \n",
       "1                          True                                 100   \n",
       "2                          True                                 100   \n",
       "3                          True                                 100   \n",
       "4                          True                                 100   \n",
       "\n",
       "  param_logisticregression__C  \\\n",
       "0                       0.001   \n",
       "1                        0.01   \n",
       "2                         0.1   \n",
       "3                           1   \n",
       "4                          10   \n",
       "\n",
       "                                              params  split0_test_score  \\\n",
       "0  {'countvectorizer__binary': 'True', 'countvect...           0.761069   \n",
       "1  {'countvectorizer__binary': 'True', 'countvect...           0.787803   \n",
       "2  {'countvectorizer__binary': 'True', 'countvect...           0.788638   \n",
       "3  {'countvectorizer__binary': 'True', 'countvect...           0.788638   \n",
       "4  {'countvectorizer__binary': 'True', 'countvect...           0.788638   \n",
       "\n",
       "   split1_test_score  split2_test_score  split3_test_score  split4_test_score  \\\n",
       "0           0.750209           0.739967           0.771739           0.774247   \n",
       "1           0.787803           0.766722           0.768395           0.771739   \n",
       "2           0.787803           0.765050           0.768395           0.768395   \n",
       "3           0.787803           0.765050           0.767559           0.767559   \n",
       "4           0.787803           0.765050           0.767559           0.767559   \n",
       "\n",
       "   mean_test_score  std_test_score  rank_test_score  \n",
       "0         0.759446        0.012943               59  \n",
       "1         0.776492        0.009375               49  \n",
       "2         0.775656        0.010335               51  \n",
       "3         0.775322        0.010575               53  \n",
       "4         0.775322        0.010575               53  "
      ]
     },
     "execution_count": 13,
     "metadata": {},
     "output_type": "execute_result"
    }
   ],
   "source": [
    "pd.DataFrame(grid.cv_results_).head(5)"
   ]
  },
  {
   "cell_type": "code",
   "execution_count": 14,
   "metadata": {},
   "outputs": [
    {
     "data": {
      "text/plain": [
       "{'countvectorizer__binary': 'True',\n",
       " 'countvectorizer__max_features': 1000,\n",
       " 'logisticregression__C': 0.001}"
      ]
     },
     "execution_count": 14,
     "metadata": {},
     "output_type": "execute_result"
    }
   ],
   "source": [
    "grid.best_params_"
   ]
  },
  {
   "cell_type": "markdown",
   "metadata": {},
   "source": [
    "### Model scores"
   ]
  },
  {
   "cell_type": "code",
   "execution_count": 15,
   "metadata": {},
   "outputs": [],
   "source": [
    "preds = grid.best_estimator_.predict(X_test)"
   ]
  },
  {
   "cell_type": "code",
   "execution_count": 16,
   "metadata": {},
   "outputs": [],
   "source": [
    "precision = precision_score(y_test, preds, pos_label='science')\n",
    "recall = recall_score(y_test, preds, pos_label='science')\n",
    "f1 = 2 * (precision * recall) / (precision + recall)"
   ]
  },
  {
   "cell_type": "code",
   "execution_count": 17,
   "metadata": {},
   "outputs": [
    {
     "name": "stdout",
     "output_type": "stream",
     "text": [
      "The accuracy training score is    0.8956870611835507\n",
      "The accuracy testing score is     0.8716148445336008\n",
      "The bac score is                  0.8696193154438683\n",
      "The f1_score score is             0.8873239436619719\n",
      "The precision is                  0.8912466843501327\n",
      "The recall is                     0.8834355828220859\n"
     ]
    }
   ],
   "source": [
    "print(f'The accuracy training score is    {grid.score(X_train, y_train)}')\n",
    "print(f'The accuracy testing score is     {grid.score(X_test, y_test)}')\n",
    "print(f'The bac score is                  {balanced_accuracy_score(y_test, grid.predict(X_test))}')\n",
    "print(f'The f1_score score is             {f1}')\n",
    "print(f'The precision is                  {precision}')\n",
    "print(f'The recall is                     {recall}')"
   ]
  },
  {
   "cell_type": "markdown",
   "metadata": {},
   "source": [
    "- Slightly overfit - training score is higher than testing score.\n",
    "- Balanced accuracy score of 0.82 - This is a fairly accurate classification model"
   ]
  },
  {
   "cell_type": "markdown",
   "metadata": {},
   "source": [
    "### Confusion Matrix"
   ]
  },
  {
   "cell_type": "code",
   "execution_count": 18,
   "metadata": {},
   "outputs": [
    {
     "data": {
      "image/png": "[encoded data removed]",
      "text/plain": [
       "<Figure size 432x288 with 2 Axes>"
      ]
     },
     "metadata": {
      "needs_background": "light"
     },
     "output_type": "display_data"
    }
   ],
   "source": [
    "plot_confusion_matrix(grid, X_train, y_train);"
   ]
  },
  {
   "cell_type": "markdown",
   "metadata": {},
   "source": [
    "- False positives: 472 were science, labeled as technology\n",
    "- False negatives: 294 technology, labled as science"
   ]
  },
  {
   "cell_type": "markdown",
   "metadata": {},
   "source": [
    "### Feature Importance"
   ]
  },
  {
   "cell_type": "code",
   "execution_count": 19,
   "metadata": {},
   "outputs": [
    {
     "data": {
      "text/plain": [
       "<bound method BaseEstimator.get_params of GridSearchCV(estimator=Pipeline(steps=[('countvectorizer',\n",
       "                                        CountVectorizer(max_features=500,\n",
       "                                                        stop_words='english')),\n",
       "                                       ('standardscaler',\n",
       "                                        StandardScaler(with_mean=False)),\n",
       "                                       ('logisticregression',\n",
       "                                        LogisticRegression(max_iter=1000))]),\n",
       "             param_grid={'countvectorizer__binary': ['True', 'False'],\n",
       "                         'countvectorizer__max_features': [100, 200, 500, 800,\n",
       "                                                           1000],\n",
       "                         'logisticregression__C': [0.001, 0.01, 0.1, 1, 10,\n",
       "                                                   100]})>"
      ]
     },
     "execution_count": 19,
     "metadata": {},
     "output_type": "execute_result"
    }
   ],
   "source": [
    "grid.get_params"
   ]
  },
  {
   "cell_type": "code",
   "execution_count": 20,
   "metadata": {},
   "outputs": [],
   "source": [
    "df_index = grid.best_estimator_.named_steps['countvectorizer'].get_feature_names()"
   ]
  },
  {
   "cell_type": "code",
   "execution_count": 21,
   "metadata": {},
   "outputs": [
    {
     "data": {
      "text/html": [
       "<div>\n",
       "<style scoped>\n",
       "    .dataframe tbody tr th:only-of-type {\n",
       "        vertical-align: middle;\n",
       "    }\n",
       "\n",
       "    .dataframe tbody tr th {\n",
       "        vertical-align: top;\n",
       "    }\n",
       "\n",
       "    .dataframe thead th {\n",
       "        text-align: right;\n",
       "    }\n",
       "</style>\n",
       "<table border=\"1\" class=\"dataframe\">\n",
       "  <thead>\n",
       "    <tr style=\"text-align: right;\">\n",
       "      <th></th>\n",
       "      <th>coefs</th>\n",
       "    </tr>\n",
       "  </thead>\n",
       "  <tbody>\n",
       "    <tr>\n",
       "      <th>apple</th>\n",
       "      <td>0.121731</td>\n",
       "    </tr>\n",
       "    <tr>\n",
       "      <th>tech</th>\n",
       "      <td>0.117515</td>\n",
       "    </tr>\n",
       "    <tr>\n",
       "      <th>amazon</th>\n",
       "      <td>0.094915</td>\n",
       "    </tr>\n",
       "    <tr>\n",
       "      <th>2021</th>\n",
       "      <td>0.091522</td>\n",
       "    </tr>\n",
       "    <tr>\n",
       "      <th>google</th>\n",
       "      <td>0.089648</td>\n",
       "    </tr>\n",
       "    <tr>\n",
       "      <th>whatsapp</th>\n",
       "      <td>0.088452</td>\n",
       "    </tr>\n",
       "    <tr>\n",
       "      <th>app</th>\n",
       "      <td>0.087440</td>\n",
       "    </tr>\n",
       "    <tr>\n",
       "      <th>iphone</th>\n",
       "      <td>0.083929</td>\n",
       "    </tr>\n",
       "    <tr>\n",
       "      <th>internet</th>\n",
       "      <td>0.083200</td>\n",
       "    </tr>\n",
       "    <tr>\n",
       "      <th>twitter</th>\n",
       "      <td>0.081603</td>\n",
       "    </tr>\n",
       "  </tbody>\n",
       "</table>\n",
       "</div>"
      ],
      "text/plain": [
       "             coefs\n",
       "apple     0.121731\n",
       "tech      0.117515\n",
       "amazon    0.094915\n",
       "2021      0.091522\n",
       "google    0.089648\n",
       "whatsapp  0.088452\n",
       "app       0.087440\n",
       "iphone    0.083929\n",
       "internet  0.083200\n",
       "twitter   0.081603"
      ]
     },
     "execution_count": 21,
     "metadata": {},
     "output_type": "execute_result"
    }
   ],
   "source": [
    "coefs = grid.best_estimator_.named_steps['logisticregression'].coef_\n",
    "df_index = grid.best_estimator_.named_steps['countvectorizer'].get_feature_names()\n",
    "coef_df = pd.DataFrame({'coefs': coefs[0]}, index = df_index)\n",
    "coef_df.nlargest(10, 'coefs')"
   ]
  },
  {
   "cell_type": "code",
   "execution_count": 22,
   "metadata": {},
   "outputs": [
    {
     "data": {
      "text/html": [
       "<div>\n",
       "<style scoped>\n",
       "    .dataframe tbody tr th:only-of-type {\n",
       "        vertical-align: middle;\n",
       "    }\n",
       "\n",
       "    .dataframe tbody tr th {\n",
       "        vertical-align: top;\n",
       "    }\n",
       "\n",
       "    .dataframe thead th {\n",
       "        text-align: right;\n",
       "    }\n",
       "</style>\n",
       "<table border=\"1\" class=\"dataframe\">\n",
       "  <thead>\n",
       "    <tr style=\"text-align: right;\">\n",
       "      <th></th>\n",
       "      <th>coefs</th>\n",
       "    </tr>\n",
       "  </thead>\n",
       "  <tbody>\n",
       "    <tr>\n",
       "      <th>study</th>\n",
       "      <td>-0.138342</td>\n",
       "    </tr>\n",
       "    <tr>\n",
       "      <th>science</th>\n",
       "      <td>-0.131191</td>\n",
       "    </tr>\n",
       "    <tr>\n",
       "      <th>scientists</th>\n",
       "      <td>-0.127439</td>\n",
       "    </tr>\n",
       "    <tr>\n",
       "      <th>covid</th>\n",
       "      <td>-0.095072</td>\n",
       "    </tr>\n",
       "    <tr>\n",
       "      <th>19</th>\n",
       "      <td>-0.091820</td>\n",
       "    </tr>\n",
       "    <tr>\n",
       "      <th>brain</th>\n",
       "      <td>-0.085276</td>\n",
       "    </tr>\n",
       "    <tr>\n",
       "      <th>researchers</th>\n",
       "      <td>-0.078939</td>\n",
       "    </tr>\n",
       "    <tr>\n",
       "      <th>research</th>\n",
       "      <td>-0.078366</td>\n",
       "    </tr>\n",
       "    <tr>\n",
       "      <th>cancer</th>\n",
       "      <td>-0.075582</td>\n",
       "    </tr>\n",
       "    <tr>\n",
       "      <th>health</th>\n",
       "      <td>-0.073238</td>\n",
       "    </tr>\n",
       "  </tbody>\n",
       "</table>\n",
       "</div>"
      ],
      "text/plain": [
       "                coefs\n",
       "study       -0.138342\n",
       "science     -0.131191\n",
       "scientists  -0.127439\n",
       "covid       -0.095072\n",
       "19          -0.091820\n",
       "brain       -0.085276\n",
       "researchers -0.078939\n",
       "research    -0.078366\n",
       "cancer      -0.075582\n",
       "health      -0.073238"
      ]
     },
     "execution_count": 22,
     "metadata": {},
     "output_type": "execute_result"
    }
   ],
   "source": [
    "coef_df.nsmallest(10, 'coefs')"
   ]
  },
  {
   "cell_type": "markdown",
   "metadata": {},
   "source": [
    "### Predict proba"
   ]
  },
  {
   "cell_type": "code",
   "execution_count": 23,
   "metadata": {},
   "outputs": [
    {
     "data": {
      "text/plain": [
       "array([[-0.02606772, -3.66006319],\n",
       "       [-0.01761103, -4.04802227],\n",
       "       [-0.96624075, -0.47885999],\n",
       "       ...,\n",
       "       [-5.1370784 , -0.00589215],\n",
       "       [-0.62837138, -0.7624113 ],\n",
       "       [-0.56280883, -0.84305627]])"
      ]
     },
     "execution_count": 23,
     "metadata": {},
     "output_type": "execute_result"
    }
   ],
   "source": [
    "grid.predict_log_proba(X_test)"
   ]
  },
  {
   "cell_type": "code",
   "execution_count": 24,
   "metadata": {},
   "outputs": [
    {
     "data": {
      "text/plain": [
       "array([[0.97426911, 0.02573089],\n",
       "       [0.98254313, 0.01745687],\n",
       "       [0.38051079, 0.61948921],\n",
       "       ...,\n",
       "       [0.00587483, 0.99412517],\n",
       "       [0.5334599 , 0.4665401 ],\n",
       "       [0.56960689, 0.43039311]])"
      ]
     },
     "execution_count": 24,
     "metadata": {},
     "output_type": "execute_result"
    }
   ],
   "source": [
    "grid.predict_proba(X_test)"
   ]
  },
  {
   "cell_type": "code",
   "execution_count": 25,
   "metadata": {},
   "outputs": [
    {
     "data": {
      "text/plain": [
       "array(['science', 'science', 'technology', ..., 'technology', 'science',\n",
       "       'science'], dtype=object)"
      ]
     },
     "execution_count": 25,
     "metadata": {},
     "output_type": "execute_result"
    }
   ],
   "source": [
    "grid.predict(X_test)"
   ]
  },
  {
   "cell_type": "markdown",
   "metadata": {},
   "source": [
    "### TfidfVectorizer"
   ]
  },
  {
   "cell_type": "code",
   "execution_count": 26,
   "metadata": {},
   "outputs": [
    {
     "data": {
      "text/html": [
       "<div>\n",
       "<style scoped>\n",
       "    .dataframe tbody tr th:only-of-type {\n",
       "        vertical-align: middle;\n",
       "    }\n",
       "\n",
       "    .dataframe tbody tr th {\n",
       "        vertical-align: top;\n",
       "    }\n",
       "\n",
       "    .dataframe thead th {\n",
       "        text-align: right;\n",
       "    }\n",
       "</style>\n",
       "<table border=\"1\" class=\"dataframe\">\n",
       "  <thead>\n",
       "    <tr style=\"text-align: right;\">\n",
       "      <th></th>\n",
       "      <th>000</th>\n",
       "      <th>10</th>\n",
       "      <th>100</th>\n",
       "      <th>11</th>\n",
       "      <th>12</th>\n",
       "      <th>13</th>\n",
       "      <th>15</th>\n",
       "      <th>19</th>\n",
       "      <th>20</th>\n",
       "      <th>2020</th>\n",
       "      <th>...</th>\n",
       "      <th>won</th>\n",
       "      <th>work</th>\n",
       "      <th>workers</th>\n",
       "      <th>working</th>\n",
       "      <th>world</th>\n",
       "      <th>xiaomi</th>\n",
       "      <th>year</th>\n",
       "      <th>years</th>\n",
       "      <th>young</th>\n",
       "      <th>youtube</th>\n",
       "    </tr>\n",
       "  </thead>\n",
       "  <tbody>\n",
       "    <tr>\n",
       "      <th>0</th>\n",
       "      <td>0.0</td>\n",
       "      <td>0.0</td>\n",
       "      <td>0.0</td>\n",
       "      <td>0.0</td>\n",
       "      <td>0.0</td>\n",
       "      <td>0.0</td>\n",
       "      <td>0.0</td>\n",
       "      <td>0.000000</td>\n",
       "      <td>0.0</td>\n",
       "      <td>0.0</td>\n",
       "      <td>...</td>\n",
       "      <td>0.0</td>\n",
       "      <td>0.0</td>\n",
       "      <td>0.0</td>\n",
       "      <td>0.0</td>\n",
       "      <td>0.0</td>\n",
       "      <td>0.0</td>\n",
       "      <td>0.0</td>\n",
       "      <td>0.0</td>\n",
       "      <td>0.0</td>\n",
       "      <td>0.0</td>\n",
       "    </tr>\n",
       "    <tr>\n",
       "      <th>1</th>\n",
       "      <td>0.0</td>\n",
       "      <td>0.0</td>\n",
       "      <td>0.0</td>\n",
       "      <td>0.0</td>\n",
       "      <td>0.0</td>\n",
       "      <td>0.0</td>\n",
       "      <td>0.0</td>\n",
       "      <td>0.000000</td>\n",
       "      <td>0.0</td>\n",
       "      <td>0.0</td>\n",
       "      <td>...</td>\n",
       "      <td>0.0</td>\n",
       "      <td>0.0</td>\n",
       "      <td>0.0</td>\n",
       "      <td>0.0</td>\n",
       "      <td>0.0</td>\n",
       "      <td>0.0</td>\n",
       "      <td>0.0</td>\n",
       "      <td>0.0</td>\n",
       "      <td>0.0</td>\n",
       "      <td>0.0</td>\n",
       "    </tr>\n",
       "    <tr>\n",
       "      <th>2</th>\n",
       "      <td>0.0</td>\n",
       "      <td>0.0</td>\n",
       "      <td>0.0</td>\n",
       "      <td>0.0</td>\n",
       "      <td>0.0</td>\n",
       "      <td>0.0</td>\n",
       "      <td>0.0</td>\n",
       "      <td>0.381733</td>\n",
       "      <td>0.0</td>\n",
       "      <td>0.0</td>\n",
       "      <td>...</td>\n",
       "      <td>0.0</td>\n",
       "      <td>0.0</td>\n",
       "      <td>0.0</td>\n",
       "      <td>0.0</td>\n",
       "      <td>0.0</td>\n",
       "      <td>0.0</td>\n",
       "      <td>0.0</td>\n",
       "      <td>0.0</td>\n",
       "      <td>0.0</td>\n",
       "      <td>0.0</td>\n",
       "    </tr>\n",
       "    <tr>\n",
       "      <th>3</th>\n",
       "      <td>0.0</td>\n",
       "      <td>0.0</td>\n",
       "      <td>0.0</td>\n",
       "      <td>0.0</td>\n",
       "      <td>0.0</td>\n",
       "      <td>0.0</td>\n",
       "      <td>0.0</td>\n",
       "      <td>0.167659</td>\n",
       "      <td>0.0</td>\n",
       "      <td>0.0</td>\n",
       "      <td>...</td>\n",
       "      <td>0.0</td>\n",
       "      <td>0.0</td>\n",
       "      <td>0.0</td>\n",
       "      <td>0.0</td>\n",
       "      <td>0.0</td>\n",
       "      <td>0.0</td>\n",
       "      <td>0.0</td>\n",
       "      <td>0.0</td>\n",
       "      <td>0.0</td>\n",
       "      <td>0.0</td>\n",
       "    </tr>\n",
       "    <tr>\n",
       "      <th>4</th>\n",
       "      <td>0.0</td>\n",
       "      <td>0.0</td>\n",
       "      <td>0.0</td>\n",
       "      <td>0.0</td>\n",
       "      <td>0.0</td>\n",
       "      <td>0.0</td>\n",
       "      <td>0.0</td>\n",
       "      <td>0.000000</td>\n",
       "      <td>0.0</td>\n",
       "      <td>0.0</td>\n",
       "      <td>...</td>\n",
       "      <td>0.0</td>\n",
       "      <td>0.0</td>\n",
       "      <td>0.0</td>\n",
       "      <td>0.0</td>\n",
       "      <td>0.0</td>\n",
       "      <td>0.0</td>\n",
       "      <td>0.0</td>\n",
       "      <td>0.0</td>\n",
       "      <td>0.0</td>\n",
       "      <td>0.0</td>\n",
       "    </tr>\n",
       "  </tbody>\n",
       "</table>\n",
       "<p>5 rows × 500 columns</p>\n",
       "</div>"
      ],
      "text/plain": [
       "   000   10  100   11   12   13   15        19   20  2020  ...  won  work  \\\n",
       "0  0.0  0.0  0.0  0.0  0.0  0.0  0.0  0.000000  0.0   0.0  ...  0.0   0.0   \n",
       "1  0.0  0.0  0.0  0.0  0.0  0.0  0.0  0.000000  0.0   0.0  ...  0.0   0.0   \n",
       "2  0.0  0.0  0.0  0.0  0.0  0.0  0.0  0.381733  0.0   0.0  ...  0.0   0.0   \n",
       "3  0.0  0.0  0.0  0.0  0.0  0.0  0.0  0.167659  0.0   0.0  ...  0.0   0.0   \n",
       "4  0.0  0.0  0.0  0.0  0.0  0.0  0.0  0.000000  0.0   0.0  ...  0.0   0.0   \n",
       "\n",
       "   workers  working  world  xiaomi  year  years  young  youtube  \n",
       "0      0.0      0.0    0.0     0.0   0.0    0.0    0.0      0.0  \n",
       "1      0.0      0.0    0.0     0.0   0.0    0.0    0.0      0.0  \n",
       "2      0.0      0.0    0.0     0.0   0.0    0.0    0.0      0.0  \n",
       "3      0.0      0.0    0.0     0.0   0.0    0.0    0.0      0.0  \n",
       "4      0.0      0.0    0.0     0.0   0.0    0.0    0.0      0.0  \n",
       "\n",
       "[5 rows x 500 columns]"
      ]
     },
     "execution_count": 26,
     "metadata": {},
     "output_type": "execute_result"
    }
   ],
   "source": [
    "tfidf = TfidfVectorizer(stop_words='english', max_features=500)\n",
    "X_train_tfidf = tfidf.fit_transform(X_train)\n",
    "tfidf_df = pd.DataFrame(X_train_tfidf.toarray(), columns = tfidf.get_feature_names())\n",
    "tfidf_df.head()"
   ]
  },
  {
   "cell_type": "code",
   "execution_count": 27,
   "metadata": {},
   "outputs": [],
   "source": [
    "pipe_tfidf = make_pipeline(\n",
    "    TfidfVectorizer(stop_words='english', max_features=500),\n",
    "    StandardScaler(with_mean=False),\n",
    "    LogisticRegression(max_iter=10000),\n",
    ")"
   ]
  },
  {
   "cell_type": "code",
   "execution_count": 28,
   "metadata": {},
   "outputs": [],
   "source": [
    "params = {\n",
    "    'tfidfvectorizer__max_features': [100, 200, 500, 800, 1000],\n",
    "    'tfidfvectorizer__ngram_range': [(1, 2), (2, 2)],\n",
    "    'logisticregression__C': [0.001, 0.01, 0.1, 1, 10, 100]\n",
    "}\n",
    "grid_tfidf = GridSearchCV(pipe_tfidf, params)"
   ]
  },
  {
   "cell_type": "code",
   "execution_count": 29,
   "metadata": {},
   "outputs": [
    {
     "data": {
      "text/plain": [
       "GridSearchCV(estimator=Pipeline(steps=[('tfidfvectorizer',\n",
       "                                        TfidfVectorizer(max_features=500,\n",
       "                                                        stop_words='english')),\n",
       "                                       ('standardscaler',\n",
       "                                        StandardScaler(with_mean=False)),\n",
       "                                       ('logisticregression',\n",
       "                                        LogisticRegression(max_iter=10000))]),\n",
       "             param_grid={'logisticregression__C': [0.001, 0.01, 0.1, 1, 10,\n",
       "                                                   100],\n",
       "                         'tfidfvectorizer__max_features': [100, 200, 500, 800,\n",
       "                                                           1000],\n",
       "                         'tfidfvectorizer__ngram_range': [(1, 2), (2, 2)]})"
      ]
     },
     "execution_count": 29,
     "metadata": {},
     "output_type": "execute_result"
    }
   ],
   "source": [
    "grid_tfidf.fit(X_train, y_train)"
   ]
  },
  {
   "cell_type": "code",
   "execution_count": 30,
   "metadata": {},
   "outputs": [
    {
     "data": {
      "text/plain": [
       "Pipeline(steps=[('tfidfvectorizer',\n",
       "                 TfidfVectorizer(max_features=1000, ngram_range=(1, 2),\n",
       "                                 stop_words='english')),\n",
       "                ('standardscaler', StandardScaler(with_mean=False)),\n",
       "                ('logisticregression',\n",
       "                 LogisticRegression(C=0.001, max_iter=10000))])"
      ]
     },
     "execution_count": 30,
     "metadata": {},
     "output_type": "execute_result"
    }
   ],
   "source": [
    "grid_tfidf.best_estimator_"
   ]
  },
  {
   "cell_type": "code",
   "execution_count": 31,
   "metadata": {},
   "outputs": [
    {
     "data": {
      "image/png": "[encoded data removed]",
      "text/plain": [
       "<Figure size 432x288 with 2 Axes>"
      ]
     },
     "metadata": {
      "needs_background": "light"
     },
     "output_type": "display_data"
    }
   ],
   "source": [
    "plot_confusion_matrix(grid_tfidf, X_train, y_train);"
   ]
  },
  {
   "cell_type": "markdown",
   "metadata": {},
   "source": [
    "- False positives: 341 were science, labeled as technology\n",
    "- False negatives: 266 technology, labled as science"
   ]
  },
  {
   "cell_type": "markdown",
   "metadata": {},
   "source": [
    "### Tfidf Score"
   ]
  },
  {
   "cell_type": "code",
   "execution_count": 32,
   "metadata": {},
   "outputs": [],
   "source": [
    "preds_tfidf = grid_tfidf.best_estimator_.predict(X_test)"
   ]
  },
  {
   "cell_type": "code",
   "execution_count": 33,
   "metadata": {},
   "outputs": [],
   "source": [
    "precision_tfidf = precision_score(y_test, preds_tfidf, pos_label='science')\n",
    "recall_tfidf = recall_score(y_test, preds_tfidf, pos_label='science')\n",
    "f1_tfidf = 2 * (precision_tfidf * recall_tfidf) / (precision_tfidf + recall_tfidf)"
   ]
  },
  {
   "cell_type": "code",
   "execution_count": 34,
   "metadata": {},
   "outputs": [
    {
     "name": "stdout",
     "output_type": "stream",
     "text": [
      "The accuracy training score is    0.8985289200936142\n",
      "The accuracy testing score is     0.8645937813440321\n",
      "The bac score is                  0.8624486654823467\n",
      "The f1_score score is             0.881161971830986\n",
      "The precision is                  0.8850574712643678\n",
      "The recall is                     0.8773006134969326\n"
     ]
    }
   ],
   "source": [
    "print(f'The accuracy training score is    {grid_tfidf.score(X_train, y_train)}')\n",
    "print(f'The accuracy testing score is     {grid_tfidf.score(X_test, y_test)}')\n",
    "print(f'The bac score is                  {balanced_accuracy_score(y_test, grid_tfidf.predict(X_test))}')\n",
    "print(f'The f1_score score is             {f1_tfidf}')\n",
    "print(f'The precision is                  {precision_tfidf}')\n",
    "print(f'The recall is                     {recall_tfidf}')"
   ]
  },
  {
   "cell_type": "markdown",
   "metadata": {},
   "source": [
    "- This model did slightly better than without Tfidf"
   ]
  },
  {
   "cell_type": "markdown",
   "metadata": {},
   "source": [
    "### Lemmatizer"
   ]
  },
  {
   "cell_type": "code",
   "execution_count": 35,
   "metadata": {},
   "outputs": [],
   "source": [
    "class LemmaTokenizer:\n",
    "    def __init__(self):\n",
    "        self.lemmatizer = WordNetLemmatizer()\n",
    "    def __call__(self, doc):\n",
    "        return [self.lemmatizer.lemmatize(t) for t in word_tokenize(doc)]"
   ]
  },
  {
   "cell_type": "code",
   "execution_count": 36,
   "metadata": {},
   "outputs": [
    {
     "name": "stderr",
     "output_type": "stream",
     "text": [
      "c:\\programdata\\miniconda3\\lib\\site-packages\\sklearn\\feature_extraction\\text.py:388: UserWarning: Your stop_words may be inconsistent with your preprocessing. Tokenizing the stop words generated tokens ['ha', 'le', 'u', 'wa'] not in stop_words.\n",
      "  warnings.warn('Your stop_words may be inconsistent with '\n"
     ]
    },
    {
     "data": {
      "text/plain": [
       "Pipeline(steps=[('countvectorizer',\n",
       "                 CountVectorizer(max_features=500, stop_words='english',\n",
       "                                 tokenizer=<__main__.LemmaTokenizer object at 0x000002CEB201C040>)),\n",
       "                ('standardscaler', StandardScaler(with_mean=False)),\n",
       "                ('logisticregression', LogisticRegression(max_iter=1000))])"
      ]
     },
     "execution_count": 36,
     "metadata": {},
     "output_type": "execute_result"
    }
   ],
   "source": [
    "pipe_lemtok = make_pipeline(CountVectorizer(tokenizer=LemmaTokenizer(), stop_words='english', max_features=500),\n",
    "                    StandardScaler(with_mean=False),\n",
    "                    LogisticRegression(max_iter=1000))\n",
    "\n",
    "pipe_lemtok.fit(X_train, y_train)"
   ]
  },
  {
   "cell_type": "markdown",
   "metadata": {},
   "source": [
    "### Logistic Regression with Lemmatizer"
   ]
  },
  {
   "cell_type": "code",
   "execution_count": 37,
   "metadata": {},
   "outputs": [],
   "source": [
    "preds_lemtok = pipe_lemtok.predict(X_test)"
   ]
  },
  {
   "cell_type": "code",
   "execution_count": 38,
   "metadata": {},
   "outputs": [],
   "source": [
    "precision_lemtok = precision_score(y_test, preds_lemtok, pos_label='science')\n",
    "recall_lemtok = recall_score(y_test, preds_lemtok, pos_label='science')\n",
    "f1_lemtok = 2 * (precision_lemtok * recall_lemtok) / (precision_lemtok + recall_lemtok)"
   ]
  },
  {
   "cell_type": "code",
   "execution_count": 39,
   "metadata": {},
   "outputs": [
    {
     "name": "stdout",
     "output_type": "stream",
     "text": [
      "The accuracy training score is    0.8749582079572049\n",
      "The accuracy testing score is     0.8415245737211635\n",
      "The bac score is                  0.8409593197386551\n",
      "The f1_score score is             0.8591800356506238\n",
      "The precision is                  0.8739800543970988\n",
      "The recall is                     0.8448729184925504\n"
     ]
    }
   ],
   "source": [
    "print(f'The accuracy training score is    {pipe_lemtok.score(X_train, y_train)}')\n",
    "print(f'The accuracy testing score is     {pipe_lemtok.score(X_test, y_test)}')\n",
    "print(f'The bac score is                  {balanced_accuracy_score(y_test, pipe_lemtok.predict(X_test))}')\n",
    "print(f'The f1_score score is             {f1_lemtok}')\n",
    "print(f'The precision is                  {precision_lemtok}')\n",
    "print(f'The recall is                     {recall_lemtok}')"
   ]
  },
  {
   "cell_type": "code",
   "execution_count": 40,
   "metadata": {},
   "outputs": [
    {
     "data": {
      "image/png": "[encoded data removed]",
      "text/plain": [
       "<Figure size 432x288 with 2 Axes>"
      ]
     },
     "metadata": {
      "needs_background": "light"
     },
     "output_type": "display_data"
    }
   ],
   "source": [
    "plot_confusion_matrix(pipe_lemtok, X_test, y_test);"
   ]
  },
  {
   "cell_type": "markdown",
   "metadata": {},
   "source": [
    "- This model did slightly worse overall with balanced accuracy and f1-score.\n",
    "- This model had less false positives and false negatives."
   ]
  }
 ],
 "metadata": {
  "kernelspec": {
   "display_name": "Python 3",
   "language": "python",
   "name": "python3"
  },
  "language_info": {
   "codemirror_mode": {
    "name": "ipython",
    "version": 3
   },
   "file_extension": ".py",
   "mimetype": "text/x-python",
   "name": "python",
   "nbconvert_exporter": "python",
   "pygments_lexer": "ipython3",
   "version": "3.8.5"
  }
 },
 "nbformat": 4,
 "nbformat_minor": 4
}
