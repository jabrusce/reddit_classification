{
 "cells": [
  {
   "cell_type": "markdown",
   "metadata": {},
   "source": [
    "# Import Libraries"
   ]
  },
  {
   "cell_type": "code",
   "execution_count": 3,
   "metadata": {},
   "outputs": [],
   "source": [
    "import pandas as pd\n",
    "import requests\n",
    "import numpy as np\n",
    "import time"
   ]
  },
  {
   "cell_type": "markdown",
   "metadata": {},
   "source": [
    "# Subreddit: Science (Comments)"
   ]
  },
  {
   "cell_type": "code",
   "execution_count": 5,
   "metadata": {
    "collapsed": true,
    "jupyter": {
     "outputs_hidden": true
    }
   },
   "outputs": [
    {
     "name": "stdout",
     "output_type": "stream",
     "text": [
      "pull number 1 Complete utc is 1610793794\n",
      "pull number 2 Complete utc is 1610788500\n",
      "pull number 3 Complete utc is 1610783672\n",
      "pull number 4 Complete utc is 1610779705\n",
      "pull number 5 Complete utc is 1610776431\n",
      "pull number 6 Complete utc is 1610773202\n",
      "pull number 7 Complete utc is 1610771200\n",
      "pull number 8 Complete utc is 1610769390\n",
      "pull number 9 Complete utc is 1610768016\n",
      "pull number 10 Complete utc is 1610766780\n",
      "pull number 11 Complete utc is 1610765576\n",
      "pull number 12 Complete utc is 1610764498\n",
      "pull number 13 Complete utc is 1610763265\n",
      "pull number 14 Complete utc is 1610761935\n",
      "pull number 15 Complete utc is 1610760778\n",
      "pull number 16 Complete utc is 1610759672\n",
      "pull number 17 Complete utc is 1610758695\n",
      "pull number 18 Complete utc is 1610757407\n",
      "pull number 19 Complete utc is 1610755911\n",
      "pull number 20 Complete utc is 1610754242\n",
      "pull number 21 Complete utc is 1610752967\n",
      "pull number 22 Complete utc is 1610751881\n",
      "pull number 23 Complete utc is 1610750481\n",
      "pull number 24 Complete utc is 1610748780\n",
      "pull number 25 Complete utc is 1610746573\n",
      "pull number 26 Complete utc is 1610744543\n",
      "pull number 27 Complete utc is 1610741555\n",
      "pull number 28 Complete utc is 1610739161\n",
      "pull number 29 Complete utc is 1610737301\n",
      "pull number 30 Complete utc is 1610735396\n",
      "pull number 31 Complete utc is 1610733274\n",
      "pull number 32 Complete utc is 1610731414\n",
      "pull number 33 Complete utc is 1610729871\n",
      "pull number 34 Complete utc is 1610727746\n",
      "pull number 35 Complete utc is 1610726637\n",
      "pull number 36 Complete utc is 1610725588\n",
      "pull number 37 Complete utc is 1610724253\n",
      "pull number 38 Complete utc is 1610723217\n",
      "pull number 39 Complete utc is 1610722199\n",
      "pull number 40 Complete utc is 1610721223\n",
      "pull number 41 Complete utc is 1610720384\n",
      "pull number 42 Complete utc is 1610719752\n",
      "pull number 43 Complete utc is 1610719065\n",
      "pull number 44 Complete utc is 1610718205\n",
      "pull number 45 Complete utc is 1610717559\n",
      "pull number 46 Complete utc is 1610716707\n",
      "pull number 47 Complete utc is 1610716011\n",
      "pull number 48 Complete utc is 1610715206\n",
      "pull number 49 Complete utc is 1610714521\n",
      "pull number 50 Complete utc is 1610713748\n"
     ]
    }
   ],
   "source": [
    "# This function will collect 100 comments for the subreddit specified \n",
    "# and loop over the function 50 times (5000 posts total)\n",
    "\n",
    "utc = 1610798400\n",
    "#Jan 16 2021 @ 12:00:00 PM GMT\n",
    "\n",
    "posts_master_science_comments = pd.DataFrame(columns = ['body', 'subreddit', 'created_utc', 'author', 'permalink', 'id', 'num_crossposts', 'total_awards_received', 'score'])\n",
    "               \n",
    "for pull in range(50):\n",
    "    try:\n",
    "        query = f'https://api.pushshift.io/reddit/search/comment/?subreddit=science&size=100&before={utc}'\n",
    "        res = requests.get(query)\n",
    "        data = res.json()['data']\n",
    "        pull_dict = {\n",
    "            'created_utc': [],\n",
    "            'author': [],\n",
    "            'body': [],\n",
    "            'subreddit': [],\n",
    "#             'permalink': [],            \n",
    "#             'id': [],\n",
    "#             'num_crossposts': [],\n",
    "#             'total_awards_received': [],\n",
    "#             'score': [],\n",
    "        }\n",
    "        for i in data:\n",
    "            pull_dict['created_utc'].append(i['created_utc'])\n",
    "            pull_dict['author'].append(i['author'])\n",
    "            pull_dict['body'].append(i['body'])\n",
    "            pull_dict['subreddit'].append(i['subreddit'])\n",
    "#             pull_dict['permalink'].append(i['permalink'])\n",
    "#             pull_dict['id'].append(i['id'])\n",
    "#             pull_dict['num_crossposts'].append(i['num_crossposts'])\n",
    "#             pull_dict['total_awards_received'].append(i['total_awards_received'])\n",
    "#             pull_dict['score'].append(i['score'])\n",
    "        temp_posts = pd.DataFrame(pull_dict)\n",
    "        posts_master_science_comments = pd.concat([posts_master_science_comments, temp_posts])\n",
    "        utc = posts_master_science_comments['created_utc'].astype('int64').min()\n",
    "        time.sleep(75)\n",
    "        print(f'pull number {pull + 1} Complete utc is {utc}') \n",
    "    except:\n",
    "        print('error')\n",
    "        pass"
   ]
  },
  {
   "cell_type": "code",
   "execution_count": 6,
   "metadata": {},
   "outputs": [
    {
     "data": {
      "text/plain": [
       "(5000, 9)"
      ]
     },
     "execution_count": 6,
     "metadata": {},
     "output_type": "execute_result"
    }
   ],
   "source": [
    "posts_master_science_comments.shape"
   ]
  },
  {
   "cell_type": "markdown",
   "metadata": {},
   "source": [
    "### Export to csv"
   ]
  },
  {
   "cell_type": "code",
   "execution_count": 7,
   "metadata": {},
   "outputs": [],
   "source": [
    "# posts_master_science_comments.to_csv('./data/posts_master_science_comments.csv')"
   ]
  },
  {
   "cell_type": "markdown",
   "metadata": {},
   "source": [
    "# Subreddit: Technology (Comments)"
   ]
  },
  {
   "cell_type": "code",
   "execution_count": 8,
   "metadata": {
    "collapsed": true,
    "jupyter": {
     "outputs_hidden": true
    }
   },
   "outputs": [
    {
     "name": "stdout",
     "output_type": "stream",
     "text": [
      "pull number 1 Complete utc is 1610796263\n",
      "pull number 2 Complete utc is 1610793590\n",
      "pull number 3 Complete utc is 1610791476\n",
      "pull number 4 Complete utc is 1610788731\n",
      "pull number 5 Complete utc is 1610786526\n",
      "pull number 6 Complete utc is 1610784305\n",
      "pull number 7 Complete utc is 1610782913\n",
      "pull number 8 Complete utc is 1610781285\n",
      "pull number 9 Complete utc is 1610780047\n",
      "pull number 10 Complete utc is 1610779138\n",
      "pull number 11 Complete utc is 1610777985\n",
      "pull number 12 Complete utc is 1610777127\n",
      "pull number 13 Complete utc is 1610776385\n",
      "pull number 14 Complete utc is 1610775611\n",
      "pull number 15 Complete utc is 1610774843\n",
      "pull number 16 Complete utc is 1610773948\n",
      "pull number 17 Complete utc is 1610773099\n",
      "pull number 18 Complete utc is 1610772477\n",
      "pull number 19 Complete utc is 1610771703\n",
      "pull number 20 Complete utc is 1610770979\n",
      "pull number 21 Complete utc is 1610770241\n",
      "pull number 22 Complete utc is 1610769592\n",
      "pull number 23 Complete utc is 1610769125\n",
      "pull number 24 Complete utc is 1610768558\n",
      "pull number 25 Complete utc is 1610768089\n",
      "pull number 26 Complete utc is 1610767683\n",
      "pull number 27 Complete utc is 1610767235\n",
      "pull number 28 Complete utc is 1610766829\n",
      "pull number 29 Complete utc is 1610766497\n",
      "pull number 30 Complete utc is 1610766101\n",
      "pull number 31 Complete utc is 1610765726\n",
      "pull number 32 Complete utc is 1610765417\n",
      "pull number 33 Complete utc is 1610765026\n",
      "pull number 34 Complete utc is 1610764703\n",
      "pull number 35 Complete utc is 1610764328\n",
      "pull number 36 Complete utc is 1610763826\n",
      "pull number 37 Complete utc is 1610763375\n",
      "pull number 38 Complete utc is 1610762846\n",
      "pull number 39 Complete utc is 1610762118\n",
      "pull number 40 Complete utc is 1610761363\n",
      "pull number 41 Complete utc is 1610760611\n",
      "pull number 42 Complete utc is 1610759744\n",
      "pull number 43 Complete utc is 1610758915\n",
      "pull number 44 Complete utc is 1610757600\n",
      "pull number 45 Complete utc is 1610756190\n",
      "pull number 46 Complete utc is 1610754589\n",
      "pull number 47 Complete utc is 1610752669\n",
      "pull number 48 Complete utc is 1610750561\n",
      "pull number 49 Complete utc is 1610748161\n",
      "pull number 50 Complete utc is 1610745977\n"
     ]
    }
   ],
   "source": [
    "# This function will collect 100 comments for the subreddit specified \n",
    "# and loop over the function 50 times (5000 posts total)\n",
    "\n",
    "utc = 1610798400\n",
    "#Jan 16 2021 @ 12:00:00 PM GMT\n",
    "\n",
    "posts_master_technology_comments = pd.DataFrame(columns = ['body', 'subreddit', 'created_utc', 'author', 'permalink', 'id', 'num_crossposts', 'total_awards_received', 'score'])\n",
    "               \n",
    "for pull in range(50):\n",
    "    try:\n",
    "        query = f'https://api.pushshift.io/reddit/search/comment/?subreddit=technology&size=100&before={utc}'\n",
    "        res = requests.get(query)\n",
    "        data = res.json()['data']\n",
    "        pull_dict = {\n",
    "            'created_utc': [],\n",
    "            'author': [],\n",
    "            'body': [],\n",
    "            'subreddit': [],\n",
    "#             'permalink': [],            \n",
    "#             'id': [],\n",
    "#             'num_crossposts': [],\n",
    "#             'total_awards_received': [],\n",
    "#             'score': [],\n",
    "        }\n",
    "        for i in data:\n",
    "            pull_dict['created_utc'].append(i['created_utc'])\n",
    "            pull_dict['author'].append(i['author'])\n",
    "            pull_dict['body'].append(i['body'])\n",
    "            pull_dict['subreddit'].append(i['subreddit'])\n",
    "#             pull_dict['permalink'].append(i['permalink'])\n",
    "#             pull_dict['id'].append(i['id'])\n",
    "#             pull_dict['num_crossposts'].append(i['num_crossposts'])\n",
    "#             pull_dict['total_awards_received'].append(i['total_awards_received'])\n",
    "#             pull_dict['score'].append(i['score'])\n",
    "        temp_posts = pd.DataFrame(pull_dict)\n",
    "        posts_master_technology_comments = pd.concat([posts_master_technology_comments, temp_posts])\n",
    "        utc = posts_master_technology_comments['created_utc'].astype('int64').min()\n",
    "        time.sleep(75)\n",
    "        print(f'pull number {pull + 1} Complete utc is {utc}') \n",
    "    except:\n",
    "        print('error')\n",
    "        pass"
   ]
  },
  {
   "cell_type": "code",
   "execution_count": 9,
   "metadata": {},
   "outputs": [
    {
     "data": {
      "text/plain": [
       "(5000, 9)"
      ]
     },
     "execution_count": 9,
     "metadata": {},
     "output_type": "execute_result"
    }
   ],
   "source": [
    "posts_master_technology_comments.shape"
   ]
  },
  {
   "cell_type": "markdown",
   "metadata": {},
   "source": [
    "### Export to csv"
   ]
  },
  {
   "cell_type": "code",
   "execution_count": 10,
   "metadata": {},
   "outputs": [],
   "source": [
    "# posts_master_technology_comments.to_csv('./data/posts_master_technology_comments.csv')"
   ]
  }
 ],
 "metadata": {
  "kernelspec": {
   "display_name": "Python 3",
   "language": "python",
   "name": "python3"
  },
  "language_info": {
   "codemirror_mode": {
    "name": "ipython",
    "version": 3
   },
   "file_extension": ".py",
   "mimetype": "text/x-python",
   "name": "python",
   "nbconvert_exporter": "python",
   "pygments_lexer": "ipython3",
   "version": "3.8.5"
  }
 },
 "nbformat": 4,
 "nbformat_minor": 4
}
